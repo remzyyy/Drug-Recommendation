{
  "metadata": {
    "kernelspec": {
      "display_name": "Python 3",
      "name": "python3"
    },
    "language_info": {
      "name": "python",
      "version": "3.10.12",
      "mimetype": "text/x-python",
      "codemirror_mode": {
        "name": "ipython",
        "version": 3
      },
      "pygments_lexer": "ipython3",
      "nbconvert_exporter": "python",
      "file_extension": ".py"
    },
    "kaggle": {
      "accelerator": "nvidiaTeslaT4",
      "dataSources": [
        {
          "sourceId": 171475,
          "sourceType": "datasetVersion",
          "datasetId": 76158
        },
        {
          "sourceId": 10364081,
          "sourceType": "datasetVersion",
          "datasetId": 6419087
        },
        {
          "sourceId": 10500030,
          "sourceType": "datasetVersion",
          "datasetId": 6501071
        }
      ],
      "isInternetEnabled": true,
      "language": "python",
      "sourceType": "notebook",
      "isGpuEnabled": true
    },
    "colab": {
      "provenance": [],
      "gpuType": "T4",
      "include_colab_link": true
    },
    "accelerator": "GPU"
  },
  "nbformat_minor": 0,
  "nbformat": 4,
  "cells": [
    {
      "cell_type": "markdown",
      "metadata": {
        "id": "view-in-github",
        "colab_type": "text"
      },
      "source": [
        "<a href=\"https://colab.research.google.com/github/darkxdd/Disease-Prediction-and-Drug-Recommendation-Prototype/blob/main/Major.ipynb\" target=\"_parent\"><img src=\"https://colab.research.google.com/assets/colab-badge.svg\" alt=\"Open In Colab\"/></a>"
      ]
    },
    {
      "source": [
        "# IMPORTANT: SOME KAGGLE DATA SOURCES ARE PRIVATE\n",
        "# RUN THIS CELL IN ORDER TO IMPORT YOUR KAGGLE DATA SOURCES.\n",
        "\n",
        "!ls /root/.cache/kagglehub/datasets/jessicali9530/kuc-hackathon-winter-2018/2.complete"
      ],
      "metadata": {
        "colab": {
          "base_uri": "https://localhost:8080/"
        },
        "id": "56n-FAYQZPdC",
        "outputId": "9cd821c4-3481-43ec-f9d7-88cf97e719bb"
      },
      "cell_type": "code",
      "outputs": [
        {
          "output_type": "stream",
          "name": "stdout",
          "text": [
            "ls: cannot access '/root/.cache/kagglehub/datasets/jessicali9530/kuc-hackathon-winter-2018/2.complete': No such file or directory\n"
          ]
        }
      ],
      "execution_count": 1
    },
    {
      "source": [
        "# IMPORTANT: RUN THIS CELL IN ORDER TO IMPORT YOUR KAGGLE DATA SOURCES,\n",
        "# THEN FEEL FREE TO DELETE THIS CELL.\n",
        "# NOTE: THIS NOTEBOOK ENVIRONMENT DIFFERS FROM KAGGLE'S PYTHON\n",
        "# ENVIRONMENT SO THERE MAY BE MISSING LIBRARIES USED BY YOUR\n",
        "# NOTEBOOK.\n",
        "import kagglehub\n",
        "jessicali9530_kuc_hackathon_winter_2018_path = kagglehub.dataset_download('jessicali9530/kuc-hackathon-winter-2018')\n",
        "\n",
        "\n",
        "print('Data source import complete.')\n",
        "\n",
        "!cp -r /root/.cache/kagglehub/datasets/jessicali9530/kuc-hackathon-winter-2018/ /content/"
      ],
      "metadata": {
        "colab": {
          "base_uri": "https://localhost:8080/"
        },
        "id": "DqtcHUD2ZPdD",
        "outputId": "ab37a046-f5c1-4722-9d91-5f1264eebc68"
      },
      "cell_type": "code",
      "outputs": [
        {
          "output_type": "stream",
          "name": "stdout",
          "text": [
            "Downloading from https://www.kaggle.com/api/v1/datasets/download/jessicali9530/kuc-hackathon-winter-2018?dataset_version_number=2...\n"
          ]
        },
        {
          "output_type": "stream",
          "name": "stderr",
          "text": [
            "100%|██████████| 40.7M/40.7M [00:01<00:00, 38.2MB/s]"
          ]
        },
        {
          "output_type": "stream",
          "name": "stdout",
          "text": [
            "Extracting files...\n"
          ]
        },
        {
          "output_type": "stream",
          "name": "stderr",
          "text": [
            "\n"
          ]
        },
        {
          "output_type": "stream",
          "name": "stdout",
          "text": [
            "Data source import complete.\n"
          ]
        }
      ],
      "execution_count": 2
    },
    {
      "cell_type": "code",
      "source": [
        "# This Python 3 environment comes with many helpful analytics libraries installed\n",
        "# It is defined by the kaggle/python Docker image: https://github.com/kaggle/docker-python\n",
        "# For example, here's several helpful packages to load\n",
        "\n",
        "import numpy as np # linear algebra\n",
        "import pandas as pd # data processing, CSV file I/O (e.g. pd.read_csv)\n",
        "\n",
        "# Input data files are available in the read-only \"../input/\" directory\n",
        "# For example, running this (by clicking run or pressing Shift+Enter) will list all files under the input directory\n",
        "\n",
        "import os\n",
        "for dirname, _, filenames in os.walk('/content/kuc-hackathon-winter-2018/versions/2/'):\n",
        "    for filename in filenames:\n",
        "        print(os.path.join(dirname, filename))\n",
        "\n",
        "# You can write up to 20GB to the current directory (/kaggle/working/) that gets preserved as output when you create a version using \"Save & Run All\"\n",
        "# You can also write temporary files to /kaggle/temp/, but they won't be saved outside of the current session"
      ],
      "metadata": {
        "_uuid": "8f2839f25d086af736a60e9eeb907d3b93b6e0e5",
        "_cell_guid": "b1076dfc-b9ad-4769-8c92-a6c4dae69d19",
        "trusted": true,
        "execution": {
          "iopub.status.busy": "2025-01-17T18:46:25.946311Z",
          "iopub.execute_input": "2025-01-17T18:46:25.946534Z",
          "iopub.status.idle": "2025-01-17T18:46:26.931454Z",
          "shell.execute_reply.started": "2025-01-17T18:46:25.946512Z",
          "shell.execute_reply": "2025-01-17T18:46:26.930419Z"
        },
        "colab": {
          "base_uri": "https://localhost:8080/"
        },
        "id": "_rSKhzz-ZPdE",
        "outputId": "41b311ad-4d81-4456-b32d-c5071910b271"
      },
      "outputs": [
        {
          "output_type": "stream",
          "name": "stdout",
          "text": [
            "/content/kuc-hackathon-winter-2018/versions/2/drugsComTest_raw.csv\n",
            "/content/kuc-hackathon-winter-2018/versions/2/drugsComTrain_raw.csv\n"
          ]
        }
      ],
      "execution_count": 3
    },
    {
      "cell_type": "code",
      "source": [
        "# Import basic libraries\n",
        "import pandas as pd\n",
        "import numpy as np\n",
        "import matplotlib.pyplot as plt\n",
        "import seaborn as sns\n",
        "from sklearn.model_selection import train_test_split"
      ],
      "metadata": {
        "trusted": true,
        "execution": {
          "iopub.status.busy": "2025-01-17T18:48:12.208216Z",
          "iopub.execute_input": "2025-01-17T18:48:12.208559Z",
          "iopub.status.idle": "2025-01-17T18:48:12.213235Z",
          "shell.execute_reply.started": "2025-01-17T18:48:12.208531Z",
          "shell.execute_reply": "2025-01-17T18:48:12.211999Z"
        },
        "id": "AjGbApQiZPdE"
      },
      "outputs": [],
      "execution_count": 4
    },
    {
      "cell_type": "code",
      "source": [
        "# Let's see the input\n",
        "data1 = pd.read_csv(\"/content/kuc-hackathon-winter-2018/versions/2/drugsComTrain_raw.csv\")\n",
        "data2 = pd.read_csv(\"/content/kuc-hackathon-winter-2018/versions/2/drugsComTest_raw.csv\")"
      ],
      "metadata": {
        "trusted": true,
        "execution": {
          "iopub.status.busy": "2025-01-17T18:48:13.387187Z",
          "iopub.execute_input": "2025-01-17T18:48:13.387491Z",
          "iopub.status.idle": "2025-01-17T18:48:14.732041Z",
          "shell.execute_reply.started": "2025-01-17T18:48:13.387468Z",
          "shell.execute_reply": "2025-01-17T18:48:14.731283Z"
        },
        "id": "tNyGCvjIZPdE"
      },
      "outputs": [],
      "execution_count": 5
    },
    {
      "cell_type": "code",
      "source": [
        "data1.head()"
      ],
      "metadata": {
        "trusted": true,
        "execution": {
          "iopub.status.busy": "2025-01-17T18:48:16.121482Z",
          "iopub.execute_input": "2025-01-17T18:48:16.121987Z",
          "iopub.status.idle": "2025-01-17T18:48:16.148879Z",
          "shell.execute_reply.started": "2025-01-17T18:48:16.121915Z",
          "shell.execute_reply": "2025-01-17T18:48:16.147972Z"
        },
        "colab": {
          "base_uri": "https://localhost:8080/",
          "height": 293
        },
        "id": "BkpI_BLaZPdE",
        "outputId": "9f4b6642-b232-462c-f078-f0b6d67a2556"
      },
      "outputs": [
        {
          "output_type": "execute_result",
          "data": {
            "text/plain": [
              "   uniqueID                  drugName                     condition  \\\n",
              "0    206461                 Valsartan  Left Ventricular Dysfunction   \n",
              "1     95260                Guanfacine                          ADHD   \n",
              "2     92703                    Lybrel                 Birth Control   \n",
              "3    138000                Ortho Evra                 Birth Control   \n",
              "4     35696  Buprenorphine / naloxone             Opiate Dependence   \n",
              "\n",
              "                                              review  rating       date  \\\n",
              "0  \"It has no side effect, I take it in combinati...       9  20-May-12   \n",
              "1  \"My son is halfway through his fourth week of ...       8  27-Apr-10   \n",
              "2  \"I used to take another oral contraceptive, wh...       5  14-Dec-09   \n",
              "3  \"This is my first time using any form of birth...       8   3-Nov-15   \n",
              "4  \"Suboxone has completely turned my life around...       9  27-Nov-16   \n",
              "\n",
              "   usefulCount  \n",
              "0           27  \n",
              "1          192  \n",
              "2           17  \n",
              "3           10  \n",
              "4           37  "
            ],
            "text/html": [
              "\n",
              "  <div id=\"df-0ee92b44-fd2c-463a-bf6f-ecd5fab6462d\" class=\"colab-df-container\">\n",
              "    <div>\n",
              "<style scoped>\n",
              "    .dataframe tbody tr th:only-of-type {\n",
              "        vertical-align: middle;\n",
              "    }\n",
              "\n",
              "    .dataframe tbody tr th {\n",
              "        vertical-align: top;\n",
              "    }\n",
              "\n",
              "    .dataframe thead th {\n",
              "        text-align: right;\n",
              "    }\n",
              "</style>\n",
              "<table border=\"1\" class=\"dataframe\">\n",
              "  <thead>\n",
              "    <tr style=\"text-align: right;\">\n",
              "      <th></th>\n",
              "      <th>uniqueID</th>\n",
              "      <th>drugName</th>\n",
              "      <th>condition</th>\n",
              "      <th>review</th>\n",
              "      <th>rating</th>\n",
              "      <th>date</th>\n",
              "      <th>usefulCount</th>\n",
              "    </tr>\n",
              "  </thead>\n",
              "  <tbody>\n",
              "    <tr>\n",
              "      <th>0</th>\n",
              "      <td>206461</td>\n",
              "      <td>Valsartan</td>\n",
              "      <td>Left Ventricular Dysfunction</td>\n",
              "      <td>\"It has no side effect, I take it in combinati...</td>\n",
              "      <td>9</td>\n",
              "      <td>20-May-12</td>\n",
              "      <td>27</td>\n",
              "    </tr>\n",
              "    <tr>\n",
              "      <th>1</th>\n",
              "      <td>95260</td>\n",
              "      <td>Guanfacine</td>\n",
              "      <td>ADHD</td>\n",
              "      <td>\"My son is halfway through his fourth week of ...</td>\n",
              "      <td>8</td>\n",
              "      <td>27-Apr-10</td>\n",
              "      <td>192</td>\n",
              "    </tr>\n",
              "    <tr>\n",
              "      <th>2</th>\n",
              "      <td>92703</td>\n",
              "      <td>Lybrel</td>\n",
              "      <td>Birth Control</td>\n",
              "      <td>\"I used to take another oral contraceptive, wh...</td>\n",
              "      <td>5</td>\n",
              "      <td>14-Dec-09</td>\n",
              "      <td>17</td>\n",
              "    </tr>\n",
              "    <tr>\n",
              "      <th>3</th>\n",
              "      <td>138000</td>\n",
              "      <td>Ortho Evra</td>\n",
              "      <td>Birth Control</td>\n",
              "      <td>\"This is my first time using any form of birth...</td>\n",
              "      <td>8</td>\n",
              "      <td>3-Nov-15</td>\n",
              "      <td>10</td>\n",
              "    </tr>\n",
              "    <tr>\n",
              "      <th>4</th>\n",
              "      <td>35696</td>\n",
              "      <td>Buprenorphine / naloxone</td>\n",
              "      <td>Opiate Dependence</td>\n",
              "      <td>\"Suboxone has completely turned my life around...</td>\n",
              "      <td>9</td>\n",
              "      <td>27-Nov-16</td>\n",
              "      <td>37</td>\n",
              "    </tr>\n",
              "  </tbody>\n",
              "</table>\n",
              "</div>\n",
              "    <div class=\"colab-df-buttons\">\n",
              "\n",
              "  <div class=\"colab-df-container\">\n",
              "    <button class=\"colab-df-convert\" onclick=\"convertToInteractive('df-0ee92b44-fd2c-463a-bf6f-ecd5fab6462d')\"\n",
              "            title=\"Convert this dataframe to an interactive table.\"\n",
              "            style=\"display:none;\">\n",
              "\n",
              "  <svg xmlns=\"http://www.w3.org/2000/svg\" height=\"24px\" viewBox=\"0 -960 960 960\">\n",
              "    <path d=\"M120-120v-720h720v720H120Zm60-500h600v-160H180v160Zm220 220h160v-160H400v160Zm0 220h160v-160H400v160ZM180-400h160v-160H180v160Zm440 0h160v-160H620v160ZM180-180h160v-160H180v160Zm440 0h160v-160H620v160Z\"/>\n",
              "  </svg>\n",
              "    </button>\n",
              "\n",
              "  <style>\n",
              "    .colab-df-container {\n",
              "      display:flex;\n",
              "      gap: 12px;\n",
              "    }\n",
              "\n",
              "    .colab-df-convert {\n",
              "      background-color: #E8F0FE;\n",
              "      border: none;\n",
              "      border-radius: 50%;\n",
              "      cursor: pointer;\n",
              "      display: none;\n",
              "      fill: #1967D2;\n",
              "      height: 32px;\n",
              "      padding: 0 0 0 0;\n",
              "      width: 32px;\n",
              "    }\n",
              "\n",
              "    .colab-df-convert:hover {\n",
              "      background-color: #E2EBFA;\n",
              "      box-shadow: 0px 1px 2px rgba(60, 64, 67, 0.3), 0px 1px 3px 1px rgba(60, 64, 67, 0.15);\n",
              "      fill: #174EA6;\n",
              "    }\n",
              "\n",
              "    .colab-df-buttons div {\n",
              "      margin-bottom: 4px;\n",
              "    }\n",
              "\n",
              "    [theme=dark] .colab-df-convert {\n",
              "      background-color: #3B4455;\n",
              "      fill: #D2E3FC;\n",
              "    }\n",
              "\n",
              "    [theme=dark] .colab-df-convert:hover {\n",
              "      background-color: #434B5C;\n",
              "      box-shadow: 0px 1px 3px 1px rgba(0, 0, 0, 0.15);\n",
              "      filter: drop-shadow(0px 1px 2px rgba(0, 0, 0, 0.3));\n",
              "      fill: #FFFFFF;\n",
              "    }\n",
              "  </style>\n",
              "\n",
              "    <script>\n",
              "      const buttonEl =\n",
              "        document.querySelector('#df-0ee92b44-fd2c-463a-bf6f-ecd5fab6462d button.colab-df-convert');\n",
              "      buttonEl.style.display =\n",
              "        google.colab.kernel.accessAllowed ? 'block' : 'none';\n",
              "\n",
              "      async function convertToInteractive(key) {\n",
              "        const element = document.querySelector('#df-0ee92b44-fd2c-463a-bf6f-ecd5fab6462d');\n",
              "        const dataTable =\n",
              "          await google.colab.kernel.invokeFunction('convertToInteractive',\n",
              "                                                    [key], {});\n",
              "        if (!dataTable) return;\n",
              "\n",
              "        const docLinkHtml = 'Like what you see? Visit the ' +\n",
              "          '<a target=\"_blank\" href=https://colab.research.google.com/notebooks/data_table.ipynb>data table notebook</a>'\n",
              "          + ' to learn more about interactive tables.';\n",
              "        element.innerHTML = '';\n",
              "        dataTable['output_type'] = 'display_data';\n",
              "        await google.colab.output.renderOutput(dataTable, element);\n",
              "        const docLink = document.createElement('div');\n",
              "        docLink.innerHTML = docLinkHtml;\n",
              "        element.appendChild(docLink);\n",
              "      }\n",
              "    </script>\n",
              "  </div>\n",
              "\n",
              "\n",
              "<div id=\"df-e5527c78-f67e-49ac-bae5-5a67adc9649c\">\n",
              "  <button class=\"colab-df-quickchart\" onclick=\"quickchart('df-e5527c78-f67e-49ac-bae5-5a67adc9649c')\"\n",
              "            title=\"Suggest charts\"\n",
              "            style=\"display:none;\">\n",
              "\n",
              "<svg xmlns=\"http://www.w3.org/2000/svg\" height=\"24px\"viewBox=\"0 0 24 24\"\n",
              "     width=\"24px\">\n",
              "    <g>\n",
              "        <path d=\"M19 3H5c-1.1 0-2 .9-2 2v14c0 1.1.9 2 2 2h14c1.1 0 2-.9 2-2V5c0-1.1-.9-2-2-2zM9 17H7v-7h2v7zm4 0h-2V7h2v10zm4 0h-2v-4h2v4z\"/>\n",
              "    </g>\n",
              "</svg>\n",
              "  </button>\n",
              "\n",
              "<style>\n",
              "  .colab-df-quickchart {\n",
              "      --bg-color: #E8F0FE;\n",
              "      --fill-color: #1967D2;\n",
              "      --hover-bg-color: #E2EBFA;\n",
              "      --hover-fill-color: #174EA6;\n",
              "      --disabled-fill-color: #AAA;\n",
              "      --disabled-bg-color: #DDD;\n",
              "  }\n",
              "\n",
              "  [theme=dark] .colab-df-quickchart {\n",
              "      --bg-color: #3B4455;\n",
              "      --fill-color: #D2E3FC;\n",
              "      --hover-bg-color: #434B5C;\n",
              "      --hover-fill-color: #FFFFFF;\n",
              "      --disabled-bg-color: #3B4455;\n",
              "      --disabled-fill-color: #666;\n",
              "  }\n",
              "\n",
              "  .colab-df-quickchart {\n",
              "    background-color: var(--bg-color);\n",
              "    border: none;\n",
              "    border-radius: 50%;\n",
              "    cursor: pointer;\n",
              "    display: none;\n",
              "    fill: var(--fill-color);\n",
              "    height: 32px;\n",
              "    padding: 0;\n",
              "    width: 32px;\n",
              "  }\n",
              "\n",
              "  .colab-df-quickchart:hover {\n",
              "    background-color: var(--hover-bg-color);\n",
              "    box-shadow: 0 1px 2px rgba(60, 64, 67, 0.3), 0 1px 3px 1px rgba(60, 64, 67, 0.15);\n",
              "    fill: var(--button-hover-fill-color);\n",
              "  }\n",
              "\n",
              "  .colab-df-quickchart-complete:disabled,\n",
              "  .colab-df-quickchart-complete:disabled:hover {\n",
              "    background-color: var(--disabled-bg-color);\n",
              "    fill: var(--disabled-fill-color);\n",
              "    box-shadow: none;\n",
              "  }\n",
              "\n",
              "  .colab-df-spinner {\n",
              "    border: 2px solid var(--fill-color);\n",
              "    border-color: transparent;\n",
              "    border-bottom-color: var(--fill-color);\n",
              "    animation:\n",
              "      spin 1s steps(1) infinite;\n",
              "  }\n",
              "\n",
              "  @keyframes spin {\n",
              "    0% {\n",
              "      border-color: transparent;\n",
              "      border-bottom-color: var(--fill-color);\n",
              "      border-left-color: var(--fill-color);\n",
              "    }\n",
              "    20% {\n",
              "      border-color: transparent;\n",
              "      border-left-color: var(--fill-color);\n",
              "      border-top-color: var(--fill-color);\n",
              "    }\n",
              "    30% {\n",
              "      border-color: transparent;\n",
              "      border-left-color: var(--fill-color);\n",
              "      border-top-color: var(--fill-color);\n",
              "      border-right-color: var(--fill-color);\n",
              "    }\n",
              "    40% {\n",
              "      border-color: transparent;\n",
              "      border-right-color: var(--fill-color);\n",
              "      border-top-color: var(--fill-color);\n",
              "    }\n",
              "    60% {\n",
              "      border-color: transparent;\n",
              "      border-right-color: var(--fill-color);\n",
              "    }\n",
              "    80% {\n",
              "      border-color: transparent;\n",
              "      border-right-color: var(--fill-color);\n",
              "      border-bottom-color: var(--fill-color);\n",
              "    }\n",
              "    90% {\n",
              "      border-color: transparent;\n",
              "      border-bottom-color: var(--fill-color);\n",
              "    }\n",
              "  }\n",
              "</style>\n",
              "\n",
              "  <script>\n",
              "    async function quickchart(key) {\n",
              "      const quickchartButtonEl =\n",
              "        document.querySelector('#' + key + ' button');\n",
              "      quickchartButtonEl.disabled = true;  // To prevent multiple clicks.\n",
              "      quickchartButtonEl.classList.add('colab-df-spinner');\n",
              "      try {\n",
              "        const charts = await google.colab.kernel.invokeFunction(\n",
              "            'suggestCharts', [key], {});\n",
              "      } catch (error) {\n",
              "        console.error('Error during call to suggestCharts:', error);\n",
              "      }\n",
              "      quickchartButtonEl.classList.remove('colab-df-spinner');\n",
              "      quickchartButtonEl.classList.add('colab-df-quickchart-complete');\n",
              "    }\n",
              "    (() => {\n",
              "      let quickchartButtonEl =\n",
              "        document.querySelector('#df-e5527c78-f67e-49ac-bae5-5a67adc9649c button');\n",
              "      quickchartButtonEl.style.display =\n",
              "        google.colab.kernel.accessAllowed ? 'block' : 'none';\n",
              "    })();\n",
              "  </script>\n",
              "</div>\n",
              "\n",
              "    </div>\n",
              "  </div>\n"
            ],
            "application/vnd.google.colaboratory.intrinsic+json": {
              "type": "dataframe",
              "variable_name": "data1"
            }
          },
          "metadata": {},
          "execution_count": 6
        }
      ],
      "execution_count": 6
    },
    {
      "cell_type": "code",
      "source": [
        "data2.head()"
      ],
      "metadata": {
        "trusted": true,
        "execution": {
          "iopub.status.busy": "2025-01-17T18:48:17.663367Z",
          "iopub.execute_input": "2025-01-17T18:48:17.663672Z",
          "iopub.status.idle": "2025-01-17T18:48:17.674066Z",
          "shell.execute_reply.started": "2025-01-17T18:48:17.663649Z",
          "shell.execute_reply": "2025-01-17T18:48:17.673111Z"
        },
        "colab": {
          "base_uri": "https://localhost:8080/",
          "height": 293
        },
        "id": "g2ugN6U6ZPdF",
        "outputId": "3ddbd3c0-a748-452e-8b9b-52ff86f2bf26"
      },
      "outputs": [
        {
          "output_type": "execute_result",
          "data": {
            "text/plain": [
              "   uniqueID         drugName                     condition  \\\n",
              "0    163740      Mirtazapine                    Depression   \n",
              "1    206473       Mesalamine  Crohn's Disease, Maintenance   \n",
              "2    159672          Bactrim       Urinary Tract Infection   \n",
              "3     39293         Contrave                   Weight Loss   \n",
              "4     97768  Cyclafem 1 / 35                 Birth Control   \n",
              "\n",
              "                                              review  rating       date  \\\n",
              "0  \"I&#039;ve tried a few antidepressants over th...      10  28-Feb-12   \n",
              "1  \"My son has Crohn&#039;s disease and has done ...       8  17-May-09   \n",
              "2                      \"Quick reduction of symptoms\"       9  29-Sep-17   \n",
              "3  \"Contrave combines drugs that were used for al...       9   5-Mar-17   \n",
              "4  \"I have been on this birth control for one cyc...       9  22-Oct-15   \n",
              "\n",
              "   usefulCount  \n",
              "0           22  \n",
              "1           17  \n",
              "2            3  \n",
              "3           35  \n",
              "4            4  "
            ],
            "text/html": [
              "\n",
              "  <div id=\"df-4851a8ce-6f8f-4652-90e7-49ac35371949\" class=\"colab-df-container\">\n",
              "    <div>\n",
              "<style scoped>\n",
              "    .dataframe tbody tr th:only-of-type {\n",
              "        vertical-align: middle;\n",
              "    }\n",
              "\n",
              "    .dataframe tbody tr th {\n",
              "        vertical-align: top;\n",
              "    }\n",
              "\n",
              "    .dataframe thead th {\n",
              "        text-align: right;\n",
              "    }\n",
              "</style>\n",
              "<table border=\"1\" class=\"dataframe\">\n",
              "  <thead>\n",
              "    <tr style=\"text-align: right;\">\n",
              "      <th></th>\n",
              "      <th>uniqueID</th>\n",
              "      <th>drugName</th>\n",
              "      <th>condition</th>\n",
              "      <th>review</th>\n",
              "      <th>rating</th>\n",
              "      <th>date</th>\n",
              "      <th>usefulCount</th>\n",
              "    </tr>\n",
              "  </thead>\n",
              "  <tbody>\n",
              "    <tr>\n",
              "      <th>0</th>\n",
              "      <td>163740</td>\n",
              "      <td>Mirtazapine</td>\n",
              "      <td>Depression</td>\n",
              "      <td>\"I&amp;#039;ve tried a few antidepressants over th...</td>\n",
              "      <td>10</td>\n",
              "      <td>28-Feb-12</td>\n",
              "      <td>22</td>\n",
              "    </tr>\n",
              "    <tr>\n",
              "      <th>1</th>\n",
              "      <td>206473</td>\n",
              "      <td>Mesalamine</td>\n",
              "      <td>Crohn's Disease, Maintenance</td>\n",
              "      <td>\"My son has Crohn&amp;#039;s disease and has done ...</td>\n",
              "      <td>8</td>\n",
              "      <td>17-May-09</td>\n",
              "      <td>17</td>\n",
              "    </tr>\n",
              "    <tr>\n",
              "      <th>2</th>\n",
              "      <td>159672</td>\n",
              "      <td>Bactrim</td>\n",
              "      <td>Urinary Tract Infection</td>\n",
              "      <td>\"Quick reduction of symptoms\"</td>\n",
              "      <td>9</td>\n",
              "      <td>29-Sep-17</td>\n",
              "      <td>3</td>\n",
              "    </tr>\n",
              "    <tr>\n",
              "      <th>3</th>\n",
              "      <td>39293</td>\n",
              "      <td>Contrave</td>\n",
              "      <td>Weight Loss</td>\n",
              "      <td>\"Contrave combines drugs that were used for al...</td>\n",
              "      <td>9</td>\n",
              "      <td>5-Mar-17</td>\n",
              "      <td>35</td>\n",
              "    </tr>\n",
              "    <tr>\n",
              "      <th>4</th>\n",
              "      <td>97768</td>\n",
              "      <td>Cyclafem 1 / 35</td>\n",
              "      <td>Birth Control</td>\n",
              "      <td>\"I have been on this birth control for one cyc...</td>\n",
              "      <td>9</td>\n",
              "      <td>22-Oct-15</td>\n",
              "      <td>4</td>\n",
              "    </tr>\n",
              "  </tbody>\n",
              "</table>\n",
              "</div>\n",
              "    <div class=\"colab-df-buttons\">\n",
              "\n",
              "  <div class=\"colab-df-container\">\n",
              "    <button class=\"colab-df-convert\" onclick=\"convertToInteractive('df-4851a8ce-6f8f-4652-90e7-49ac35371949')\"\n",
              "            title=\"Convert this dataframe to an interactive table.\"\n",
              "            style=\"display:none;\">\n",
              "\n",
              "  <svg xmlns=\"http://www.w3.org/2000/svg\" height=\"24px\" viewBox=\"0 -960 960 960\">\n",
              "    <path d=\"M120-120v-720h720v720H120Zm60-500h600v-160H180v160Zm220 220h160v-160H400v160Zm0 220h160v-160H400v160ZM180-400h160v-160H180v160Zm440 0h160v-160H620v160ZM180-180h160v-160H180v160Zm440 0h160v-160H620v160Z\"/>\n",
              "  </svg>\n",
              "    </button>\n",
              "\n",
              "  <style>\n",
              "    .colab-df-container {\n",
              "      display:flex;\n",
              "      gap: 12px;\n",
              "    }\n",
              "\n",
              "    .colab-df-convert {\n",
              "      background-color: #E8F0FE;\n",
              "      border: none;\n",
              "      border-radius: 50%;\n",
              "      cursor: pointer;\n",
              "      display: none;\n",
              "      fill: #1967D2;\n",
              "      height: 32px;\n",
              "      padding: 0 0 0 0;\n",
              "      width: 32px;\n",
              "    }\n",
              "\n",
              "    .colab-df-convert:hover {\n",
              "      background-color: #E2EBFA;\n",
              "      box-shadow: 0px 1px 2px rgba(60, 64, 67, 0.3), 0px 1px 3px 1px rgba(60, 64, 67, 0.15);\n",
              "      fill: #174EA6;\n",
              "    }\n",
              "\n",
              "    .colab-df-buttons div {\n",
              "      margin-bottom: 4px;\n",
              "    }\n",
              "\n",
              "    [theme=dark] .colab-df-convert {\n",
              "      background-color: #3B4455;\n",
              "      fill: #D2E3FC;\n",
              "    }\n",
              "\n",
              "    [theme=dark] .colab-df-convert:hover {\n",
              "      background-color: #434B5C;\n",
              "      box-shadow: 0px 1px 3px 1px rgba(0, 0, 0, 0.15);\n",
              "      filter: drop-shadow(0px 1px 2px rgba(0, 0, 0, 0.3));\n",
              "      fill: #FFFFFF;\n",
              "    }\n",
              "  </style>\n",
              "\n",
              "    <script>\n",
              "      const buttonEl =\n",
              "        document.querySelector('#df-4851a8ce-6f8f-4652-90e7-49ac35371949 button.colab-df-convert');\n",
              "      buttonEl.style.display =\n",
              "        google.colab.kernel.accessAllowed ? 'block' : 'none';\n",
              "\n",
              "      async function convertToInteractive(key) {\n",
              "        const element = document.querySelector('#df-4851a8ce-6f8f-4652-90e7-49ac35371949');\n",
              "        const dataTable =\n",
              "          await google.colab.kernel.invokeFunction('convertToInteractive',\n",
              "                                                    [key], {});\n",
              "        if (!dataTable) return;\n",
              "\n",
              "        const docLinkHtml = 'Like what you see? Visit the ' +\n",
              "          '<a target=\"_blank\" href=https://colab.research.google.com/notebooks/data_table.ipynb>data table notebook</a>'\n",
              "          + ' to learn more about interactive tables.';\n",
              "        element.innerHTML = '';\n",
              "        dataTable['output_type'] = 'display_data';\n",
              "        await google.colab.output.renderOutput(dataTable, element);\n",
              "        const docLink = document.createElement('div');\n",
              "        docLink.innerHTML = docLinkHtml;\n",
              "        element.appendChild(docLink);\n",
              "      }\n",
              "    </script>\n",
              "  </div>\n",
              "\n",
              "\n",
              "<div id=\"df-67bbbb92-13cd-4a6d-88a4-0ffa553af705\">\n",
              "  <button class=\"colab-df-quickchart\" onclick=\"quickchart('df-67bbbb92-13cd-4a6d-88a4-0ffa553af705')\"\n",
              "            title=\"Suggest charts\"\n",
              "            style=\"display:none;\">\n",
              "\n",
              "<svg xmlns=\"http://www.w3.org/2000/svg\" height=\"24px\"viewBox=\"0 0 24 24\"\n",
              "     width=\"24px\">\n",
              "    <g>\n",
              "        <path d=\"M19 3H5c-1.1 0-2 .9-2 2v14c0 1.1.9 2 2 2h14c1.1 0 2-.9 2-2V5c0-1.1-.9-2-2-2zM9 17H7v-7h2v7zm4 0h-2V7h2v10zm4 0h-2v-4h2v4z\"/>\n",
              "    </g>\n",
              "</svg>\n",
              "  </button>\n",
              "\n",
              "<style>\n",
              "  .colab-df-quickchart {\n",
              "      --bg-color: #E8F0FE;\n",
              "      --fill-color: #1967D2;\n",
              "      --hover-bg-color: #E2EBFA;\n",
              "      --hover-fill-color: #174EA6;\n",
              "      --disabled-fill-color: #AAA;\n",
              "      --disabled-bg-color: #DDD;\n",
              "  }\n",
              "\n",
              "  [theme=dark] .colab-df-quickchart {\n",
              "      --bg-color: #3B4455;\n",
              "      --fill-color: #D2E3FC;\n",
              "      --hover-bg-color: #434B5C;\n",
              "      --hover-fill-color: #FFFFFF;\n",
              "      --disabled-bg-color: #3B4455;\n",
              "      --disabled-fill-color: #666;\n",
              "  }\n",
              "\n",
              "  .colab-df-quickchart {\n",
              "    background-color: var(--bg-color);\n",
              "    border: none;\n",
              "    border-radius: 50%;\n",
              "    cursor: pointer;\n",
              "    display: none;\n",
              "    fill: var(--fill-color);\n",
              "    height: 32px;\n",
              "    padding: 0;\n",
              "    width: 32px;\n",
              "  }\n",
              "\n",
              "  .colab-df-quickchart:hover {\n",
              "    background-color: var(--hover-bg-color);\n",
              "    box-shadow: 0 1px 2px rgba(60, 64, 67, 0.3), 0 1px 3px 1px rgba(60, 64, 67, 0.15);\n",
              "    fill: var(--button-hover-fill-color);\n",
              "  }\n",
              "\n",
              "  .colab-df-quickchart-complete:disabled,\n",
              "  .colab-df-quickchart-complete:disabled:hover {\n",
              "    background-color: var(--disabled-bg-color);\n",
              "    fill: var(--disabled-fill-color);\n",
              "    box-shadow: none;\n",
              "  }\n",
              "\n",
              "  .colab-df-spinner {\n",
              "    border: 2px solid var(--fill-color);\n",
              "    border-color: transparent;\n",
              "    border-bottom-color: var(--fill-color);\n",
              "    animation:\n",
              "      spin 1s steps(1) infinite;\n",
              "  }\n",
              "\n",
              "  @keyframes spin {\n",
              "    0% {\n",
              "      border-color: transparent;\n",
              "      border-bottom-color: var(--fill-color);\n",
              "      border-left-color: var(--fill-color);\n",
              "    }\n",
              "    20% {\n",
              "      border-color: transparent;\n",
              "      border-left-color: var(--fill-color);\n",
              "      border-top-color: var(--fill-color);\n",
              "    }\n",
              "    30% {\n",
              "      border-color: transparent;\n",
              "      border-left-color: var(--fill-color);\n",
              "      border-top-color: var(--fill-color);\n",
              "      border-right-color: var(--fill-color);\n",
              "    }\n",
              "    40% {\n",
              "      border-color: transparent;\n",
              "      border-right-color: var(--fill-color);\n",
              "      border-top-color: var(--fill-color);\n",
              "    }\n",
              "    60% {\n",
              "      border-color: transparent;\n",
              "      border-right-color: var(--fill-color);\n",
              "    }\n",
              "    80% {\n",
              "      border-color: transparent;\n",
              "      border-right-color: var(--fill-color);\n",
              "      border-bottom-color: var(--fill-color);\n",
              "    }\n",
              "    90% {\n",
              "      border-color: transparent;\n",
              "      border-bottom-color: var(--fill-color);\n",
              "    }\n",
              "  }\n",
              "</style>\n",
              "\n",
              "  <script>\n",
              "    async function quickchart(key) {\n",
              "      const quickchartButtonEl =\n",
              "        document.querySelector('#' + key + ' button');\n",
              "      quickchartButtonEl.disabled = true;  // To prevent multiple clicks.\n",
              "      quickchartButtonEl.classList.add('colab-df-spinner');\n",
              "      try {\n",
              "        const charts = await google.colab.kernel.invokeFunction(\n",
              "            'suggestCharts', [key], {});\n",
              "      } catch (error) {\n",
              "        console.error('Error during call to suggestCharts:', error);\n",
              "      }\n",
              "      quickchartButtonEl.classList.remove('colab-df-spinner');\n",
              "      quickchartButtonEl.classList.add('colab-df-quickchart-complete');\n",
              "    }\n",
              "    (() => {\n",
              "      let quickchartButtonEl =\n",
              "        document.querySelector('#df-67bbbb92-13cd-4a6d-88a4-0ffa553af705 button');\n",
              "      quickchartButtonEl.style.display =\n",
              "        google.colab.kernel.accessAllowed ? 'block' : 'none';\n",
              "    })();\n",
              "  </script>\n",
              "</div>\n",
              "\n",
              "    </div>\n",
              "  </div>\n"
            ],
            "application/vnd.google.colaboratory.intrinsic+json": {
              "type": "dataframe",
              "variable_name": "data2",
              "summary": "{\n  \"name\": \"data2\",\n  \"rows\": 53766,\n  \"fields\": [\n    {\n      \"column\": \"uniqueID\",\n      \"properties\": {\n        \"dtype\": \"number\",\n        \"std\": 67017,\n        \"min\": 0,\n        \"max\": 232284,\n        \"num_unique_values\": 53766,\n        \"samples\": [\n          192361,\n          202481,\n          42681\n        ],\n        \"semantic_type\": \"\",\n        \"description\": \"\"\n      }\n    },\n    {\n      \"column\": \"drugName\",\n      \"properties\": {\n        \"dtype\": \"category\",\n        \"num_unique_values\": 2637,\n        \"samples\": [\n          \"Prozac Weekly\",\n          \"Motrin Infant Drops\",\n          \"Lyza\"\n        ],\n        \"semantic_type\": \"\",\n        \"description\": \"\"\n      }\n    },\n    {\n      \"column\": \"condition\",\n      \"properties\": {\n        \"dtype\": \"category\",\n        \"num_unique_values\": 708,\n        \"samples\": [\n          \"Neutropenia Associated with Chemotherapy\",\n          \"Uveitis, Posteri\",\n          \"Macular Degeneration\"\n        ],\n        \"semantic_type\": \"\",\n        \"description\": \"\"\n      }\n    },\n    {\n      \"column\": \"review\",\n      \"properties\": {\n        \"dtype\": \"string\",\n        \"num_unique_values\": 48280,\n        \"samples\": [\n          \"\\\"800 mg of tegretol and still in pain\\\"\",\n          \"\\\"my hubby has been on the  med since Sept 2015.   It is not working..  they  put him on the Gaba to remove the morphine.  In the last 4 weeks  by 11pm he is wide awake in pain and in tears.  In the last 2 weeks the heavy pressure on  his right side just below the shoulder is worse each time.  He has developed a cold  that will not go away  starting in Nov. We see the Doc on Feb 3rd. He is taking a sleep aid  and med for really bad  headaches.  I am  so  afraid of what will happen when  the next dose falls.   We have been married for 24 years.  He  has had problems with drugs and drink all his life  from 9 years of age on..  yep   .. people  9 years of age..  Started smoking pot and drinking.. \\\"\",\n          \"\\\"So I was prescribed this medication a while ago, but I basically gave up every time things got painful. That for me, was about 5th day in. I&#039;d been told to persevere and that the pain and dryness would stop after the first 2 weeks. But I decided to only use it when I had breakouts. However, this medication brings out the acne before clearing it, so of course your acne is going to get worse before it gets better. \\r\\r\\n\\r\\r\\nHOWEVER, I now use it everyday. I have very sensitive skin so I can&#039;t use a lot of moisturisers because they burn. But I&#039;m using some Garnier moisturiser and an oil based one from lush whenever my skin feels a little dry, and I have not had a painful night since. And no extreme dryness or flaking either. Brilliant!\\\"\"\n        ],\n        \"semantic_type\": \"\",\n        \"description\": \"\"\n      }\n    },\n    {\n      \"column\": \"rating\",\n      \"properties\": {\n        \"dtype\": \"number\",\n        \"std\": 3,\n        \"min\": 1,\n        \"max\": 10,\n        \"num_unique_values\": 10,\n        \"samples\": [\n          3,\n          8,\n          7\n        ],\n        \"semantic_type\": \"\",\n        \"description\": \"\"\n      }\n    },\n    {\n      \"column\": \"date\",\n      \"properties\": {\n        \"dtype\": \"object\",\n        \"num_unique_values\": 3566,\n        \"samples\": [\n          \"4-Jan-17\",\n          \"15-Jan-14\",\n          \"28-Nov-14\"\n        ],\n        \"semantic_type\": \"\",\n        \"description\": \"\"\n      }\n    },\n    {\n      \"column\": \"usefulCount\",\n      \"properties\": {\n        \"dtype\": \"number\",\n        \"std\": 36,\n        \"min\": 0,\n        \"max\": 949,\n        \"num_unique_values\": 325,\n        \"samples\": [\n          164,\n          108,\n          368\n        ],\n        \"semantic_type\": \"\",\n        \"description\": \"\"\n      }\n    }\n  ]\n}"
            }
          },
          "metadata": {},
          "execution_count": 7
        }
      ],
      "execution_count": 7
    },
    {
      "cell_type": "code",
      "source": [
        "## So we are basically taking only review and condition so that we can\n",
        "## classify the review for different conditions as part of multi class classification learning"
      ],
      "metadata": {
        "trusted": true,
        "execution": {
          "iopub.status.busy": "2025-01-17T18:48:19.057333Z",
          "iopub.execute_input": "2025-01-17T18:48:19.057636Z",
          "iopub.status.idle": "2025-01-17T18:48:19.061263Z",
          "shell.execute_reply.started": "2025-01-17T18:48:19.057614Z",
          "shell.execute_reply": "2025-01-17T18:48:19.060308Z"
        },
        "id": "f4o02LUKZPdF"
      },
      "outputs": [],
      "execution_count": 8
    },
    {
      "cell_type": "code",
      "source": [
        "data = pd.concat([data1,data2])\n",
        "data.head()"
      ],
      "metadata": {
        "trusted": true,
        "execution": {
          "iopub.status.busy": "2025-01-17T18:48:23.415557Z",
          "iopub.execute_input": "2025-01-17T18:48:23.415867Z",
          "iopub.status.idle": "2025-01-17T18:48:23.436839Z",
          "shell.execute_reply.started": "2025-01-17T18:48:23.415844Z",
          "shell.execute_reply": "2025-01-17T18:48:23.436059Z"
        },
        "colab": {
          "base_uri": "https://localhost:8080/",
          "height": 293
        },
        "id": "ijkxVkCgZPdF",
        "outputId": "f78ca128-b067-47a0-c580-a0ac0101b9ad"
      },
      "outputs": [
        {
          "output_type": "execute_result",
          "data": {
            "text/plain": [
              "   uniqueID                  drugName                     condition  \\\n",
              "0    206461                 Valsartan  Left Ventricular Dysfunction   \n",
              "1     95260                Guanfacine                          ADHD   \n",
              "2     92703                    Lybrel                 Birth Control   \n",
              "3    138000                Ortho Evra                 Birth Control   \n",
              "4     35696  Buprenorphine / naloxone             Opiate Dependence   \n",
              "\n",
              "                                              review  rating       date  \\\n",
              "0  \"It has no side effect, I take it in combinati...       9  20-May-12   \n",
              "1  \"My son is halfway through his fourth week of ...       8  27-Apr-10   \n",
              "2  \"I used to take another oral contraceptive, wh...       5  14-Dec-09   \n",
              "3  \"This is my first time using any form of birth...       8   3-Nov-15   \n",
              "4  \"Suboxone has completely turned my life around...       9  27-Nov-16   \n",
              "\n",
              "   usefulCount  \n",
              "0           27  \n",
              "1          192  \n",
              "2           17  \n",
              "3           10  \n",
              "4           37  "
            ],
            "text/html": [
              "\n",
              "  <div id=\"df-0fdba1e0-941f-4f4f-a4be-2328bb14272c\" class=\"colab-df-container\">\n",
              "    <div>\n",
              "<style scoped>\n",
              "    .dataframe tbody tr th:only-of-type {\n",
              "        vertical-align: middle;\n",
              "    }\n",
              "\n",
              "    .dataframe tbody tr th {\n",
              "        vertical-align: top;\n",
              "    }\n",
              "\n",
              "    .dataframe thead th {\n",
              "        text-align: right;\n",
              "    }\n",
              "</style>\n",
              "<table border=\"1\" class=\"dataframe\">\n",
              "  <thead>\n",
              "    <tr style=\"text-align: right;\">\n",
              "      <th></th>\n",
              "      <th>uniqueID</th>\n",
              "      <th>drugName</th>\n",
              "      <th>condition</th>\n",
              "      <th>review</th>\n",
              "      <th>rating</th>\n",
              "      <th>date</th>\n",
              "      <th>usefulCount</th>\n",
              "    </tr>\n",
              "  </thead>\n",
              "  <tbody>\n",
              "    <tr>\n",
              "      <th>0</th>\n",
              "      <td>206461</td>\n",
              "      <td>Valsartan</td>\n",
              "      <td>Left Ventricular Dysfunction</td>\n",
              "      <td>\"It has no side effect, I take it in combinati...</td>\n",
              "      <td>9</td>\n",
              "      <td>20-May-12</td>\n",
              "      <td>27</td>\n",
              "    </tr>\n",
              "    <tr>\n",
              "      <th>1</th>\n",
              "      <td>95260</td>\n",
              "      <td>Guanfacine</td>\n",
              "      <td>ADHD</td>\n",
              "      <td>\"My son is halfway through his fourth week of ...</td>\n",
              "      <td>8</td>\n",
              "      <td>27-Apr-10</td>\n",
              "      <td>192</td>\n",
              "    </tr>\n",
              "    <tr>\n",
              "      <th>2</th>\n",
              "      <td>92703</td>\n",
              "      <td>Lybrel</td>\n",
              "      <td>Birth Control</td>\n",
              "      <td>\"I used to take another oral contraceptive, wh...</td>\n",
              "      <td>5</td>\n",
              "      <td>14-Dec-09</td>\n",
              "      <td>17</td>\n",
              "    </tr>\n",
              "    <tr>\n",
              "      <th>3</th>\n",
              "      <td>138000</td>\n",
              "      <td>Ortho Evra</td>\n",
              "      <td>Birth Control</td>\n",
              "      <td>\"This is my first time using any form of birth...</td>\n",
              "      <td>8</td>\n",
              "      <td>3-Nov-15</td>\n",
              "      <td>10</td>\n",
              "    </tr>\n",
              "    <tr>\n",
              "      <th>4</th>\n",
              "      <td>35696</td>\n",
              "      <td>Buprenorphine / naloxone</td>\n",
              "      <td>Opiate Dependence</td>\n",
              "      <td>\"Suboxone has completely turned my life around...</td>\n",
              "      <td>9</td>\n",
              "      <td>27-Nov-16</td>\n",
              "      <td>37</td>\n",
              "    </tr>\n",
              "  </tbody>\n",
              "</table>\n",
              "</div>\n",
              "    <div class=\"colab-df-buttons\">\n",
              "\n",
              "  <div class=\"colab-df-container\">\n",
              "    <button class=\"colab-df-convert\" onclick=\"convertToInteractive('df-0fdba1e0-941f-4f4f-a4be-2328bb14272c')\"\n",
              "            title=\"Convert this dataframe to an interactive table.\"\n",
              "            style=\"display:none;\">\n",
              "\n",
              "  <svg xmlns=\"http://www.w3.org/2000/svg\" height=\"24px\" viewBox=\"0 -960 960 960\">\n",
              "    <path d=\"M120-120v-720h720v720H120Zm60-500h600v-160H180v160Zm220 220h160v-160H400v160Zm0 220h160v-160H400v160ZM180-400h160v-160H180v160Zm440 0h160v-160H620v160ZM180-180h160v-160H180v160Zm440 0h160v-160H620v160Z\"/>\n",
              "  </svg>\n",
              "    </button>\n",
              "\n",
              "  <style>\n",
              "    .colab-df-container {\n",
              "      display:flex;\n",
              "      gap: 12px;\n",
              "    }\n",
              "\n",
              "    .colab-df-convert {\n",
              "      background-color: #E8F0FE;\n",
              "      border: none;\n",
              "      border-radius: 50%;\n",
              "      cursor: pointer;\n",
              "      display: none;\n",
              "      fill: #1967D2;\n",
              "      height: 32px;\n",
              "      padding: 0 0 0 0;\n",
              "      width: 32px;\n",
              "    }\n",
              "\n",
              "    .colab-df-convert:hover {\n",
              "      background-color: #E2EBFA;\n",
              "      box-shadow: 0px 1px 2px rgba(60, 64, 67, 0.3), 0px 1px 3px 1px rgba(60, 64, 67, 0.15);\n",
              "      fill: #174EA6;\n",
              "    }\n",
              "\n",
              "    .colab-df-buttons div {\n",
              "      margin-bottom: 4px;\n",
              "    }\n",
              "\n",
              "    [theme=dark] .colab-df-convert {\n",
              "      background-color: #3B4455;\n",
              "      fill: #D2E3FC;\n",
              "    }\n",
              "\n",
              "    [theme=dark] .colab-df-convert:hover {\n",
              "      background-color: #434B5C;\n",
              "      box-shadow: 0px 1px 3px 1px rgba(0, 0, 0, 0.15);\n",
              "      filter: drop-shadow(0px 1px 2px rgba(0, 0, 0, 0.3));\n",
              "      fill: #FFFFFF;\n",
              "    }\n",
              "  </style>\n",
              "\n",
              "    <script>\n",
              "      const buttonEl =\n",
              "        document.querySelector('#df-0fdba1e0-941f-4f4f-a4be-2328bb14272c button.colab-df-convert');\n",
              "      buttonEl.style.display =\n",
              "        google.colab.kernel.accessAllowed ? 'block' : 'none';\n",
              "\n",
              "      async function convertToInteractive(key) {\n",
              "        const element = document.querySelector('#df-0fdba1e0-941f-4f4f-a4be-2328bb14272c');\n",
              "        const dataTable =\n",
              "          await google.colab.kernel.invokeFunction('convertToInteractive',\n",
              "                                                    [key], {});\n",
              "        if (!dataTable) return;\n",
              "\n",
              "        const docLinkHtml = 'Like what you see? Visit the ' +\n",
              "          '<a target=\"_blank\" href=https://colab.research.google.com/notebooks/data_table.ipynb>data table notebook</a>'\n",
              "          + ' to learn more about interactive tables.';\n",
              "        element.innerHTML = '';\n",
              "        dataTable['output_type'] = 'display_data';\n",
              "        await google.colab.output.renderOutput(dataTable, element);\n",
              "        const docLink = document.createElement('div');\n",
              "        docLink.innerHTML = docLinkHtml;\n",
              "        element.appendChild(docLink);\n",
              "      }\n",
              "    </script>\n",
              "  </div>\n",
              "\n",
              "\n",
              "<div id=\"df-17abb3da-cbd1-4fde-8478-2dfd64662075\">\n",
              "  <button class=\"colab-df-quickchart\" onclick=\"quickchart('df-17abb3da-cbd1-4fde-8478-2dfd64662075')\"\n",
              "            title=\"Suggest charts\"\n",
              "            style=\"display:none;\">\n",
              "\n",
              "<svg xmlns=\"http://www.w3.org/2000/svg\" height=\"24px\"viewBox=\"0 0 24 24\"\n",
              "     width=\"24px\">\n",
              "    <g>\n",
              "        <path d=\"M19 3H5c-1.1 0-2 .9-2 2v14c0 1.1.9 2 2 2h14c1.1 0 2-.9 2-2V5c0-1.1-.9-2-2-2zM9 17H7v-7h2v7zm4 0h-2V7h2v10zm4 0h-2v-4h2v4z\"/>\n",
              "    </g>\n",
              "</svg>\n",
              "  </button>\n",
              "\n",
              "<style>\n",
              "  .colab-df-quickchart {\n",
              "      --bg-color: #E8F0FE;\n",
              "      --fill-color: #1967D2;\n",
              "      --hover-bg-color: #E2EBFA;\n",
              "      --hover-fill-color: #174EA6;\n",
              "      --disabled-fill-color: #AAA;\n",
              "      --disabled-bg-color: #DDD;\n",
              "  }\n",
              "\n",
              "  [theme=dark] .colab-df-quickchart {\n",
              "      --bg-color: #3B4455;\n",
              "      --fill-color: #D2E3FC;\n",
              "      --hover-bg-color: #434B5C;\n",
              "      --hover-fill-color: #FFFFFF;\n",
              "      --disabled-bg-color: #3B4455;\n",
              "      --disabled-fill-color: #666;\n",
              "  }\n",
              "\n",
              "  .colab-df-quickchart {\n",
              "    background-color: var(--bg-color);\n",
              "    border: none;\n",
              "    border-radius: 50%;\n",
              "    cursor: pointer;\n",
              "    display: none;\n",
              "    fill: var(--fill-color);\n",
              "    height: 32px;\n",
              "    padding: 0;\n",
              "    width: 32px;\n",
              "  }\n",
              "\n",
              "  .colab-df-quickchart:hover {\n",
              "    background-color: var(--hover-bg-color);\n",
              "    box-shadow: 0 1px 2px rgba(60, 64, 67, 0.3), 0 1px 3px 1px rgba(60, 64, 67, 0.15);\n",
              "    fill: var(--button-hover-fill-color);\n",
              "  }\n",
              "\n",
              "  .colab-df-quickchart-complete:disabled,\n",
              "  .colab-df-quickchart-complete:disabled:hover {\n",
              "    background-color: var(--disabled-bg-color);\n",
              "    fill: var(--disabled-fill-color);\n",
              "    box-shadow: none;\n",
              "  }\n",
              "\n",
              "  .colab-df-spinner {\n",
              "    border: 2px solid var(--fill-color);\n",
              "    border-color: transparent;\n",
              "    border-bottom-color: var(--fill-color);\n",
              "    animation:\n",
              "      spin 1s steps(1) infinite;\n",
              "  }\n",
              "\n",
              "  @keyframes spin {\n",
              "    0% {\n",
              "      border-color: transparent;\n",
              "      border-bottom-color: var(--fill-color);\n",
              "      border-left-color: var(--fill-color);\n",
              "    }\n",
              "    20% {\n",
              "      border-color: transparent;\n",
              "      border-left-color: var(--fill-color);\n",
              "      border-top-color: var(--fill-color);\n",
              "    }\n",
              "    30% {\n",
              "      border-color: transparent;\n",
              "      border-left-color: var(--fill-color);\n",
              "      border-top-color: var(--fill-color);\n",
              "      border-right-color: var(--fill-color);\n",
              "    }\n",
              "    40% {\n",
              "      border-color: transparent;\n",
              "      border-right-color: var(--fill-color);\n",
              "      border-top-color: var(--fill-color);\n",
              "    }\n",
              "    60% {\n",
              "      border-color: transparent;\n",
              "      border-right-color: var(--fill-color);\n",
              "    }\n",
              "    80% {\n",
              "      border-color: transparent;\n",
              "      border-right-color: var(--fill-color);\n",
              "      border-bottom-color: var(--fill-color);\n",
              "    }\n",
              "    90% {\n",
              "      border-color: transparent;\n",
              "      border-bottom-color: var(--fill-color);\n",
              "    }\n",
              "  }\n",
              "</style>\n",
              "\n",
              "  <script>\n",
              "    async function quickchart(key) {\n",
              "      const quickchartButtonEl =\n",
              "        document.querySelector('#' + key + ' button');\n",
              "      quickchartButtonEl.disabled = true;  // To prevent multiple clicks.\n",
              "      quickchartButtonEl.classList.add('colab-df-spinner');\n",
              "      try {\n",
              "        const charts = await google.colab.kernel.invokeFunction(\n",
              "            'suggestCharts', [key], {});\n",
              "      } catch (error) {\n",
              "        console.error('Error during call to suggestCharts:', error);\n",
              "      }\n",
              "      quickchartButtonEl.classList.remove('colab-df-spinner');\n",
              "      quickchartButtonEl.classList.add('colab-df-quickchart-complete');\n",
              "    }\n",
              "    (() => {\n",
              "      let quickchartButtonEl =\n",
              "        document.querySelector('#df-17abb3da-cbd1-4fde-8478-2dfd64662075 button');\n",
              "      quickchartButtonEl.style.display =\n",
              "        google.colab.kernel.accessAllowed ? 'block' : 'none';\n",
              "    })();\n",
              "  </script>\n",
              "</div>\n",
              "\n",
              "    </div>\n",
              "  </div>\n"
            ],
            "application/vnd.google.colaboratory.intrinsic+json": {
              "type": "dataframe",
              "variable_name": "data"
            }
          },
          "metadata": {},
          "execution_count": 9
        }
      ],
      "execution_count": 9
    },
    {
      "cell_type": "code",
      "source": [
        "data.shape"
      ],
      "metadata": {
        "trusted": true,
        "execution": {
          "iopub.status.busy": "2025-01-17T18:48:24.561848Z",
          "iopub.execute_input": "2025-01-17T18:48:24.562221Z",
          "iopub.status.idle": "2025-01-17T18:48:24.567712Z",
          "shell.execute_reply.started": "2025-01-17T18:48:24.562194Z",
          "shell.execute_reply": "2025-01-17T18:48:24.566643Z"
        },
        "colab": {
          "base_uri": "https://localhost:8080/"
        },
        "id": "Uv2JC3sPZPdF",
        "outputId": "0a16e013-d7fa-4f4e-e25f-e227e337437e"
      },
      "outputs": [
        {
          "output_type": "execute_result",
          "data": {
            "text/plain": [
              "(215063, 7)"
            ]
          },
          "metadata": {},
          "execution_count": 10
        }
      ],
      "execution_count": 10
    },
    {
      "cell_type": "code",
      "source": [
        "data = data[['review','condition']]\n",
        "data.head()"
      ],
      "metadata": {
        "trusted": true,
        "execution": {
          "iopub.status.busy": "2025-01-17T18:48:25.723573Z",
          "iopub.execute_input": "2025-01-17T18:48:25.723888Z",
          "iopub.status.idle": "2025-01-17T18:48:25.745914Z",
          "shell.execute_reply.started": "2025-01-17T18:48:25.723858Z",
          "shell.execute_reply": "2025-01-17T18:48:25.745119Z"
        },
        "colab": {
          "base_uri": "https://localhost:8080/",
          "height": 206
        },
        "id": "CHz5RsgeZPdF",
        "outputId": "dcd89f21-0d8f-43a2-87b5-7ff94507460e"
      },
      "outputs": [
        {
          "output_type": "execute_result",
          "data": {
            "text/plain": [
              "                                              review  \\\n",
              "0  \"It has no side effect, I take it in combinati...   \n",
              "1  \"My son is halfway through his fourth week of ...   \n",
              "2  \"I used to take another oral contraceptive, wh...   \n",
              "3  \"This is my first time using any form of birth...   \n",
              "4  \"Suboxone has completely turned my life around...   \n",
              "\n",
              "                      condition  \n",
              "0  Left Ventricular Dysfunction  \n",
              "1                          ADHD  \n",
              "2                 Birth Control  \n",
              "3                 Birth Control  \n",
              "4             Opiate Dependence  "
            ],
            "text/html": [
              "\n",
              "  <div id=\"df-b8d07d3a-a794-46c4-98ee-a46ffd8254bb\" class=\"colab-df-container\">\n",
              "    <div>\n",
              "<style scoped>\n",
              "    .dataframe tbody tr th:only-of-type {\n",
              "        vertical-align: middle;\n",
              "    }\n",
              "\n",
              "    .dataframe tbody tr th {\n",
              "        vertical-align: top;\n",
              "    }\n",
              "\n",
              "    .dataframe thead th {\n",
              "        text-align: right;\n",
              "    }\n",
              "</style>\n",
              "<table border=\"1\" class=\"dataframe\">\n",
              "  <thead>\n",
              "    <tr style=\"text-align: right;\">\n",
              "      <th></th>\n",
              "      <th>review</th>\n",
              "      <th>condition</th>\n",
              "    </tr>\n",
              "  </thead>\n",
              "  <tbody>\n",
              "    <tr>\n",
              "      <th>0</th>\n",
              "      <td>\"It has no side effect, I take it in combinati...</td>\n",
              "      <td>Left Ventricular Dysfunction</td>\n",
              "    </tr>\n",
              "    <tr>\n",
              "      <th>1</th>\n",
              "      <td>\"My son is halfway through his fourth week of ...</td>\n",
              "      <td>ADHD</td>\n",
              "    </tr>\n",
              "    <tr>\n",
              "      <th>2</th>\n",
              "      <td>\"I used to take another oral contraceptive, wh...</td>\n",
              "      <td>Birth Control</td>\n",
              "    </tr>\n",
              "    <tr>\n",
              "      <th>3</th>\n",
              "      <td>\"This is my first time using any form of birth...</td>\n",
              "      <td>Birth Control</td>\n",
              "    </tr>\n",
              "    <tr>\n",
              "      <th>4</th>\n",
              "      <td>\"Suboxone has completely turned my life around...</td>\n",
              "      <td>Opiate Dependence</td>\n",
              "    </tr>\n",
              "  </tbody>\n",
              "</table>\n",
              "</div>\n",
              "    <div class=\"colab-df-buttons\">\n",
              "\n",
              "  <div class=\"colab-df-container\">\n",
              "    <button class=\"colab-df-convert\" onclick=\"convertToInteractive('df-b8d07d3a-a794-46c4-98ee-a46ffd8254bb')\"\n",
              "            title=\"Convert this dataframe to an interactive table.\"\n",
              "            style=\"display:none;\">\n",
              "\n",
              "  <svg xmlns=\"http://www.w3.org/2000/svg\" height=\"24px\" viewBox=\"0 -960 960 960\">\n",
              "    <path d=\"M120-120v-720h720v720H120Zm60-500h600v-160H180v160Zm220 220h160v-160H400v160Zm0 220h160v-160H400v160ZM180-400h160v-160H180v160Zm440 0h160v-160H620v160ZM180-180h160v-160H180v160Zm440 0h160v-160H620v160Z\"/>\n",
              "  </svg>\n",
              "    </button>\n",
              "\n",
              "  <style>\n",
              "    .colab-df-container {\n",
              "      display:flex;\n",
              "      gap: 12px;\n",
              "    }\n",
              "\n",
              "    .colab-df-convert {\n",
              "      background-color: #E8F0FE;\n",
              "      border: none;\n",
              "      border-radius: 50%;\n",
              "      cursor: pointer;\n",
              "      display: none;\n",
              "      fill: #1967D2;\n",
              "      height: 32px;\n",
              "      padding: 0 0 0 0;\n",
              "      width: 32px;\n",
              "    }\n",
              "\n",
              "    .colab-df-convert:hover {\n",
              "      background-color: #E2EBFA;\n",
              "      box-shadow: 0px 1px 2px rgba(60, 64, 67, 0.3), 0px 1px 3px 1px rgba(60, 64, 67, 0.15);\n",
              "      fill: #174EA6;\n",
              "    }\n",
              "\n",
              "    .colab-df-buttons div {\n",
              "      margin-bottom: 4px;\n",
              "    }\n",
              "\n",
              "    [theme=dark] .colab-df-convert {\n",
              "      background-color: #3B4455;\n",
              "      fill: #D2E3FC;\n",
              "    }\n",
              "\n",
              "    [theme=dark] .colab-df-convert:hover {\n",
              "      background-color: #434B5C;\n",
              "      box-shadow: 0px 1px 3px 1px rgba(0, 0, 0, 0.15);\n",
              "      filter: drop-shadow(0px 1px 2px rgba(0, 0, 0, 0.3));\n",
              "      fill: #FFFFFF;\n",
              "    }\n",
              "  </style>\n",
              "\n",
              "    <script>\n",
              "      const buttonEl =\n",
              "        document.querySelector('#df-b8d07d3a-a794-46c4-98ee-a46ffd8254bb button.colab-df-convert');\n",
              "      buttonEl.style.display =\n",
              "        google.colab.kernel.accessAllowed ? 'block' : 'none';\n",
              "\n",
              "      async function convertToInteractive(key) {\n",
              "        const element = document.querySelector('#df-b8d07d3a-a794-46c4-98ee-a46ffd8254bb');\n",
              "        const dataTable =\n",
              "          await google.colab.kernel.invokeFunction('convertToInteractive',\n",
              "                                                    [key], {});\n",
              "        if (!dataTable) return;\n",
              "\n",
              "        const docLinkHtml = 'Like what you see? Visit the ' +\n",
              "          '<a target=\"_blank\" href=https://colab.research.google.com/notebooks/data_table.ipynb>data table notebook</a>'\n",
              "          + ' to learn more about interactive tables.';\n",
              "        element.innerHTML = '';\n",
              "        dataTable['output_type'] = 'display_data';\n",
              "        await google.colab.output.renderOutput(dataTable, element);\n",
              "        const docLink = document.createElement('div');\n",
              "        docLink.innerHTML = docLinkHtml;\n",
              "        element.appendChild(docLink);\n",
              "      }\n",
              "    </script>\n",
              "  </div>\n",
              "\n",
              "\n",
              "<div id=\"df-fc8dd6e2-886b-4d48-88bb-ebe8035ed458\">\n",
              "  <button class=\"colab-df-quickchart\" onclick=\"quickchart('df-fc8dd6e2-886b-4d48-88bb-ebe8035ed458')\"\n",
              "            title=\"Suggest charts\"\n",
              "            style=\"display:none;\">\n",
              "\n",
              "<svg xmlns=\"http://www.w3.org/2000/svg\" height=\"24px\"viewBox=\"0 0 24 24\"\n",
              "     width=\"24px\">\n",
              "    <g>\n",
              "        <path d=\"M19 3H5c-1.1 0-2 .9-2 2v14c0 1.1.9 2 2 2h14c1.1 0 2-.9 2-2V5c0-1.1-.9-2-2-2zM9 17H7v-7h2v7zm4 0h-2V7h2v10zm4 0h-2v-4h2v4z\"/>\n",
              "    </g>\n",
              "</svg>\n",
              "  </button>\n",
              "\n",
              "<style>\n",
              "  .colab-df-quickchart {\n",
              "      --bg-color: #E8F0FE;\n",
              "      --fill-color: #1967D2;\n",
              "      --hover-bg-color: #E2EBFA;\n",
              "      --hover-fill-color: #174EA6;\n",
              "      --disabled-fill-color: #AAA;\n",
              "      --disabled-bg-color: #DDD;\n",
              "  }\n",
              "\n",
              "  [theme=dark] .colab-df-quickchart {\n",
              "      --bg-color: #3B4455;\n",
              "      --fill-color: #D2E3FC;\n",
              "      --hover-bg-color: #434B5C;\n",
              "      --hover-fill-color: #FFFFFF;\n",
              "      --disabled-bg-color: #3B4455;\n",
              "      --disabled-fill-color: #666;\n",
              "  }\n",
              "\n",
              "  .colab-df-quickchart {\n",
              "    background-color: var(--bg-color);\n",
              "    border: none;\n",
              "    border-radius: 50%;\n",
              "    cursor: pointer;\n",
              "    display: none;\n",
              "    fill: var(--fill-color);\n",
              "    height: 32px;\n",
              "    padding: 0;\n",
              "    width: 32px;\n",
              "  }\n",
              "\n",
              "  .colab-df-quickchart:hover {\n",
              "    background-color: var(--hover-bg-color);\n",
              "    box-shadow: 0 1px 2px rgba(60, 64, 67, 0.3), 0 1px 3px 1px rgba(60, 64, 67, 0.15);\n",
              "    fill: var(--button-hover-fill-color);\n",
              "  }\n",
              "\n",
              "  .colab-df-quickchart-complete:disabled,\n",
              "  .colab-df-quickchart-complete:disabled:hover {\n",
              "    background-color: var(--disabled-bg-color);\n",
              "    fill: var(--disabled-fill-color);\n",
              "    box-shadow: none;\n",
              "  }\n",
              "\n",
              "  .colab-df-spinner {\n",
              "    border: 2px solid var(--fill-color);\n",
              "    border-color: transparent;\n",
              "    border-bottom-color: var(--fill-color);\n",
              "    animation:\n",
              "      spin 1s steps(1) infinite;\n",
              "  }\n",
              "\n",
              "  @keyframes spin {\n",
              "    0% {\n",
              "      border-color: transparent;\n",
              "      border-bottom-color: var(--fill-color);\n",
              "      border-left-color: var(--fill-color);\n",
              "    }\n",
              "    20% {\n",
              "      border-color: transparent;\n",
              "      border-left-color: var(--fill-color);\n",
              "      border-top-color: var(--fill-color);\n",
              "    }\n",
              "    30% {\n",
              "      border-color: transparent;\n",
              "      border-left-color: var(--fill-color);\n",
              "      border-top-color: var(--fill-color);\n",
              "      border-right-color: var(--fill-color);\n",
              "    }\n",
              "    40% {\n",
              "      border-color: transparent;\n",
              "      border-right-color: var(--fill-color);\n",
              "      border-top-color: var(--fill-color);\n",
              "    }\n",
              "    60% {\n",
              "      border-color: transparent;\n",
              "      border-right-color: var(--fill-color);\n",
              "    }\n",
              "    80% {\n",
              "      border-color: transparent;\n",
              "      border-right-color: var(--fill-color);\n",
              "      border-bottom-color: var(--fill-color);\n",
              "    }\n",
              "    90% {\n",
              "      border-color: transparent;\n",
              "      border-bottom-color: var(--fill-color);\n",
              "    }\n",
              "  }\n",
              "</style>\n",
              "\n",
              "  <script>\n",
              "    async function quickchart(key) {\n",
              "      const quickchartButtonEl =\n",
              "        document.querySelector('#' + key + ' button');\n",
              "      quickchartButtonEl.disabled = true;  // To prevent multiple clicks.\n",
              "      quickchartButtonEl.classList.add('colab-df-spinner');\n",
              "      try {\n",
              "        const charts = await google.colab.kernel.invokeFunction(\n",
              "            'suggestCharts', [key], {});\n",
              "      } catch (error) {\n",
              "        console.error('Error during call to suggestCharts:', error);\n",
              "      }\n",
              "      quickchartButtonEl.classList.remove('colab-df-spinner');\n",
              "      quickchartButtonEl.classList.add('colab-df-quickchart-complete');\n",
              "    }\n",
              "    (() => {\n",
              "      let quickchartButtonEl =\n",
              "        document.querySelector('#df-fc8dd6e2-886b-4d48-88bb-ebe8035ed458 button');\n",
              "      quickchartButtonEl.style.display =\n",
              "        google.colab.kernel.accessAllowed ? 'block' : 'none';\n",
              "    })();\n",
              "  </script>\n",
              "</div>\n",
              "\n",
              "    </div>\n",
              "  </div>\n"
            ],
            "application/vnd.google.colaboratory.intrinsic+json": {
              "type": "dataframe",
              "variable_name": "data"
            }
          },
          "metadata": {},
          "execution_count": 11
        }
      ],
      "execution_count": 11
    },
    {
      "cell_type": "markdown",
      "source": [
        "## Exploratory Data Analysis"
      ],
      "metadata": {
        "id": "QT20O1n8ZPdF"
      }
    },
    {
      "cell_type": "code",
      "source": [
        "data.isnull().sum()"
      ],
      "metadata": {
        "trusted": true,
        "execution": {
          "iopub.status.busy": "2025-01-17T18:48:30.553892Z",
          "iopub.execute_input": "2025-01-17T18:48:30.554246Z",
          "iopub.status.idle": "2025-01-17T18:48:30.598236Z",
          "shell.execute_reply.started": "2025-01-17T18:48:30.55422Z",
          "shell.execute_reply": "2025-01-17T18:48:30.597258Z"
        },
        "colab": {
          "base_uri": "https://localhost:8080/",
          "height": 147
        },
        "id": "lK2BQyZlZPdG",
        "outputId": "47419102-899a-45e0-fd05-7136de34bff2"
      },
      "outputs": [
        {
          "output_type": "execute_result",
          "data": {
            "text/plain": [
              "review          0\n",
              "condition    1194\n",
              "dtype: int64"
            ],
            "text/html": [
              "<div>\n",
              "<style scoped>\n",
              "    .dataframe tbody tr th:only-of-type {\n",
              "        vertical-align: middle;\n",
              "    }\n",
              "\n",
              "    .dataframe tbody tr th {\n",
              "        vertical-align: top;\n",
              "    }\n",
              "\n",
              "    .dataframe thead th {\n",
              "        text-align: right;\n",
              "    }\n",
              "</style>\n",
              "<table border=\"1\" class=\"dataframe\">\n",
              "  <thead>\n",
              "    <tr style=\"text-align: right;\">\n",
              "      <th></th>\n",
              "      <th>0</th>\n",
              "    </tr>\n",
              "  </thead>\n",
              "  <tbody>\n",
              "    <tr>\n",
              "      <th>review</th>\n",
              "      <td>0</td>\n",
              "    </tr>\n",
              "    <tr>\n",
              "      <th>condition</th>\n",
              "      <td>1194</td>\n",
              "    </tr>\n",
              "  </tbody>\n",
              "</table>\n",
              "</div><br><label><b>dtype:</b> int64</label>"
            ]
          },
          "metadata": {},
          "execution_count": 12
        }
      ],
      "execution_count": 12
    },
    {
      "cell_type": "code",
      "source": [
        "data.shape"
      ],
      "metadata": {
        "trusted": true,
        "execution": {
          "iopub.status.busy": "2025-01-17T18:48:31.654515Z",
          "iopub.execute_input": "2025-01-17T18:48:31.654844Z",
          "iopub.status.idle": "2025-01-17T18:48:31.659783Z",
          "shell.execute_reply.started": "2025-01-17T18:48:31.654814Z",
          "shell.execute_reply": "2025-01-17T18:48:31.658907Z"
        },
        "colab": {
          "base_uri": "https://localhost:8080/"
        },
        "id": "6MeTfPvfZPdG",
        "outputId": "5500efe0-7e3c-4d88-9e50-42f601167d98"
      },
      "outputs": [
        {
          "output_type": "execute_result",
          "data": {
            "text/plain": [
              "(215063, 2)"
            ]
          },
          "metadata": {},
          "execution_count": 13
        }
      ],
      "execution_count": 13
    },
    {
      "cell_type": "code",
      "source": [
        "# Since the null values are very less, we can remove the values for now.\n",
        "data.dropna(inplace=True)"
      ],
      "metadata": {
        "trusted": true,
        "execution": {
          "iopub.status.busy": "2025-01-17T18:48:32.461694Z",
          "iopub.execute_input": "2025-01-17T18:48:32.462066Z",
          "iopub.status.idle": "2025-01-17T18:48:32.513657Z",
          "shell.execute_reply.started": "2025-01-17T18:48:32.462037Z",
          "shell.execute_reply": "2025-01-17T18:48:32.512856Z"
        },
        "id": "1c0IcxyTZPdG"
      },
      "outputs": [],
      "execution_count": 14
    },
    {
      "cell_type": "code",
      "source": [
        "data.isnull().sum()"
      ],
      "metadata": {
        "trusted": true,
        "execution": {
          "iopub.status.busy": "2025-01-17T18:48:35.421994Z",
          "iopub.execute_input": "2025-01-17T18:48:35.422326Z",
          "iopub.status.idle": "2025-01-17T18:48:35.46427Z",
          "shell.execute_reply.started": "2025-01-17T18:48:35.422301Z",
          "shell.execute_reply": "2025-01-17T18:48:35.463443Z"
        },
        "colab": {
          "base_uri": "https://localhost:8080/",
          "height": 147
        },
        "id": "7YSHeeBEZPdG",
        "outputId": "717cc966-dd27-446a-9652-a9d3cfd70d3d"
      },
      "outputs": [
        {
          "output_type": "execute_result",
          "data": {
            "text/plain": [
              "review       0\n",
              "condition    0\n",
              "dtype: int64"
            ],
            "text/html": [
              "<div>\n",
              "<style scoped>\n",
              "    .dataframe tbody tr th:only-of-type {\n",
              "        vertical-align: middle;\n",
              "    }\n",
              "\n",
              "    .dataframe tbody tr th {\n",
              "        vertical-align: top;\n",
              "    }\n",
              "\n",
              "    .dataframe thead th {\n",
              "        text-align: right;\n",
              "    }\n",
              "</style>\n",
              "<table border=\"1\" class=\"dataframe\">\n",
              "  <thead>\n",
              "    <tr style=\"text-align: right;\">\n",
              "      <th></th>\n",
              "      <th>0</th>\n",
              "    </tr>\n",
              "  </thead>\n",
              "  <tbody>\n",
              "    <tr>\n",
              "      <th>review</th>\n",
              "      <td>0</td>\n",
              "    </tr>\n",
              "    <tr>\n",
              "      <th>condition</th>\n",
              "      <td>0</td>\n",
              "    </tr>\n",
              "  </tbody>\n",
              "</table>\n",
              "</div><br><label><b>dtype:</b> int64</label>"
            ]
          },
          "metadata": {},
          "execution_count": 15
        }
      ],
      "execution_count": 15
    },
    {
      "cell_type": "code",
      "source": [
        "data.shape"
      ],
      "metadata": {
        "trusted": true,
        "execution": {
          "iopub.status.busy": "2025-01-17T18:48:35.847546Z",
          "iopub.execute_input": "2025-01-17T18:48:35.847846Z",
          "iopub.status.idle": "2025-01-17T18:48:35.852676Z",
          "shell.execute_reply.started": "2025-01-17T18:48:35.847823Z",
          "shell.execute_reply": "2025-01-17T18:48:35.851923Z"
        },
        "colab": {
          "base_uri": "https://localhost:8080/"
        },
        "id": "48q0dE4TZPdH",
        "outputId": "60572877-e5a9-4d58-fe91-f91109ac2240"
      },
      "outputs": [
        {
          "output_type": "execute_result",
          "data": {
            "text/plain": [
              "(213869, 2)"
            ]
          },
          "metadata": {},
          "execution_count": 16
        }
      ],
      "execution_count": 16
    },
    {
      "cell_type": "code",
      "source": [
        "len(data.review.unique())"
      ],
      "metadata": {
        "trusted": true,
        "execution": {
          "iopub.status.busy": "2025-01-17T18:48:36.34333Z",
          "iopub.execute_input": "2025-01-17T18:48:36.343632Z",
          "iopub.status.idle": "2025-01-17T18:48:36.594541Z",
          "shell.execute_reply.started": "2025-01-17T18:48:36.343609Z",
          "shell.execute_reply": "2025-01-17T18:48:36.593774Z"
        },
        "colab": {
          "base_uri": "https://localhost:8080/"
        },
        "id": "GoRnGMvRZPdH",
        "outputId": "abea2555-6dd0-428d-aa7b-c557c453f8ad"
      },
      "outputs": [
        {
          "output_type": "execute_result",
          "data": {
            "text/plain": [
              "128449"
            ]
          },
          "metadata": {},
          "execution_count": 17
        }
      ],
      "execution_count": 17
    },
    {
      "cell_type": "code",
      "source": [
        "len(data.condition.unique())"
      ],
      "metadata": {
        "trusted": true,
        "execution": {
          "iopub.status.busy": "2025-01-17T18:48:36.801769Z",
          "iopub.execute_input": "2025-01-17T18:48:36.802145Z",
          "iopub.status.idle": "2025-01-17T18:48:36.820821Z",
          "shell.execute_reply.started": "2025-01-17T18:48:36.802113Z",
          "shell.execute_reply": "2025-01-17T18:48:36.820016Z"
        },
        "colab": {
          "base_uri": "https://localhost:8080/"
        },
        "id": "usNeoVqAZPdH",
        "outputId": "e6491669-0641-4ec7-a962-4ec45bc1ef50"
      },
      "outputs": [
        {
          "output_type": "execute_result",
          "data": {
            "text/plain": [
              "916"
            ]
          },
          "metadata": {},
          "execution_count": 18
        }
      ],
      "execution_count": 18
    },
    {
      "cell_type": "code",
      "source": [
        "# We need to convert the label to numeric form, so we need to do preprocessing\n",
        "# We are only going to be classifying conditions for which the count of reviews are more than 3000.\n",
        "\n",
        "review_counts = data.condition.value_counts(ascending=False).reset_index()\n",
        "review_counts"
      ],
      "metadata": {
        "trusted": true,
        "execution": {
          "iopub.status.busy": "2025-01-17T18:48:37.196017Z",
          "iopub.execute_input": "2025-01-17T18:48:37.196329Z",
          "iopub.status.idle": "2025-01-17T18:48:37.222325Z",
          "shell.execute_reply.started": "2025-01-17T18:48:37.196306Z",
          "shell.execute_reply": "2025-01-17T18:48:37.221425Z"
        },
        "colab": {
          "base_uri": "https://localhost:8080/",
          "height": 423
        },
        "id": "cgeQU_o9ZPdH",
        "outputId": "a6e8caf7-7aae-456d-f38c-5825c0616bc6"
      },
      "outputs": [
        {
          "output_type": "execute_result",
          "data": {
            "text/plain": [
              "                                        condition  count\n",
              "0                                   Birth Control  38436\n",
              "1                                      Depression  12164\n",
              "2                                            Pain   8245\n",
              "3                                         Anxiety   7812\n",
              "4                                            Acne   7435\n",
              "..                                            ...    ...\n",
              "911                          Systemic Candidiasis      1\n",
              "912                              Wilson's Disease      1\n",
              "913                     unctional Gastric Disorde      1\n",
              "914                                        Sepsis      1\n",
              "915  105</span> users found this comment helpful.      1\n",
              "\n",
              "[916 rows x 2 columns]"
            ],
            "text/html": [
              "\n",
              "  <div id=\"df-a53aceb8-8f66-42a6-bc26-55a4dc0deb85\" class=\"colab-df-container\">\n",
              "    <div>\n",
              "<style scoped>\n",
              "    .dataframe tbody tr th:only-of-type {\n",
              "        vertical-align: middle;\n",
              "    }\n",
              "\n",
              "    .dataframe tbody tr th {\n",
              "        vertical-align: top;\n",
              "    }\n",
              "\n",
              "    .dataframe thead th {\n",
              "        text-align: right;\n",
              "    }\n",
              "</style>\n",
              "<table border=\"1\" class=\"dataframe\">\n",
              "  <thead>\n",
              "    <tr style=\"text-align: right;\">\n",
              "      <th></th>\n",
              "      <th>condition</th>\n",
              "      <th>count</th>\n",
              "    </tr>\n",
              "  </thead>\n",
              "  <tbody>\n",
              "    <tr>\n",
              "      <th>0</th>\n",
              "      <td>Birth Control</td>\n",
              "      <td>38436</td>\n",
              "    </tr>\n",
              "    <tr>\n",
              "      <th>1</th>\n",
              "      <td>Depression</td>\n",
              "      <td>12164</td>\n",
              "    </tr>\n",
              "    <tr>\n",
              "      <th>2</th>\n",
              "      <td>Pain</td>\n",
              "      <td>8245</td>\n",
              "    </tr>\n",
              "    <tr>\n",
              "      <th>3</th>\n",
              "      <td>Anxiety</td>\n",
              "      <td>7812</td>\n",
              "    </tr>\n",
              "    <tr>\n",
              "      <th>4</th>\n",
              "      <td>Acne</td>\n",
              "      <td>7435</td>\n",
              "    </tr>\n",
              "    <tr>\n",
              "      <th>...</th>\n",
              "      <td>...</td>\n",
              "      <td>...</td>\n",
              "    </tr>\n",
              "    <tr>\n",
              "      <th>911</th>\n",
              "      <td>Systemic Candidiasis</td>\n",
              "      <td>1</td>\n",
              "    </tr>\n",
              "    <tr>\n",
              "      <th>912</th>\n",
              "      <td>Wilson's Disease</td>\n",
              "      <td>1</td>\n",
              "    </tr>\n",
              "    <tr>\n",
              "      <th>913</th>\n",
              "      <td>unctional Gastric Disorde</td>\n",
              "      <td>1</td>\n",
              "    </tr>\n",
              "    <tr>\n",
              "      <th>914</th>\n",
              "      <td>Sepsis</td>\n",
              "      <td>1</td>\n",
              "    </tr>\n",
              "    <tr>\n",
              "      <th>915</th>\n",
              "      <td>105&lt;/span&gt; users found this comment helpful.</td>\n",
              "      <td>1</td>\n",
              "    </tr>\n",
              "  </tbody>\n",
              "</table>\n",
              "<p>916 rows × 2 columns</p>\n",
              "</div>\n",
              "    <div class=\"colab-df-buttons\">\n",
              "\n",
              "  <div class=\"colab-df-container\">\n",
              "    <button class=\"colab-df-convert\" onclick=\"convertToInteractive('df-a53aceb8-8f66-42a6-bc26-55a4dc0deb85')\"\n",
              "            title=\"Convert this dataframe to an interactive table.\"\n",
              "            style=\"display:none;\">\n",
              "\n",
              "  <svg xmlns=\"http://www.w3.org/2000/svg\" height=\"24px\" viewBox=\"0 -960 960 960\">\n",
              "    <path d=\"M120-120v-720h720v720H120Zm60-500h600v-160H180v160Zm220 220h160v-160H400v160Zm0 220h160v-160H400v160ZM180-400h160v-160H180v160Zm440 0h160v-160H620v160ZM180-180h160v-160H180v160Zm440 0h160v-160H620v160Z\"/>\n",
              "  </svg>\n",
              "    </button>\n",
              "\n",
              "  <style>\n",
              "    .colab-df-container {\n",
              "      display:flex;\n",
              "      gap: 12px;\n",
              "    }\n",
              "\n",
              "    .colab-df-convert {\n",
              "      background-color: #E8F0FE;\n",
              "      border: none;\n",
              "      border-radius: 50%;\n",
              "      cursor: pointer;\n",
              "      display: none;\n",
              "      fill: #1967D2;\n",
              "      height: 32px;\n",
              "      padding: 0 0 0 0;\n",
              "      width: 32px;\n",
              "    }\n",
              "\n",
              "    .colab-df-convert:hover {\n",
              "      background-color: #E2EBFA;\n",
              "      box-shadow: 0px 1px 2px rgba(60, 64, 67, 0.3), 0px 1px 3px 1px rgba(60, 64, 67, 0.15);\n",
              "      fill: #174EA6;\n",
              "    }\n",
              "\n",
              "    .colab-df-buttons div {\n",
              "      margin-bottom: 4px;\n",
              "    }\n",
              "\n",
              "    [theme=dark] .colab-df-convert {\n",
              "      background-color: #3B4455;\n",
              "      fill: #D2E3FC;\n",
              "    }\n",
              "\n",
              "    [theme=dark] .colab-df-convert:hover {\n",
              "      background-color: #434B5C;\n",
              "      box-shadow: 0px 1px 3px 1px rgba(0, 0, 0, 0.15);\n",
              "      filter: drop-shadow(0px 1px 2px rgba(0, 0, 0, 0.3));\n",
              "      fill: #FFFFFF;\n",
              "    }\n",
              "  </style>\n",
              "\n",
              "    <script>\n",
              "      const buttonEl =\n",
              "        document.querySelector('#df-a53aceb8-8f66-42a6-bc26-55a4dc0deb85 button.colab-df-convert');\n",
              "      buttonEl.style.display =\n",
              "        google.colab.kernel.accessAllowed ? 'block' : 'none';\n",
              "\n",
              "      async function convertToInteractive(key) {\n",
              "        const element = document.querySelector('#df-a53aceb8-8f66-42a6-bc26-55a4dc0deb85');\n",
              "        const dataTable =\n",
              "          await google.colab.kernel.invokeFunction('convertToInteractive',\n",
              "                                                    [key], {});\n",
              "        if (!dataTable) return;\n",
              "\n",
              "        const docLinkHtml = 'Like what you see? Visit the ' +\n",
              "          '<a target=\"_blank\" href=https://colab.research.google.com/notebooks/data_table.ipynb>data table notebook</a>'\n",
              "          + ' to learn more about interactive tables.';\n",
              "        element.innerHTML = '';\n",
              "        dataTable['output_type'] = 'display_data';\n",
              "        await google.colab.output.renderOutput(dataTable, element);\n",
              "        const docLink = document.createElement('div');\n",
              "        docLink.innerHTML = docLinkHtml;\n",
              "        element.appendChild(docLink);\n",
              "      }\n",
              "    </script>\n",
              "  </div>\n",
              "\n",
              "\n",
              "<div id=\"df-38304dd5-72f2-4334-b0f2-8b1f427d819e\">\n",
              "  <button class=\"colab-df-quickchart\" onclick=\"quickchart('df-38304dd5-72f2-4334-b0f2-8b1f427d819e')\"\n",
              "            title=\"Suggest charts\"\n",
              "            style=\"display:none;\">\n",
              "\n",
              "<svg xmlns=\"http://www.w3.org/2000/svg\" height=\"24px\"viewBox=\"0 0 24 24\"\n",
              "     width=\"24px\">\n",
              "    <g>\n",
              "        <path d=\"M19 3H5c-1.1 0-2 .9-2 2v14c0 1.1.9 2 2 2h14c1.1 0 2-.9 2-2V5c0-1.1-.9-2-2-2zM9 17H7v-7h2v7zm4 0h-2V7h2v10zm4 0h-2v-4h2v4z\"/>\n",
              "    </g>\n",
              "</svg>\n",
              "  </button>\n",
              "\n",
              "<style>\n",
              "  .colab-df-quickchart {\n",
              "      --bg-color: #E8F0FE;\n",
              "      --fill-color: #1967D2;\n",
              "      --hover-bg-color: #E2EBFA;\n",
              "      --hover-fill-color: #174EA6;\n",
              "      --disabled-fill-color: #AAA;\n",
              "      --disabled-bg-color: #DDD;\n",
              "  }\n",
              "\n",
              "  [theme=dark] .colab-df-quickchart {\n",
              "      --bg-color: #3B4455;\n",
              "      --fill-color: #D2E3FC;\n",
              "      --hover-bg-color: #434B5C;\n",
              "      --hover-fill-color: #FFFFFF;\n",
              "      --disabled-bg-color: #3B4455;\n",
              "      --disabled-fill-color: #666;\n",
              "  }\n",
              "\n",
              "  .colab-df-quickchart {\n",
              "    background-color: var(--bg-color);\n",
              "    border: none;\n",
              "    border-radius: 50%;\n",
              "    cursor: pointer;\n",
              "    display: none;\n",
              "    fill: var(--fill-color);\n",
              "    height: 32px;\n",
              "    padding: 0;\n",
              "    width: 32px;\n",
              "  }\n",
              "\n",
              "  .colab-df-quickchart:hover {\n",
              "    background-color: var(--hover-bg-color);\n",
              "    box-shadow: 0 1px 2px rgba(60, 64, 67, 0.3), 0 1px 3px 1px rgba(60, 64, 67, 0.15);\n",
              "    fill: var(--button-hover-fill-color);\n",
              "  }\n",
              "\n",
              "  .colab-df-quickchart-complete:disabled,\n",
              "  .colab-df-quickchart-complete:disabled:hover {\n",
              "    background-color: var(--disabled-bg-color);\n",
              "    fill: var(--disabled-fill-color);\n",
              "    box-shadow: none;\n",
              "  }\n",
              "\n",
              "  .colab-df-spinner {\n",
              "    border: 2px solid var(--fill-color);\n",
              "    border-color: transparent;\n",
              "    border-bottom-color: var(--fill-color);\n",
              "    animation:\n",
              "      spin 1s steps(1) infinite;\n",
              "  }\n",
              "\n",
              "  @keyframes spin {\n",
              "    0% {\n",
              "      border-color: transparent;\n",
              "      border-bottom-color: var(--fill-color);\n",
              "      border-left-color: var(--fill-color);\n",
              "    }\n",
              "    20% {\n",
              "      border-color: transparent;\n",
              "      border-left-color: var(--fill-color);\n",
              "      border-top-color: var(--fill-color);\n",
              "    }\n",
              "    30% {\n",
              "      border-color: transparent;\n",
              "      border-left-color: var(--fill-color);\n",
              "      border-top-color: var(--fill-color);\n",
              "      border-right-color: var(--fill-color);\n",
              "    }\n",
              "    40% {\n",
              "      border-color: transparent;\n",
              "      border-right-color: var(--fill-color);\n",
              "      border-top-color: var(--fill-color);\n",
              "    }\n",
              "    60% {\n",
              "      border-color: transparent;\n",
              "      border-right-color: var(--fill-color);\n",
              "    }\n",
              "    80% {\n",
              "      border-color: transparent;\n",
              "      border-right-color: var(--fill-color);\n",
              "      border-bottom-color: var(--fill-color);\n",
              "    }\n",
              "    90% {\n",
              "      border-color: transparent;\n",
              "      border-bottom-color: var(--fill-color);\n",
              "    }\n",
              "  }\n",
              "</style>\n",
              "\n",
              "  <script>\n",
              "    async function quickchart(key) {\n",
              "      const quickchartButtonEl =\n",
              "        document.querySelector('#' + key + ' button');\n",
              "      quickchartButtonEl.disabled = true;  // To prevent multiple clicks.\n",
              "      quickchartButtonEl.classList.add('colab-df-spinner');\n",
              "      try {\n",
              "        const charts = await google.colab.kernel.invokeFunction(\n",
              "            'suggestCharts', [key], {});\n",
              "      } catch (error) {\n",
              "        console.error('Error during call to suggestCharts:', error);\n",
              "      }\n",
              "      quickchartButtonEl.classList.remove('colab-df-spinner');\n",
              "      quickchartButtonEl.classList.add('colab-df-quickchart-complete');\n",
              "    }\n",
              "    (() => {\n",
              "      let quickchartButtonEl =\n",
              "        document.querySelector('#df-38304dd5-72f2-4334-b0f2-8b1f427d819e button');\n",
              "      quickchartButtonEl.style.display =\n",
              "        google.colab.kernel.accessAllowed ? 'block' : 'none';\n",
              "    })();\n",
              "  </script>\n",
              "</div>\n",
              "\n",
              "  <div id=\"id_8986620c-dba7-4e9c-8a43-e41e09d760fa\">\n",
              "    <style>\n",
              "      .colab-df-generate {\n",
              "        background-color: #E8F0FE;\n",
              "        border: none;\n",
              "        border-radius: 50%;\n",
              "        cursor: pointer;\n",
              "        display: none;\n",
              "        fill: #1967D2;\n",
              "        height: 32px;\n",
              "        padding: 0 0 0 0;\n",
              "        width: 32px;\n",
              "      }\n",
              "\n",
              "      .colab-df-generate:hover {\n",
              "        background-color: #E2EBFA;\n",
              "        box-shadow: 0px 1px 2px rgba(60, 64, 67, 0.3), 0px 1px 3px 1px rgba(60, 64, 67, 0.15);\n",
              "        fill: #174EA6;\n",
              "      }\n",
              "\n",
              "      [theme=dark] .colab-df-generate {\n",
              "        background-color: #3B4455;\n",
              "        fill: #D2E3FC;\n",
              "      }\n",
              "\n",
              "      [theme=dark] .colab-df-generate:hover {\n",
              "        background-color: #434B5C;\n",
              "        box-shadow: 0px 1px 3px 1px rgba(0, 0, 0, 0.15);\n",
              "        filter: drop-shadow(0px 1px 2px rgba(0, 0, 0, 0.3));\n",
              "        fill: #FFFFFF;\n",
              "      }\n",
              "    </style>\n",
              "    <button class=\"colab-df-generate\" onclick=\"generateWithVariable('review_counts')\"\n",
              "            title=\"Generate code using this dataframe.\"\n",
              "            style=\"display:none;\">\n",
              "\n",
              "  <svg xmlns=\"http://www.w3.org/2000/svg\" height=\"24px\"viewBox=\"0 0 24 24\"\n",
              "       width=\"24px\">\n",
              "    <path d=\"M7,19H8.4L18.45,9,17,7.55,7,17.6ZM5,21V16.75L18.45,3.32a2,2,0,0,1,2.83,0l1.4,1.43a1.91,1.91,0,0,1,.58,1.4,1.91,1.91,0,0,1-.58,1.4L9.25,21ZM18.45,9,17,7.55Zm-12,3A5.31,5.31,0,0,0,4.9,8.1,5.31,5.31,0,0,0,1,6.5,5.31,5.31,0,0,0,4.9,4.9,5.31,5.31,0,0,0,6.5,1,5.31,5.31,0,0,0,8.1,4.9,5.31,5.31,0,0,0,12,6.5,5.46,5.46,0,0,0,6.5,12Z\"/>\n",
              "  </svg>\n",
              "    </button>\n",
              "    <script>\n",
              "      (() => {\n",
              "      const buttonEl =\n",
              "        document.querySelector('#id_8986620c-dba7-4e9c-8a43-e41e09d760fa button.colab-df-generate');\n",
              "      buttonEl.style.display =\n",
              "        google.colab.kernel.accessAllowed ? 'block' : 'none';\n",
              "\n",
              "      buttonEl.onclick = () => {\n",
              "        google.colab.notebook.generateWithVariable('review_counts');\n",
              "      }\n",
              "      })();\n",
              "    </script>\n",
              "  </div>\n",
              "\n",
              "    </div>\n",
              "  </div>\n"
            ],
            "application/vnd.google.colaboratory.intrinsic+json": {
              "type": "dataframe",
              "variable_name": "review_counts",
              "summary": "{\n  \"name\": \"review_counts\",\n  \"rows\": 916,\n  \"fields\": [\n    {\n      \"column\": \"condition\",\n      \"properties\": {\n        \"dtype\": \"string\",\n        \"num_unique_values\": 916,\n        \"samples\": [\n          \"Dyspareunia\",\n          \"98</span> users found this comment helpful.\",\n          \"Myelodysplastic Syndrome\"\n        ],\n        \"semantic_type\": \"\",\n        \"description\": \"\"\n      }\n    },\n    {\n      \"column\": \"count\",\n      \"properties\": {\n        \"dtype\": \"number\",\n        \"std\": 1488,\n        \"min\": 1,\n        \"max\": 38436,\n        \"num_unique_values\": 244,\n        \"samples\": [\n          1867,\n          4904,\n          110\n        ],\n        \"semantic_type\": \"\",\n        \"description\": \"\"\n      }\n    }\n  ]\n}"
            }
          },
          "metadata": {},
          "execution_count": 19
        }
      ],
      "execution_count": 19
    },
    {
      "cell_type": "code",
      "source": [
        "valid_conditions = review_counts[review_counts['count']>3000]['condition'].tolist()\n",
        "valid_conditions"
      ],
      "metadata": {
        "trusted": true,
        "execution": {
          "iopub.status.busy": "2025-01-17T18:49:27.704859Z",
          "iopub.execute_input": "2025-01-17T18:49:27.70521Z",
          "iopub.status.idle": "2025-01-17T18:49:27.7135Z",
          "shell.execute_reply.started": "2025-01-17T18:49:27.705184Z",
          "shell.execute_reply": "2025-01-17T18:49:27.712464Z"
        },
        "colab": {
          "base_uri": "https://localhost:8080/"
        },
        "id": "2nsnQzu-ZPdH",
        "outputId": "da0351f8-7298-44c5-d075-7b3d02d07842"
      },
      "outputs": [
        {
          "output_type": "execute_result",
          "data": {
            "text/plain": [
              "['Birth Control',\n",
              " 'Depression',\n",
              " 'Pain',\n",
              " 'Anxiety',\n",
              " 'Acne',\n",
              " 'Bipolar Disorde',\n",
              " 'Insomnia',\n",
              " 'Weight Loss',\n",
              " 'Obesity',\n",
              " 'ADHD',\n",
              " 'Diabetes, Type 2',\n",
              " 'Emergency Contraception',\n",
              " 'High Blood Pressure',\n",
              " 'Vaginal Yeast Infection']"
            ]
          },
          "metadata": {},
          "execution_count": 20
        }
      ],
      "execution_count": 20
    },
    {
      "cell_type": "code",
      "source": [
        "df = data[data.condition.isin(valid_conditions)]\n",
        "df.shape"
      ],
      "metadata": {
        "trusted": true,
        "execution": {
          "iopub.status.busy": "2025-01-17T18:50:01.897265Z",
          "iopub.execute_input": "2025-01-17T18:50:01.897588Z",
          "iopub.status.idle": "2025-01-17T18:50:01.920874Z",
          "shell.execute_reply.started": "2025-01-17T18:50:01.897561Z",
          "shell.execute_reply": "2025-01-17T18:50:01.919884Z"
        },
        "colab": {
          "base_uri": "https://localhost:8080/"
        },
        "id": "uuylrSZqZPdH",
        "outputId": "a893894b-594d-45d6-be5c-013db80729c1"
      },
      "outputs": [
        {
          "output_type": "execute_result",
          "data": {
            "text/plain": [
              "(111564, 2)"
            ]
          },
          "metadata": {},
          "execution_count": 21
        }
      ],
      "execution_count": 21
    },
    {
      "cell_type": "markdown",
      "source": [
        "So, we are left with 111564 rows of data with 14 classes of reviews."
      ],
      "metadata": {
        "id": "I_e9sjjOZPdH"
      }
    },
    {
      "cell_type": "code",
      "source": [
        "# Target Classes/Labels\n",
        "valid_conditions"
      ],
      "metadata": {
        "trusted": true,
        "execution": {
          "iopub.status.busy": "2025-01-17T18:50:03.564012Z",
          "iopub.execute_input": "2025-01-17T18:50:03.56445Z",
          "iopub.status.idle": "2025-01-17T18:50:03.570757Z",
          "shell.execute_reply.started": "2025-01-17T18:50:03.564415Z",
          "shell.execute_reply": "2025-01-17T18:50:03.569924Z"
        },
        "colab": {
          "base_uri": "https://localhost:8080/"
        },
        "id": "omRZBCMXZPdI",
        "outputId": "8160fb1f-8733-4036-93b8-8039330ff83e"
      },
      "outputs": [
        {
          "output_type": "execute_result",
          "data": {
            "text/plain": [
              "['Birth Control',\n",
              " 'Depression',\n",
              " 'Pain',\n",
              " 'Anxiety',\n",
              " 'Acne',\n",
              " 'Bipolar Disorde',\n",
              " 'Insomnia',\n",
              " 'Weight Loss',\n",
              " 'Obesity',\n",
              " 'ADHD',\n",
              " 'Diabetes, Type 2',\n",
              " 'Emergency Contraception',\n",
              " 'High Blood Pressure',\n",
              " 'Vaginal Yeast Infection']"
            ]
          },
          "metadata": {},
          "execution_count": 22
        }
      ],
      "execution_count": 22
    },
    {
      "cell_type": "code",
      "source": [
        "df.review[:5]"
      ],
      "metadata": {
        "trusted": true,
        "execution": {
          "iopub.status.busy": "2025-01-17T18:50:05.50271Z",
          "iopub.execute_input": "2025-01-17T18:50:05.503034Z",
          "iopub.status.idle": "2025-01-17T18:50:05.509143Z",
          "shell.execute_reply.started": "2025-01-17T18:50:05.503008Z",
          "shell.execute_reply": "2025-01-17T18:50:05.508286Z"
        },
        "colab": {
          "base_uri": "https://localhost:8080/",
          "height": 241
        },
        "id": "RfTIsVi5ZPdI",
        "outputId": "006e507e-ae9d-4d47-ea5f-d1f0fef3f0e3"
      },
      "outputs": [
        {
          "output_type": "execute_result",
          "data": {
            "text/plain": [
              "1    \"My son is halfway through his fourth week of ...\n",
              "2    \"I used to take another oral contraceptive, wh...\n",
              "3    \"This is my first time using any form of birth...\n",
              "6    \"He pulled out, but he cummed a bit in me. I t...\n",
              "7    \"Abilify changed my life. There is hope. I was...\n",
              "Name: review, dtype: object"
            ],
            "text/html": [
              "<div>\n",
              "<style scoped>\n",
              "    .dataframe tbody tr th:only-of-type {\n",
              "        vertical-align: middle;\n",
              "    }\n",
              "\n",
              "    .dataframe tbody tr th {\n",
              "        vertical-align: top;\n",
              "    }\n",
              "\n",
              "    .dataframe thead th {\n",
              "        text-align: right;\n",
              "    }\n",
              "</style>\n",
              "<table border=\"1\" class=\"dataframe\">\n",
              "  <thead>\n",
              "    <tr style=\"text-align: right;\">\n",
              "      <th></th>\n",
              "      <th>review</th>\n",
              "    </tr>\n",
              "  </thead>\n",
              "  <tbody>\n",
              "    <tr>\n",
              "      <th>1</th>\n",
              "      <td>\"My son is halfway through his fourth week of ...</td>\n",
              "    </tr>\n",
              "    <tr>\n",
              "      <th>2</th>\n",
              "      <td>\"I used to take another oral contraceptive, wh...</td>\n",
              "    </tr>\n",
              "    <tr>\n",
              "      <th>3</th>\n",
              "      <td>\"This is my first time using any form of birth...</td>\n",
              "    </tr>\n",
              "    <tr>\n",
              "      <th>6</th>\n",
              "      <td>\"He pulled out, but he cummed a bit in me. I t...</td>\n",
              "    </tr>\n",
              "    <tr>\n",
              "      <th>7</th>\n",
              "      <td>\"Abilify changed my life. There is hope. I was...</td>\n",
              "    </tr>\n",
              "  </tbody>\n",
              "</table>\n",
              "</div><br><label><b>dtype:</b> object</label>"
            ]
          },
          "metadata": {},
          "execution_count": 23
        }
      ],
      "execution_count": 23
    },
    {
      "cell_type": "markdown",
      "source": [
        "## Text Cleaning and Preprocessing"
      ],
      "metadata": {
        "id": "kruo-udyZPdI"
      }
    },
    {
      "cell_type": "markdown",
      "source": [
        "#### Something New: Contraction handling\n",
        "'I'll be' -> 'I will be'"
      ],
      "metadata": {
        "execution": {
          "iopub.status.busy": "2025-01-03T10:29:06.694603Z",
          "iopub.execute_input": "2025-01-03T10:29:06.694984Z",
          "iopub.status.idle": "2025-01-03T10:29:06.698975Z",
          "shell.execute_reply.started": "2025-01-03T10:29:06.694923Z",
          "shell.execute_reply": "2025-01-03T10:29:06.697736Z"
        },
        "id": "r1cCuucCZPdI"
      }
    },
    {
      "cell_type": "code",
      "source": [
        "!pip install contractions\n",
        "import contractions\n",
        "contractions.fix(\"I'll\")"
      ],
      "metadata": {
        "trusted": true,
        "execution": {
          "iopub.status.busy": "2025-01-17T18:50:07.854793Z",
          "iopub.execute_input": "2025-01-17T18:50:07.855149Z",
          "iopub.status.idle": "2025-01-17T18:50:11.482616Z",
          "shell.execute_reply.started": "2025-01-17T18:50:07.855124Z",
          "shell.execute_reply": "2025-01-17T18:50:11.481583Z"
        },
        "colab": {
          "base_uri": "https://localhost:8080/",
          "height": 313
        },
        "id": "Fc6A5lxxZPdI",
        "outputId": "c0ddf812-f3f3-41c0-efb0-12dc772e7d60"
      },
      "outputs": [
        {
          "output_type": "stream",
          "name": "stdout",
          "text": [
            "Collecting contractions\n",
            "  Downloading contractions-0.1.73-py2.py3-none-any.whl.metadata (1.2 kB)\n",
            "Collecting textsearch>=0.0.21 (from contractions)\n",
            "  Downloading textsearch-0.0.24-py2.py3-none-any.whl.metadata (1.2 kB)\n",
            "Collecting anyascii (from textsearch>=0.0.21->contractions)\n",
            "  Downloading anyascii-0.3.2-py3-none-any.whl.metadata (1.5 kB)\n",
            "Collecting pyahocorasick (from textsearch>=0.0.21->contractions)\n",
            "  Downloading pyahocorasick-2.1.0-cp311-cp311-manylinux_2_17_x86_64.manylinux2014_x86_64.whl.metadata (13 kB)\n",
            "Downloading contractions-0.1.73-py2.py3-none-any.whl (8.7 kB)\n",
            "Downloading textsearch-0.0.24-py2.py3-none-any.whl (7.6 kB)\n",
            "Downloading anyascii-0.3.2-py3-none-any.whl (289 kB)\n",
            "\u001b[2K   \u001b[90m━━━━━━━━━━━━━━━━━━━━━━━━━━━━━━━━━━━━━━━━\u001b[0m \u001b[32m289.9/289.9 kB\u001b[0m \u001b[31m8.6 MB/s\u001b[0m eta \u001b[36m0:00:00\u001b[0m\n",
            "\u001b[?25hDownloading pyahocorasick-2.1.0-cp311-cp311-manylinux_2_17_x86_64.manylinux2014_x86_64.whl (118 kB)\n",
            "\u001b[2K   \u001b[90m━━━━━━━━━━━━━━━━━━━━━━━━━━━━━━━━━━━━━━━━\u001b[0m \u001b[32m118.3/118.3 kB\u001b[0m \u001b[31m10.6 MB/s\u001b[0m eta \u001b[36m0:00:00\u001b[0m\n",
            "\u001b[?25hInstalling collected packages: pyahocorasick, anyascii, textsearch, contractions\n",
            "Successfully installed anyascii-0.3.2 contractions-0.1.73 pyahocorasick-2.1.0 textsearch-0.0.24\n"
          ]
        },
        {
          "output_type": "execute_result",
          "data": {
            "text/plain": [
              "'I will'"
            ],
            "application/vnd.google.colaboratory.intrinsic+json": {
              "type": "string"
            }
          },
          "metadata": {},
          "execution_count": 24
        }
      ],
      "execution_count": 24
    },
    {
      "cell_type": "code",
      "source": [
        "\n",
        "contractions.fix(\"aren't you\")"
      ],
      "metadata": {
        "trusted": true,
        "execution": {
          "iopub.status.busy": "2025-01-17T18:50:13.238918Z",
          "iopub.execute_input": "2025-01-17T18:50:13.239275Z",
          "iopub.status.idle": "2025-01-17T18:50:13.244702Z",
          "shell.execute_reply.started": "2025-01-17T18:50:13.239247Z",
          "shell.execute_reply": "2025-01-17T18:50:13.243854Z"
        },
        "colab": {
          "base_uri": "https://localhost:8080/",
          "height": 36
        },
        "id": "AJE5_zV1ZPdI",
        "outputId": "dfbf8029-804b-4972-91ed-78301ea660f4"
      },
      "outputs": [
        {
          "output_type": "execute_result",
          "data": {
            "text/plain": [
              "'are not you'"
            ],
            "application/vnd.google.colaboratory.intrinsic+json": {
              "type": "string"
            }
          },
          "metadata": {},
          "execution_count": 25
        }
      ],
      "execution_count": 25
    },
    {
      "cell_type": "markdown",
      "source": [
        "#### So we need to use this contractions library to fix our text"
      ],
      "metadata": {
        "id": "h0WqwaoIZPdI"
      }
    },
    {
      "cell_type": "code",
      "source": [
        "def fix_contractions(text):\n",
        "    new_word_list = []\n",
        "    for word in text.split(' '):\n",
        "        new_word_list.append(contractions.fix(word))\n",
        "    new_text = ' '.join(new_word_list)\n",
        "    return new_text\n",
        "\n",
        "fix_contractions(\"Hi, Isn't it too late already\")"
      ],
      "metadata": {
        "trusted": true,
        "execution": {
          "iopub.status.busy": "2025-01-17T18:50:21.193303Z",
          "iopub.execute_input": "2025-01-17T18:50:21.19366Z",
          "iopub.status.idle": "2025-01-17T18:50:21.199944Z",
          "shell.execute_reply.started": "2025-01-17T18:50:21.19363Z",
          "shell.execute_reply": "2025-01-17T18:50:21.199055Z"
        },
        "colab": {
          "base_uri": "https://localhost:8080/",
          "height": 36
        },
        "id": "Zh3Ip4SZZPdJ",
        "outputId": "6c75795d-2c0b-4dba-d210-21b8c10a9134"
      },
      "outputs": [
        {
          "output_type": "execute_result",
          "data": {
            "text/plain": [
              "'Hi, Is not it too late already'"
            ],
            "application/vnd.google.colaboratory.intrinsic+json": {
              "type": "string"
            }
          },
          "metadata": {},
          "execution_count": 26
        }
      ],
      "execution_count": 26
    },
    {
      "cell_type": "code",
      "source": [
        "## Another way is to create a contractions dictionary and use it to replace the words."
      ],
      "metadata": {
        "trusted": true,
        "execution": {
          "iopub.status.busy": "2025-01-17T18:50:26.819699Z",
          "iopub.execute_input": "2025-01-17T18:50:26.820082Z",
          "iopub.status.idle": "2025-01-17T18:50:26.823554Z",
          "shell.execute_reply.started": "2025-01-17T18:50:26.820052Z",
          "shell.execute_reply": "2025-01-17T18:50:26.822612Z"
        },
        "id": "2_j8cs_rZPdJ"
      },
      "outputs": [],
      "execution_count": 27
    },
    {
      "cell_type": "code",
      "source": [
        "df.review[:50]"
      ],
      "metadata": {
        "trusted": true,
        "execution": {
          "iopub.status.busy": "2025-01-17T18:50:27.189238Z",
          "iopub.execute_input": "2025-01-17T18:50:27.189537Z",
          "iopub.status.idle": "2025-01-17T18:50:27.197333Z",
          "shell.execute_reply.started": "2025-01-17T18:50:27.189515Z",
          "shell.execute_reply": "2025-01-17T18:50:27.196541Z"
        },
        "colab": {
          "base_uri": "https://localhost:8080/",
          "height": 1000
        },
        "id": "JfI_VGMFZPdJ",
        "outputId": "00e4479e-143c-4ee8-e90c-7671723920d0"
      },
      "outputs": [
        {
          "output_type": "execute_result",
          "data": {
            "text/plain": [
              "1      \"My son is halfway through his fourth week of ...\n",
              "2      \"I used to take another oral contraceptive, wh...\n",
              "3      \"This is my first time using any form of birth...\n",
              "6      \"He pulled out, but he cummed a bit in me. I t...\n",
              "7      \"Abilify changed my life. There is hope. I was...\n",
              "9      \"I had been on the pill for many years. When m...\n",
              "11     \"I have taken anti-depressants for years, with...\n",
              "14     \"Started Nexplanon 2 months ago because I have...\n",
              "15     \"I have been taking Saxenda since July 2016.  ...\n",
              "18     \"I&#039;ve been on every medicine under the su...\n",
              "21     \"I have insomnia, it&#039;s horrible. My story...\n",
              "22     \"Nexplanon does its job. I can have worry free...\n",
              "24     \"Do not use the cream that comes with this. It...\n",
              "27     \"Hi all, My son who is 12 was diagnosed when h...\n",
              "31     \"1 week on Zoloft for anxiety and mood swings....\n",
              "32     \"I am 30 years old. I had a multiple composite...\n",
              "33     \"The burning is out of control about 20 minute...\n",
              "37     \"I have been on morphine for at least 7 years....\n",
              "40     \"I am very prone to yeast infections, I believ...\n",
              "41     \"I am just finishing my second week taking Con...\n",
              "44     \"my gp started me on Venlafaxine yesterday to ...\n",
              "47     \"Helps against sadness, and strongly counters ...\n",
              "50     \"Hey Guys,  It&#039;s been 4 months since my l...\n",
              "51     \"Intuniv did not work for my son; he was bounc...\n",
              "52     \"My pain management doctor put me on Butrans p...\n",
              "57     \"I have had great experience so far with Latud...\n",
              "59     \"Never again! After being on depo I was suppos...\n",
              "60     \"Was on this med for 5 years. Worked fine but ...\n",
              "61     \"I was put on Yasmin for 6 months to regulate ...\n",
              "62     \"I love my Butrans patch!!! And it has relieve...\n",
              "63     \"I have been on this for 8 months and sad to s...\n",
              "64     \"I was off birth control for a while consideri...\n",
              "66     \"I just hit my three month point on tretinoin ...\n",
              "67     \"This medicine saved my life. I was at my wits...\n",
              "68                      \"it caused me to gain 30 pounds\"\n",
              "69     \"Best treatment for acne I have used! I&#039;v...\n",
              "74     \"My experience during the nexplon is great not...\n",
              "75     \"I&#039;ve had mine for over a year and notice...\n",
              "77     \"I am always bleeding between periods, I&rsquo...\n",
              "81     \"Started taking it and I slept well at night a...\n",
              "82     \"I have been on pills for years, and in 2012 I...\n",
              "83     \"I had the Mirena put in almost a year ago. In...\n",
              "86     \"I appreciate Lithium. Although my thyroid lev...\n",
              "90     \"This medicine is absolutely terrible. After t...\n",
              "92     \"So yes the first use was an experience. I had...\n",
              "93     \"Had sex on the 7th of August. Took Plan B abo...\n",
              "96     \"Intake Effexor XR 375 mg, and lorazepam for d...\n",
              "97     \"I am torn by the Nuvaring. The convenience is...\n",
              "98     \"I&#039;m 30 years old.  I started having real...\n",
              "102    \"I&#039;ve seriously only been using Epiduo fo...\n",
              "Name: review, dtype: object"
            ],
            "text/html": [
              "<div>\n",
              "<style scoped>\n",
              "    .dataframe tbody tr th:only-of-type {\n",
              "        vertical-align: middle;\n",
              "    }\n",
              "\n",
              "    .dataframe tbody tr th {\n",
              "        vertical-align: top;\n",
              "    }\n",
              "\n",
              "    .dataframe thead th {\n",
              "        text-align: right;\n",
              "    }\n",
              "</style>\n",
              "<table border=\"1\" class=\"dataframe\">\n",
              "  <thead>\n",
              "    <tr style=\"text-align: right;\">\n",
              "      <th></th>\n",
              "      <th>review</th>\n",
              "    </tr>\n",
              "  </thead>\n",
              "  <tbody>\n",
              "    <tr>\n",
              "      <th>1</th>\n",
              "      <td>\"My son is halfway through his fourth week of ...</td>\n",
              "    </tr>\n",
              "    <tr>\n",
              "      <th>2</th>\n",
              "      <td>\"I used to take another oral contraceptive, wh...</td>\n",
              "    </tr>\n",
              "    <tr>\n",
              "      <th>3</th>\n",
              "      <td>\"This is my first time using any form of birth...</td>\n",
              "    </tr>\n",
              "    <tr>\n",
              "      <th>6</th>\n",
              "      <td>\"He pulled out, but he cummed a bit in me. I t...</td>\n",
              "    </tr>\n",
              "    <tr>\n",
              "      <th>7</th>\n",
              "      <td>\"Abilify changed my life. There is hope. I was...</td>\n",
              "    </tr>\n",
              "    <tr>\n",
              "      <th>9</th>\n",
              "      <td>\"I had been on the pill for many years. When m...</td>\n",
              "    </tr>\n",
              "    <tr>\n",
              "      <th>11</th>\n",
              "      <td>\"I have taken anti-depressants for years, with...</td>\n",
              "    </tr>\n",
              "    <tr>\n",
              "      <th>14</th>\n",
              "      <td>\"Started Nexplanon 2 months ago because I have...</td>\n",
              "    </tr>\n",
              "    <tr>\n",
              "      <th>15</th>\n",
              "      <td>\"I have been taking Saxenda since July 2016.  ...</td>\n",
              "    </tr>\n",
              "    <tr>\n",
              "      <th>18</th>\n",
              "      <td>\"I&amp;#039;ve been on every medicine under the su...</td>\n",
              "    </tr>\n",
              "    <tr>\n",
              "      <th>21</th>\n",
              "      <td>\"I have insomnia, it&amp;#039;s horrible. My story...</td>\n",
              "    </tr>\n",
              "    <tr>\n",
              "      <th>22</th>\n",
              "      <td>\"Nexplanon does its job. I can have worry free...</td>\n",
              "    </tr>\n",
              "    <tr>\n",
              "      <th>24</th>\n",
              "      <td>\"Do not use the cream that comes with this. It...</td>\n",
              "    </tr>\n",
              "    <tr>\n",
              "      <th>27</th>\n",
              "      <td>\"Hi all, My son who is 12 was diagnosed when h...</td>\n",
              "    </tr>\n",
              "    <tr>\n",
              "      <th>31</th>\n",
              "      <td>\"1 week on Zoloft for anxiety and mood swings....</td>\n",
              "    </tr>\n",
              "    <tr>\n",
              "      <th>32</th>\n",
              "      <td>\"I am 30 years old. I had a multiple composite...</td>\n",
              "    </tr>\n",
              "    <tr>\n",
              "      <th>33</th>\n",
              "      <td>\"The burning is out of control about 20 minute...</td>\n",
              "    </tr>\n",
              "    <tr>\n",
              "      <th>37</th>\n",
              "      <td>\"I have been on morphine for at least 7 years....</td>\n",
              "    </tr>\n",
              "    <tr>\n",
              "      <th>40</th>\n",
              "      <td>\"I am very prone to yeast infections, I believ...</td>\n",
              "    </tr>\n",
              "    <tr>\n",
              "      <th>41</th>\n",
              "      <td>\"I am just finishing my second week taking Con...</td>\n",
              "    </tr>\n",
              "    <tr>\n",
              "      <th>44</th>\n",
              "      <td>\"my gp started me on Venlafaxine yesterday to ...</td>\n",
              "    </tr>\n",
              "    <tr>\n",
              "      <th>47</th>\n",
              "      <td>\"Helps against sadness, and strongly counters ...</td>\n",
              "    </tr>\n",
              "    <tr>\n",
              "      <th>50</th>\n",
              "      <td>\"Hey Guys,  It&amp;#039;s been 4 months since my l...</td>\n",
              "    </tr>\n",
              "    <tr>\n",
              "      <th>51</th>\n",
              "      <td>\"Intuniv did not work for my son; he was bounc...</td>\n",
              "    </tr>\n",
              "    <tr>\n",
              "      <th>52</th>\n",
              "      <td>\"My pain management doctor put me on Butrans p...</td>\n",
              "    </tr>\n",
              "    <tr>\n",
              "      <th>57</th>\n",
              "      <td>\"I have had great experience so far with Latud...</td>\n",
              "    </tr>\n",
              "    <tr>\n",
              "      <th>59</th>\n",
              "      <td>\"Never again! After being on depo I was suppos...</td>\n",
              "    </tr>\n",
              "    <tr>\n",
              "      <th>60</th>\n",
              "      <td>\"Was on this med for 5 years. Worked fine but ...</td>\n",
              "    </tr>\n",
              "    <tr>\n",
              "      <th>61</th>\n",
              "      <td>\"I was put on Yasmin for 6 months to regulate ...</td>\n",
              "    </tr>\n",
              "    <tr>\n",
              "      <th>62</th>\n",
              "      <td>\"I love my Butrans patch!!! And it has relieve...</td>\n",
              "    </tr>\n",
              "    <tr>\n",
              "      <th>63</th>\n",
              "      <td>\"I have been on this for 8 months and sad to s...</td>\n",
              "    </tr>\n",
              "    <tr>\n",
              "      <th>64</th>\n",
              "      <td>\"I was off birth control for a while consideri...</td>\n",
              "    </tr>\n",
              "    <tr>\n",
              "      <th>66</th>\n",
              "      <td>\"I just hit my three month point on tretinoin ...</td>\n",
              "    </tr>\n",
              "    <tr>\n",
              "      <th>67</th>\n",
              "      <td>\"This medicine saved my life. I was at my wits...</td>\n",
              "    </tr>\n",
              "    <tr>\n",
              "      <th>68</th>\n",
              "      <td>\"it caused me to gain 30 pounds\"</td>\n",
              "    </tr>\n",
              "    <tr>\n",
              "      <th>69</th>\n",
              "      <td>\"Best treatment for acne I have used! I&amp;#039;v...</td>\n",
              "    </tr>\n",
              "    <tr>\n",
              "      <th>74</th>\n",
              "      <td>\"My experience during the nexplon is great not...</td>\n",
              "    </tr>\n",
              "    <tr>\n",
              "      <th>75</th>\n",
              "      <td>\"I&amp;#039;ve had mine for over a year and notice...</td>\n",
              "    </tr>\n",
              "    <tr>\n",
              "      <th>77</th>\n",
              "      <td>\"I am always bleeding between periods, I&amp;rsquo...</td>\n",
              "    </tr>\n",
              "    <tr>\n",
              "      <th>81</th>\n",
              "      <td>\"Started taking it and I slept well at night a...</td>\n",
              "    </tr>\n",
              "    <tr>\n",
              "      <th>82</th>\n",
              "      <td>\"I have been on pills for years, and in 2012 I...</td>\n",
              "    </tr>\n",
              "    <tr>\n",
              "      <th>83</th>\n",
              "      <td>\"I had the Mirena put in almost a year ago. In...</td>\n",
              "    </tr>\n",
              "    <tr>\n",
              "      <th>86</th>\n",
              "      <td>\"I appreciate Lithium. Although my thyroid lev...</td>\n",
              "    </tr>\n",
              "    <tr>\n",
              "      <th>90</th>\n",
              "      <td>\"This medicine is absolutely terrible. After t...</td>\n",
              "    </tr>\n",
              "    <tr>\n",
              "      <th>92</th>\n",
              "      <td>\"So yes the first use was an experience. I had...</td>\n",
              "    </tr>\n",
              "    <tr>\n",
              "      <th>93</th>\n",
              "      <td>\"Had sex on the 7th of August. Took Plan B abo...</td>\n",
              "    </tr>\n",
              "    <tr>\n",
              "      <th>96</th>\n",
              "      <td>\"Intake Effexor XR 375 mg, and lorazepam for d...</td>\n",
              "    </tr>\n",
              "    <tr>\n",
              "      <th>97</th>\n",
              "      <td>\"I am torn by the Nuvaring. The convenience is...</td>\n",
              "    </tr>\n",
              "    <tr>\n",
              "      <th>98</th>\n",
              "      <td>\"I&amp;#039;m 30 years old.  I started having real...</td>\n",
              "    </tr>\n",
              "    <tr>\n",
              "      <th>102</th>\n",
              "      <td>\"I&amp;#039;ve seriously only been using Epiduo fo...</td>\n",
              "    </tr>\n",
              "  </tbody>\n",
              "</table>\n",
              "</div><br><label><b>dtype:</b> object</label>"
            ]
          },
          "metadata": {},
          "execution_count": 28
        }
      ],
      "execution_count": 28
    },
    {
      "cell_type": "code",
      "source": [
        "# Apply fix_contractions on the review column\n",
        "import pandas as pd\n",
        "pd.options.mode.chained_assignment = None\n",
        "df['review'] = df['review'].apply(lambda text: fix_contractions(text))"
      ],
      "metadata": {
        "trusted": true,
        "execution": {
          "iopub.status.busy": "2025-01-17T18:50:37.467681Z",
          "iopub.execute_input": "2025-01-17T18:50:37.46805Z",
          "iopub.status.idle": "2025-01-17T18:50:57.765971Z",
          "shell.execute_reply.started": "2025-01-17T18:50:37.468021Z",
          "shell.execute_reply": "2025-01-17T18:50:57.765211Z"
        },
        "id": "W_vsiFc2ZPdJ"
      },
      "outputs": [],
      "execution_count": 29
    },
    {
      "cell_type": "code",
      "source": [
        "# Lower the text\n",
        "df[\"review\"] = df[\"review\"].apply(lambda text: text.lower())"
      ],
      "metadata": {
        "trusted": true,
        "execution": {
          "iopub.status.busy": "2025-01-17T18:51:06.059005Z",
          "iopub.execute_input": "2025-01-17T18:51:06.059316Z",
          "iopub.status.idle": "2025-01-17T18:51:06.173847Z",
          "shell.execute_reply.started": "2025-01-17T18:51:06.059293Z",
          "shell.execute_reply": "2025-01-17T18:51:06.173129Z"
        },
        "id": "0BznX2EKZPdJ"
      },
      "outputs": [],
      "execution_count": 30
    },
    {
      "cell_type": "code",
      "source": [
        "# Clean the text\n",
        "import re\n",
        "\n",
        "def clean_text(text):\n",
        "    pattern = r'[^a-zA-Z0-9\\s]'\n",
        "    text = re.sub(pattern,'',text)\n",
        "    return text\n",
        "\n",
        "clean_text(\"Hi I am Mr..$%^Robot\")\n",
        "\n",
        "df[\"review\"] = df[\"review\"].apply(lambda text: clean_text(text))"
      ],
      "metadata": {
        "trusted": true,
        "execution": {
          "iopub.status.busy": "2025-01-17T18:51:10.366704Z",
          "iopub.execute_input": "2025-01-17T18:51:10.367051Z",
          "iopub.status.idle": "2025-01-17T18:51:11.483819Z",
          "shell.execute_reply.started": "2025-01-17T18:51:10.367023Z",
          "shell.execute_reply": "2025-01-17T18:51:11.483081Z"
        },
        "id": "pWdAcZqcZPdJ"
      },
      "outputs": [],
      "execution_count": 31
    },
    {
      "cell_type": "code",
      "source": [
        "df.review[:10]"
      ],
      "metadata": {
        "trusted": true,
        "execution": {
          "iopub.status.busy": "2025-01-17T18:51:14.536377Z",
          "iopub.execute_input": "2025-01-17T18:51:14.53668Z",
          "iopub.status.idle": "2025-01-17T18:51:14.543323Z",
          "shell.execute_reply.started": "2025-01-17T18:51:14.536657Z",
          "shell.execute_reply": "2025-01-17T18:51:14.542364Z"
        },
        "colab": {
          "base_uri": "https://localhost:8080/",
          "height": 397
        },
        "id": "LUHH_S33ZPdJ",
        "outputId": "3786da00-ca4a-40aa-cb23-7926bcb8cb43"
      },
      "outputs": [
        {
          "output_type": "execute_result",
          "data": {
            "text/plain": [
              "1     my son is halfway through his fourth week of i...\n",
              "2     i used to take another oral contraceptive whic...\n",
              "3     this is my first time using any form of birth ...\n",
              "6     he pulled out but he cummed a bit in me i took...\n",
              "7     abilify changed my life there is hope i was on...\n",
              "9     i had been on the pill for many years when my ...\n",
              "11    i have taken antidepressants for years with so...\n",
              "14    started nexplanon 2 months ago because i have ...\n",
              "15    i have been taking saxenda since july 2016  i ...\n",
              "18    i039ve been on every medicine under the sun it...\n",
              "Name: review, dtype: object"
            ],
            "text/html": [
              "<div>\n",
              "<style scoped>\n",
              "    .dataframe tbody tr th:only-of-type {\n",
              "        vertical-align: middle;\n",
              "    }\n",
              "\n",
              "    .dataframe tbody tr th {\n",
              "        vertical-align: top;\n",
              "    }\n",
              "\n",
              "    .dataframe thead th {\n",
              "        text-align: right;\n",
              "    }\n",
              "</style>\n",
              "<table border=\"1\" class=\"dataframe\">\n",
              "  <thead>\n",
              "    <tr style=\"text-align: right;\">\n",
              "      <th></th>\n",
              "      <th>review</th>\n",
              "    </tr>\n",
              "  </thead>\n",
              "  <tbody>\n",
              "    <tr>\n",
              "      <th>1</th>\n",
              "      <td>my son is halfway through his fourth week of i...</td>\n",
              "    </tr>\n",
              "    <tr>\n",
              "      <th>2</th>\n",
              "      <td>i used to take another oral contraceptive whic...</td>\n",
              "    </tr>\n",
              "    <tr>\n",
              "      <th>3</th>\n",
              "      <td>this is my first time using any form of birth ...</td>\n",
              "    </tr>\n",
              "    <tr>\n",
              "      <th>6</th>\n",
              "      <td>he pulled out but he cummed a bit in me i took...</td>\n",
              "    </tr>\n",
              "    <tr>\n",
              "      <th>7</th>\n",
              "      <td>abilify changed my life there is hope i was on...</td>\n",
              "    </tr>\n",
              "    <tr>\n",
              "      <th>9</th>\n",
              "      <td>i had been on the pill for many years when my ...</td>\n",
              "    </tr>\n",
              "    <tr>\n",
              "      <th>11</th>\n",
              "      <td>i have taken antidepressants for years with so...</td>\n",
              "    </tr>\n",
              "    <tr>\n",
              "      <th>14</th>\n",
              "      <td>started nexplanon 2 months ago because i have ...</td>\n",
              "    </tr>\n",
              "    <tr>\n",
              "      <th>15</th>\n",
              "      <td>i have been taking saxenda since july 2016  i ...</td>\n",
              "    </tr>\n",
              "    <tr>\n",
              "      <th>18</th>\n",
              "      <td>i039ve been on every medicine under the sun it...</td>\n",
              "    </tr>\n",
              "  </tbody>\n",
              "</table>\n",
              "</div><br><label><b>dtype:</b> object</label>"
            ]
          },
          "metadata": {},
          "execution_count": 32
        }
      ],
      "execution_count": 32
    },
    {
      "cell_type": "markdown",
      "source": [
        "## Splitting the data for training model"
      ],
      "metadata": {
        "id": "4PC8Fy6VZPdK"
      }
    },
    {
      "cell_type": "code",
      "source": [
        "X_train, X_test, y_train, y_test = train_test_split(df['review'],df['condition'],test_size=0.3, stratify= df['condition'])"
      ],
      "metadata": {
        "trusted": true,
        "execution": {
          "iopub.status.busy": "2025-01-17T18:51:19.968703Z",
          "iopub.execute_input": "2025-01-17T18:51:19.969169Z",
          "iopub.status.idle": "2025-01-17T18:51:20.095664Z",
          "shell.execute_reply.started": "2025-01-17T18:51:19.96913Z",
          "shell.execute_reply": "2025-01-17T18:51:20.094897Z"
        },
        "id": "SX3fDVFLZPdK"
      },
      "outputs": [],
      "execution_count": 33
    },
    {
      "cell_type": "code",
      "source": [
        "print('Train Shape: ',X_train.shape)\n",
        "print('Test Shape: ',X_test.shape)"
      ],
      "metadata": {
        "trusted": true,
        "execution": {
          "iopub.status.busy": "2025-01-17T18:51:22.274608Z",
          "iopub.execute_input": "2025-01-17T18:51:22.2749Z",
          "iopub.status.idle": "2025-01-17T18:51:22.279852Z",
          "shell.execute_reply.started": "2025-01-17T18:51:22.274878Z",
          "shell.execute_reply": "2025-01-17T18:51:22.279041Z"
        },
        "colab": {
          "base_uri": "https://localhost:8080/"
        },
        "id": "c3fJ_YJ8ZPdK",
        "outputId": "868f592a-5c84-4899-e774-c9312dcbde09"
      },
      "outputs": [
        {
          "output_type": "stream",
          "name": "stdout",
          "text": [
            "Train Shape:  (78094,)\n",
            "Test Shape:  (33470,)\n"
          ]
        }
      ],
      "execution_count": 34
    },
    {
      "cell_type": "markdown",
      "source": [
        "## Natural Language Processing for Text Data"
      ],
      "metadata": {
        "execution": {
          "iopub.status.busy": "2025-01-03T11:20:10.031197Z",
          "iopub.execute_input": "2025-01-03T11:20:10.031545Z",
          "iopub.status.idle": "2025-01-03T11:20:10.034784Z",
          "shell.execute_reply.started": "2025-01-03T11:20:10.031516Z",
          "shell.execute_reply": "2025-01-03T11:20:10.033879Z"
        },
        "id": "gGQiMm2PZPdK"
      }
    },
    {
      "cell_type": "code",
      "source": [
        "# Check keras is installed or not\n",
        "!pip show keras"
      ],
      "metadata": {
        "trusted": true,
        "execution": {
          "iopub.status.busy": "2025-01-17T18:51:25.598104Z",
          "iopub.execute_input": "2025-01-17T18:51:25.598409Z",
          "iopub.status.idle": "2025-01-17T18:51:28.72921Z",
          "shell.execute_reply.started": "2025-01-17T18:51:25.598386Z",
          "shell.execute_reply": "2025-01-17T18:51:28.728016Z"
        },
        "colab": {
          "base_uri": "https://localhost:8080/"
        },
        "id": "65dzpYD-ZPdK",
        "outputId": "adf41b62-ff9b-492d-a06e-c60a8f9f2b2b"
      },
      "outputs": [
        {
          "output_type": "stream",
          "name": "stdout",
          "text": [
            "Name: keras\n",
            "Version: 3.8.0\n",
            "Summary: Multi-backend Keras\n",
            "Home-page: \n",
            "Author: \n",
            "Author-email: Keras team <keras-users@googlegroups.com>\n",
            "License: Apache License 2.0\n",
            "Location: /usr/local/lib/python3.11/dist-packages\n",
            "Requires: absl-py, h5py, ml-dtypes, namex, numpy, optree, packaging, rich\n",
            "Required-by: tensorflow\n"
          ]
        }
      ],
      "execution_count": 35
    },
    {
      "cell_type": "code",
      "source": [
        "# Tokenize the sentences\n",
        "\n",
        "# Necessary imports\n",
        "from tensorflow.keras.preprocessing.text import Tokenizer\n",
        "from tensorflow.keras.preprocessing.sequence import pad_sequences\n",
        "\n",
        "# Set Basic Parameters\n",
        "max_features = 120000\n",
        "maxlen = 750 # max number of words in a question to use\n",
        "\n",
        "tokenizer = Tokenizer(num_words = max_features)\n",
        "tokenizer.fit_on_texts(list(X_train))\n",
        "X_train = tokenizer.texts_to_sequences(X_train)\n",
        "X_test = tokenizer.texts_to_sequences(X_test)\n",
        "\n",
        "# Pad the sentences\n",
        "X_train = pad_sequences(X_train, maxlen=maxlen)\n",
        "X_test = pad_sequences(X_test, maxlen=maxlen)"
      ],
      "metadata": {
        "trusted": true,
        "execution": {
          "iopub.status.busy": "2025-01-17T18:51:33.055752Z",
          "iopub.execute_input": "2025-01-17T18:51:33.056153Z",
          "iopub.status.idle": "2025-01-17T18:51:55.953353Z",
          "shell.execute_reply.started": "2025-01-17T18:51:33.056119Z",
          "shell.execute_reply": "2025-01-17T18:51:55.95227Z"
        },
        "id": "yrHH0cSNZPdK"
      },
      "outputs": [],
      "execution_count": 36
    },
    {
      "cell_type": "code",
      "source": [
        "X_train"
      ],
      "metadata": {
        "trusted": true,
        "execution": {
          "iopub.status.busy": "2025-01-17T18:52:03.632105Z",
          "iopub.execute_input": "2025-01-17T18:52:03.632679Z",
          "iopub.status.idle": "2025-01-17T18:52:03.638538Z",
          "shell.execute_reply.started": "2025-01-17T18:52:03.63265Z",
          "shell.execute_reply": "2025-01-17T18:52:03.637662Z"
        },
        "colab": {
          "base_uri": "https://localhost:8080/"
        },
        "id": "6q-pz84BZPdK",
        "outputId": "897da5dc-f161-407f-916c-25bf5361f6f8"
      },
      "outputs": [
        {
          "output_type": "execute_result",
          "data": {
            "text/plain": [
              "array([[   0,    0,    0, ...,   11,  120,  246],\n",
              "       [   0,    0,    0, ...,    4, 1102,   20],\n",
              "       [   0,    0,    0, ...,    1,  110,   78],\n",
              "       ...,\n",
              "       [   0,    0,    0, ..., 1034,    2, 1511],\n",
              "       [   0,    0,    0, ..., 8070,   27,   15],\n",
              "       [   0,    0,    0, ...,  784,  655, 1793]], dtype=int32)"
            ]
          },
          "metadata": {},
          "execution_count": 37
        }
      ],
      "execution_count": 37
    },
    {
      "cell_type": "code",
      "source": [
        "X_test"
      ],
      "metadata": {
        "trusted": true,
        "execution": {
          "iopub.status.busy": "2025-01-17T18:52:04.293832Z",
          "iopub.execute_input": "2025-01-17T18:52:04.294214Z",
          "iopub.status.idle": "2025-01-17T18:52:04.300089Z",
          "shell.execute_reply.started": "2025-01-17T18:52:04.294185Z",
          "shell.execute_reply": "2025-01-17T18:52:04.299126Z"
        },
        "colab": {
          "base_uri": "https://localhost:8080/"
        },
        "id": "lp5ZxpWTZPdL",
        "outputId": "69e6d303-5491-44ab-a054-dc1c5b5a0a64"
      },
      "outputs": [
        {
          "output_type": "execute_result",
          "data": {
            "text/plain": [
              "array([[   0,    0,    0, ...,   29, 1652,    6],\n",
              "       [   0,    0,    0, ...,   20,    3,  367],\n",
              "       [   0,    0,    0, ...,  471,    3,   47],\n",
              "       ...,\n",
              "       [   0,    0,    0, ...,   24,   13,  375],\n",
              "       [   0,    0,    0, ...,   15,   73,   57],\n",
              "       [   0,    0,    0, ...,  322,   20,  346]], dtype=int32)"
            ]
          },
          "metadata": {},
          "execution_count": 38
        }
      ],
      "execution_count": 38
    },
    {
      "cell_type": "code",
      "source": [
        "y_train"
      ],
      "metadata": {
        "trusted": true,
        "execution": {
          "iopub.status.busy": "2025-01-17T18:52:05.359433Z",
          "iopub.execute_input": "2025-01-17T18:52:05.35976Z",
          "iopub.status.idle": "2025-01-17T18:52:05.36741Z",
          "shell.execute_reply.started": "2025-01-17T18:52:05.359732Z",
          "shell.execute_reply": "2025-01-17T18:52:05.366194Z"
        },
        "colab": {
          "base_uri": "https://localhost:8080/",
          "height": 458
        },
        "id": "-N_LkWH1ZPdL",
        "outputId": "b390a719-184e-4b73-b7ae-e0d4b5fd5d0d"
      },
      "outputs": [
        {
          "output_type": "execute_result",
          "data": {
            "text/plain": [
              "140441      Birth Control\n",
              "109887         Depression\n",
              "40508             Anxiety\n",
              "138626      Birth Control\n",
              "50232       Birth Control\n",
              "               ...       \n",
              "128021      Birth Control\n",
              "95580       Birth Control\n",
              "82398     Bipolar Disorde\n",
              "149394        Weight Loss\n",
              "34976                ADHD\n",
              "Name: condition, Length: 78094, dtype: object"
            ],
            "text/html": [
              "<div>\n",
              "<style scoped>\n",
              "    .dataframe tbody tr th:only-of-type {\n",
              "        vertical-align: middle;\n",
              "    }\n",
              "\n",
              "    .dataframe tbody tr th {\n",
              "        vertical-align: top;\n",
              "    }\n",
              "\n",
              "    .dataframe thead th {\n",
              "        text-align: right;\n",
              "    }\n",
              "</style>\n",
              "<table border=\"1\" class=\"dataframe\">\n",
              "  <thead>\n",
              "    <tr style=\"text-align: right;\">\n",
              "      <th></th>\n",
              "      <th>condition</th>\n",
              "    </tr>\n",
              "  </thead>\n",
              "  <tbody>\n",
              "    <tr>\n",
              "      <th>140441</th>\n",
              "      <td>Birth Control</td>\n",
              "    </tr>\n",
              "    <tr>\n",
              "      <th>109887</th>\n",
              "      <td>Depression</td>\n",
              "    </tr>\n",
              "    <tr>\n",
              "      <th>40508</th>\n",
              "      <td>Anxiety</td>\n",
              "    </tr>\n",
              "    <tr>\n",
              "      <th>138626</th>\n",
              "      <td>Birth Control</td>\n",
              "    </tr>\n",
              "    <tr>\n",
              "      <th>50232</th>\n",
              "      <td>Birth Control</td>\n",
              "    </tr>\n",
              "    <tr>\n",
              "      <th>...</th>\n",
              "      <td>...</td>\n",
              "    </tr>\n",
              "    <tr>\n",
              "      <th>128021</th>\n",
              "      <td>Birth Control</td>\n",
              "    </tr>\n",
              "    <tr>\n",
              "      <th>95580</th>\n",
              "      <td>Birth Control</td>\n",
              "    </tr>\n",
              "    <tr>\n",
              "      <th>82398</th>\n",
              "      <td>Bipolar Disorde</td>\n",
              "    </tr>\n",
              "    <tr>\n",
              "      <th>149394</th>\n",
              "      <td>Weight Loss</td>\n",
              "    </tr>\n",
              "    <tr>\n",
              "      <th>34976</th>\n",
              "      <td>ADHD</td>\n",
              "    </tr>\n",
              "  </tbody>\n",
              "</table>\n",
              "<p>78094 rows × 1 columns</p>\n",
              "</div><br><label><b>dtype:</b> object</label>"
            ]
          },
          "metadata": {},
          "execution_count": 39
        }
      ],
      "execution_count": 39
    },
    {
      "cell_type": "code",
      "source": [
        "# We need to do label encoding for target classes"
      ],
      "metadata": {
        "trusted": true,
        "execution": {
          "execution_failed": "2025-01-17T18:27:51.909Z"
        },
        "id": "B5DM4S62ZPdL"
      },
      "outputs": [],
      "execution_count": 40
    },
    {
      "cell_type": "markdown",
      "source": [
        "## Label Encoding"
      ],
      "metadata": {
        "id": "F9x_iCD2ZPdL"
      }
    },
    {
      "cell_type": "code",
      "source": [
        "from sklearn.preprocessing import LabelEncoder\n",
        "le = LabelEncoder()\n",
        "y_train = le.fit_transform(y_train)\n",
        "y_test = le.transform(y_test)"
      ],
      "metadata": {
        "trusted": true,
        "execution": {
          "iopub.status.busy": "2025-01-17T18:52:14.345612Z",
          "iopub.execute_input": "2025-01-17T18:52:14.346069Z",
          "iopub.status.idle": "2025-01-17T18:52:14.381581Z",
          "shell.execute_reply.started": "2025-01-17T18:52:14.346036Z",
          "shell.execute_reply": "2025-01-17T18:52:14.380508Z"
        },
        "id": "2IGHCvEpZPdL"
      },
      "outputs": [],
      "execution_count": 41
    },
    {
      "cell_type": "code",
      "source": [
        "y_train"
      ],
      "metadata": {
        "trusted": true,
        "execution": {
          "iopub.status.busy": "2025-01-17T18:52:14.940196Z",
          "iopub.execute_input": "2025-01-17T18:52:14.94051Z",
          "iopub.status.idle": "2025-01-17T18:52:14.946435Z",
          "shell.execute_reply.started": "2025-01-17T18:52:14.940488Z",
          "shell.execute_reply": "2025-01-17T18:52:14.945441Z"
        },
        "colab": {
          "base_uri": "https://localhost:8080/"
        },
        "id": "en4GQTH3ZPdL",
        "outputId": "114aae65-d57a-4fc2-c86e-53416604b536"
      },
      "outputs": [
        {
          "output_type": "execute_result",
          "data": {
            "text/plain": [
              "array([ 4,  5,  2, ...,  3, 13,  0])"
            ]
          },
          "metadata": {},
          "execution_count": 42
        }
      ],
      "execution_count": 42
    },
    {
      "cell_type": "code",
      "source": [
        "le.classes_"
      ],
      "metadata": {
        "trusted": true,
        "execution": {
          "iopub.status.busy": "2025-01-17T18:52:15.531274Z",
          "iopub.execute_input": "2025-01-17T18:52:15.53157Z",
          "iopub.status.idle": "2025-01-17T18:52:15.536907Z",
          "shell.execute_reply.started": "2025-01-17T18:52:15.531548Z",
          "shell.execute_reply": "2025-01-17T18:52:15.536142Z"
        },
        "colab": {
          "base_uri": "https://localhost:8080/"
        },
        "id": "mCn4OkqbZPdL",
        "outputId": "368bf9b0-7e35-4d51-96b2-42ce0c4fc0fb"
      },
      "outputs": [
        {
          "output_type": "execute_result",
          "data": {
            "text/plain": [
              "array(['ADHD', 'Acne', 'Anxiety', 'Bipolar Disorde', 'Birth Control',\n",
              "       'Depression', 'Diabetes, Type 2', 'Emergency Contraception',\n",
              "       'High Blood Pressure', 'Insomnia', 'Obesity', 'Pain',\n",
              "       'Vaginal Yeast Infection', 'Weight Loss'], dtype=object)"
            ]
          },
          "metadata": {},
          "execution_count": 43
        }
      ],
      "execution_count": 43
    },
    {
      "cell_type": "markdown",
      "source": [
        "#### Now, we have our text converted into word_index and labels encoded, now we need to load embeddings for semantic understanding."
      ],
      "metadata": {
        "id": "ABp1LwqPZPdL"
      }
    },
    {
      "cell_type": "markdown",
      "source": [
        "## Load Embeddings"
      ],
      "metadata": {
        "id": "zBmDNj_BZPdL"
      }
    },
    {
      "cell_type": "code",
      "source": [
        "# Imports\n",
        "import gensim.downloader as api\n",
        "\n",
        "\n",
        "# Download the GloVe 6B 100d model\n",
        "model = api.load(\"glove-wiki-gigaword-300\")\n",
        "\n",
        "# Check if loaded correctly\n",
        "# print(model[\"king\"])"
      ],
      "metadata": {
        "trusted": true,
        "execution": {
          "iopub.status.busy": "2025-01-17T19:32:02.869515Z",
          "iopub.execute_input": "2025-01-17T19:32:02.869848Z",
          "iopub.status.idle": "2025-01-17T19:33:14.576335Z",
          "shell.execute_reply.started": "2025-01-17T19:32:02.869824Z",
          "shell.execute_reply": "2025-01-17T19:33:14.57533Z"
        },
        "colab": {
          "base_uri": "https://localhost:8080/"
        },
        "id": "fJMw51SQZPdL",
        "outputId": "55ff5646-0f31-44ad-9dfc-a25ee34149a9"
      },
      "outputs": [
        {
          "output_type": "stream",
          "name": "stdout",
          "text": [
            "[==================================================] 100.0% 376.1/376.1MB downloaded\n"
          ]
        }
      ],
      "execution_count": 44
    },
    {
      "cell_type": "code",
      "source": [
        "# Save the GloVe model in word2vec format\n",
        "model.save_word2vec_format('glove-wiki-gigaword-300.word2vec.txt', binary=False)"
      ],
      "metadata": {
        "trusted": true,
        "execution": {
          "iopub.status.busy": "2025-01-17T19:33:46.442283Z",
          "iopub.execute_input": "2025-01-17T19:33:46.442605Z",
          "iopub.status.idle": "2025-01-17T19:34:39.851681Z",
          "shell.execute_reply.started": "2025-01-17T19:33:46.442583Z",
          "shell.execute_reply": "2025-01-17T19:34:39.850683Z"
        },
        "id": "cAxwdBLZZPdM"
      },
      "outputs": [],
      "execution_count": 45
    },
    {
      "cell_type": "code",
      "source": [
        "# We can use it now from local\n",
        "from gensim.models import KeyedVectors\n",
        "# Load pre-trained embeddings (e.g., GloVe converted to Word2Vec format)\n",
        "gensim_model = KeyedVectors.load_word2vec_format('/content/glove-wiki-gigaword-300.word2vec.txt', binary=False)\n",
        "# Check if loaded correctly\n",
        "print(gensim_model[\"king\"])"
      ],
      "metadata": {
        "trusted": true,
        "execution": {
          "iopub.status.busy": "2025-01-17T19:35:12.499425Z",
          "iopub.execute_input": "2025-01-17T19:35:12.499776Z",
          "iopub.status.idle": "2025-01-17T19:36:16.921328Z",
          "shell.execute_reply.started": "2025-01-17T19:35:12.499748Z",
          "shell.execute_reply": "2025-01-17T19:36:16.920429Z"
        },
        "colab": {
          "base_uri": "https://localhost:8080/"
        },
        "id": "KJSp18LyZPdM",
        "outputId": "b558456b-d03e-48d4-aa6b-8b67c9c37c4b"
      },
      "outputs": [
        {
          "output_type": "stream",
          "name": "stdout",
          "text": [
            "[ 0.0033901 -0.34614    0.28144    0.48382    0.59469    0.012965\n",
            "  0.53982    0.48233    0.21463   -1.0249    -0.34788   -0.79001\n",
            " -0.15084    0.61374    0.042811   0.19323    0.25462    0.32528\n",
            "  0.05698    0.063253  -0.49439    0.47337   -0.16761    0.045594\n",
            "  0.30451   -0.35416   -0.34583   -0.20118    0.25511    0.091111\n",
            "  0.014651  -0.017541  -0.23854    0.48215   -0.9145    -0.36235\n",
            "  0.34736    0.028639  -0.027065  -0.036481  -0.067391  -0.23452\n",
            " -0.13772    0.33951    0.13415   -0.1342     0.47856   -0.1842\n",
            "  0.10705   -0.45834   -0.36085   -0.22595    0.32881   -0.13643\n",
            "  0.23128    0.34269    0.42344    0.47057    0.479      0.074639\n",
            "  0.3344     0.10714   -0.13289    0.58734    0.38616   -0.52238\n",
            " -0.22028   -0.072322   0.32269    0.44226   -0.037382   0.18324\n",
            "  0.058082   0.26938    0.36202    0.13983    0.016815  -0.34426\n",
            "  0.4827     0.2108     0.75618   -0.13092   -0.025741   0.43391\n",
            "  0.33893   -0.16438    0.26817    0.68774    0.311     -0.2509\n",
            "  0.0027749 -0.39809   -0.43399    0.049531  -0.42686   -0.094679\n",
            "  0.56925    0.28742   -0.015721  -0.059162   0.1912    -0.59814\n",
            "  0.65486   -0.31363    0.16881    0.10862    0.075316   0.34093\n",
            " -0.14706    0.8359     0.39697    0.52358   -0.0096367 -0.14406\n",
            "  0.37783   -0.596     -0.063192  -0.85297   -0.3098    -1.0587\n",
            " -1.025      0.4508    -0.73324   -1.2461    -0.028488   0.20299\n",
            "  0.00259    0.31995    0.35744    0.28533    0.228      0.50956\n",
            " -0.35942    0.32683    0.046264  -0.86896   -0.2707    -0.15454\n",
            " -0.32152    0.31121    0.44134    0.85189    0.21065   -0.13741\n",
            " -0.15359   -0.059722   0.027375   0.23724   -0.39197   -0.66065\n",
            "  0.23587    0.032384  -0.64043    0.55004    0.29597    0.14989\n",
            "  0.46079   -0.26561   -0.1607    -0.36328    1.0782     0.31375\n",
            "  0.1149     0.20248    0.032748   0.41082   -0.082536   0.36606\n",
            "  0.18771    0.75415    0.079648   0.24181   -0.60319   -0.37296\n",
            " -0.047767   0.45008   -0.21135    0.022251  -0.084325   0.18644\n",
            " -0.14682    0.56571   -0.30995    0.17423   -0.41122   -0.84772\n",
            " -0.71114    0.69895   -0.13008   -0.34195   -0.30501   -0.12646\n",
            "  0.29957   -0.43488    0.31935    0.2817    -0.20631   -0.48877\n",
            "  0.34477    0.03907    1.6198    -0.6352    -0.0037675 -0.41271\n",
            "  0.30704   -0.50486    0.036385  -0.046386  -0.12004    0.010029\n",
            " -0.49116    0.041486   0.002979  -0.57694   -0.42088   -0.063218\n",
            "  0.0034244 -0.25093   -0.39689   -0.36984    0.32689    0.01385\n",
            "  0.23634   -0.055199  -0.58453    0.13211    0.50943    0.25198\n",
            " -0.0088309 -0.21273   -0.48423    0.5234    -0.32832   -0.013821\n",
            "  0.15812    0.46696    0.036822  -0.090878   0.18854    0.20794\n",
            " -0.42682    0.59705    0.53109    0.19185   -0.16392    0.064956\n",
            " -0.36009   -0.59882   -0.28134    0.1017     0.02601    0.44298\n",
            " -0.31922   -0.22432    0.7828     0.041307   0.1742     0.27777\n",
            "  0.43792   -0.84324    0.27012   -0.21547    0.52408   -0.19426\n",
            " -0.21878   -0.20713    0.092994  -0.15804    0.28716   -0.11911\n",
            " -0.20688   -0.36482    0.68548   -0.10394   -0.49974   -0.47038\n",
            " -1.2953    -0.46236    0.44467    0.13337    0.88762   -0.26494\n",
            "  0.080676  -0.20625   -0.51232    0.31112    0.062035   0.30302\n",
            " -0.33344   -0.20924   -0.17348   -0.43434   -0.45743   -0.077803\n",
            " -0.33248   -0.078633   0.82182    0.082088  -0.68795    0.30266  ]\n"
          ]
        }
      ],
      "execution_count": 46
    },
    {
      "cell_type": "markdown",
      "source": [
        "Cool, it's working"
      ],
      "metadata": {
        "id": "AV2Vtkx7ZPdM"
      }
    },
    {
      "cell_type": "code",
      "source": [
        "len(gensim_model[\"king\"])"
      ],
      "metadata": {
        "trusted": true,
        "execution": {
          "iopub.status.busy": "2025-01-17T19:36:25.20048Z",
          "iopub.execute_input": "2025-01-17T19:36:25.200778Z",
          "iopub.status.idle": "2025-01-17T19:36:25.206593Z",
          "shell.execute_reply.started": "2025-01-17T19:36:25.200757Z",
          "shell.execute_reply": "2025-01-17T19:36:25.205584Z"
        },
        "colab": {
          "base_uri": "https://localhost:8080/"
        },
        "id": "r-71EHmfZPdM",
        "outputId": "ca5a3678-66bb-4f6c-e89b-e7a3dcf3152a"
      },
      "outputs": [
        {
          "output_type": "execute_result",
          "data": {
            "text/plain": [
              "300"
            ]
          },
          "metadata": {},
          "execution_count": 47
        }
      ],
      "execution_count": 47
    },
    {
      "cell_type": "code",
      "source": [
        "len(gensim_model[\"finance\"])"
      ],
      "metadata": {
        "trusted": true,
        "execution": {
          "iopub.status.busy": "2025-01-17T19:36:27.334886Z",
          "iopub.execute_input": "2025-01-17T19:36:27.335255Z",
          "iopub.status.idle": "2025-01-17T19:36:27.340558Z",
          "shell.execute_reply.started": "2025-01-17T19:36:27.335227Z",
          "shell.execute_reply": "2025-01-17T19:36:27.339651Z"
        },
        "colab": {
          "base_uri": "https://localhost:8080/"
        },
        "id": "fbMvvMEpZPdM",
        "outputId": "8b33c029-d6bb-448d-9018-712d8567517b"
      },
      "outputs": [
        {
          "output_type": "execute_result",
          "data": {
            "text/plain": [
              "300"
            ]
          },
          "metadata": {},
          "execution_count": 48
        }
      ],
      "execution_count": 48
    },
    {
      "cell_type": "code",
      "source": [
        "# Create an Embedding Matrix: Map each word in your word_index to its vector\n",
        "# in the pre-trained embeddings:\n",
        "\n",
        "embedding_dim = 300\n",
        "word_index = tokenizer.word_index\n",
        "embedding_matrix = np.zeros((len(word_index) + 1, embedding_dim))\n",
        "\n",
        "for word, i in word_index.items():\n",
        "    if word in gensim_model:\n",
        "        embedding_matrix[i] = gensim_model[word]"
      ],
      "metadata": {
        "trusted": true,
        "execution": {
          "iopub.status.busy": "2025-01-17T19:39:10.798538Z",
          "iopub.execute_input": "2025-01-17T19:39:10.798933Z",
          "iopub.status.idle": "2025-01-17T19:39:10.978355Z",
          "shell.execute_reply.started": "2025-01-17T19:39:10.7989Z",
          "shell.execute_reply": "2025-01-17T19:39:10.977397Z"
        },
        "id": "RTDv_w3DZPdM"
      },
      "outputs": [],
      "execution_count": 49
    },
    {
      "cell_type": "markdown",
      "source": [
        "This code is typically used to populate an embedding matrix for a neural network using pre-trained word embeddings (such as GloVe or Word2Vec). The idea is to represent each word in your vocabulary as a vector of real numbers (embeddings) that capture the meaning of the word based on its context in large text corpora."
      ],
      "metadata": {
        "id": "tyYgzpIeZPdM"
      }
    },
    {
      "cell_type": "code",
      "source": [
        "word_index['depression']"
      ],
      "metadata": {
        "trusted": true,
        "execution": {
          "iopub.status.busy": "2025-01-17T19:39:14.455298Z",
          "iopub.execute_input": "2025-01-17T19:39:14.455613Z",
          "iopub.status.idle": "2025-01-17T19:39:14.461088Z",
          "shell.execute_reply.started": "2025-01-17T19:39:14.455588Z",
          "shell.execute_reply": "2025-01-17T19:39:14.460124Z"
        },
        "colab": {
          "base_uri": "https://localhost:8080/"
        },
        "id": "y59Fsj5QZPdM",
        "outputId": "f875d3bb-f5eb-4d2e-fda6-a7a148a6ab48"
      },
      "outputs": [
        {
          "output_type": "execute_result",
          "data": {
            "text/plain": [
              "114"
            ]
          },
          "metadata": {},
          "execution_count": 50
        }
      ],
      "execution_count": 50
    },
    {
      "cell_type": "code",
      "source": [
        "word_index['suicide']"
      ],
      "metadata": {
        "trusted": true,
        "execution": {
          "iopub.status.busy": "2025-01-17T19:39:16.914646Z",
          "iopub.execute_input": "2025-01-17T19:39:16.915011Z",
          "iopub.status.idle": "2025-01-17T19:39:16.92069Z",
          "shell.execute_reply.started": "2025-01-17T19:39:16.914943Z",
          "shell.execute_reply": "2025-01-17T19:39:16.919577Z"
        },
        "colab": {
          "base_uri": "https://localhost:8080/"
        },
        "id": "Om74THGjZPdN",
        "outputId": "a16f00d7-c226-4b79-bf3e-dff8e10c9883"
      },
      "outputs": [
        {
          "output_type": "execute_result",
          "data": {
            "text/plain": [
              "1413"
            ]
          },
          "metadata": {},
          "execution_count": 51
        }
      ],
      "execution_count": 51
    },
    {
      "cell_type": "code",
      "source": [
        "word_index['marriage']"
      ],
      "metadata": {
        "trusted": true,
        "execution": {
          "iopub.status.busy": "2025-01-17T19:39:18.279204Z",
          "iopub.execute_input": "2025-01-17T19:39:18.279504Z",
          "iopub.status.idle": "2025-01-17T19:39:18.28479Z",
          "shell.execute_reply.started": "2025-01-17T19:39:18.279481Z",
          "shell.execute_reply": "2025-01-17T19:39:18.283866Z"
        },
        "colab": {
          "base_uri": "https://localhost:8080/"
        },
        "id": "dzKpoqHxZPdN",
        "outputId": "10df707d-30d0-4a8f-df2c-c6647ec2d7fd"
      },
      "outputs": [
        {
          "output_type": "execute_result",
          "data": {
            "text/plain": [
              "2137"
            ]
          },
          "metadata": {},
          "execution_count": 52
        }
      ],
      "execution_count": 52
    },
    {
      "cell_type": "code",
      "source": [
        "embedding_matrix[1:3]"
      ],
      "metadata": {
        "trusted": true,
        "execution": {
          "iopub.status.busy": "2025-01-17T19:39:19.772319Z",
          "iopub.execute_input": "2025-01-17T19:39:19.772656Z",
          "iopub.status.idle": "2025-01-17T19:39:19.783035Z",
          "shell.execute_reply.started": "2025-01-17T19:39:19.772628Z",
          "shell.execute_reply": "2025-01-17T19:39:19.781918Z"
        },
        "colab": {
          "base_uri": "https://localhost:8080/"
        },
        "id": "KBUOroytZPdN",
        "outputId": "d1a7613c-1d32-440f-dcdd-de77e9814132"
      },
      "outputs": [
        {
          "output_type": "execute_result",
          "data": {
            "text/plain": [
              "array([[-1.32919997e-01,  1.69850007e-01, -1.43600002e-01,\n",
              "        -8.87219980e-02,  7.95100033e-02, -1.42120004e-01,\n",
              "        -2.42090002e-02, -2.62910008e-01, -7.48139992e-02,\n",
              "        -2.35999990e+00,  3.48300010e-01, -9.17219967e-02,\n",
              "        -5.39060012e-02,  3.04179996e-01, -1.32860005e-01,\n",
              "         5.03409980e-03, -1.50560006e-01,  2.35620001e-03,\n",
              "         6.83209971e-02,  3.42460006e-01,  3.98909986e-01,\n",
              "         5.88129997e-01,  6.06179982e-02, -1.98709995e-01,\n",
              "        -4.04650003e-01, -1.07060000e-01, -5.93119999e-03,\n",
              "        -6.48419976e-01,  1.90799996e-01, -1.76300004e-01,\n",
              "         9.24070030e-02,  3.86849999e-01, -3.10849994e-01,\n",
              "        -3.25740010e-01, -1.68229997e+00,  2.53360003e-01,\n",
              "        -2.46470004e-01, -1.08740002e-01,  7.64020020e-03,\n",
              "         3.38800013e-01, -5.97359985e-02, -8.59399974e-01,\n",
              "        -8.09639990e-02, -2.29809999e-01,  1.77090004e-01,\n",
              "         8.20939988e-02,  7.44159997e-01,  3.68730009e-01,\n",
              "         1.37400001e-01,  2.94079989e-01,  1.06470004e-01,\n",
              "        -1.32459998e-01,  1.21339999e-01, -1.42729998e-01,\n",
              "        -5.32700002e-01,  6.49360001e-01,  4.96569991e-01,\n",
              "         3.00289989e-01,  6.72259986e-01,  1.80050001e-01,\n",
              "         8.80500019e-01,  3.81439999e-02, -8.71400014e-02,\n",
              "         7.63999999e-01, -1.21069998e-01, -4.28090006e-01,\n",
              "        -1.25880003e-01,  8.83770001e-04,  1.05959997e-01,\n",
              "        -3.08019996e-01,  2.28870004e-01, -2.54680008e-01,\n",
              "        -3.64840001e-01,  7.45239973e-01, -1.52170002e-01,\n",
              "        -5.56190014e-02,  1.20490000e-01,  3.98759991e-01,\n",
              "        -2.19909996e-01, -1.84440002e-01, -9.03979987e-02,\n",
              "         1.40770003e-01,  1.28649998e+00, -4.09099996e-01,\n",
              "         2.79989988e-01,  4.20890003e-01, -7.06269979e-01,\n",
              "         7.90040016e-01,  1.38040006e-01,  3.02729994e-01,\n",
              "        -1.85340002e-01,  1.81209996e-01, -7.17320025e-01,\n",
              "        -5.42590022e-01, -2.25130003e-03,  3.04630011e-01,\n",
              "        -4.95880008e-01, -1.74620003e-01,  2.13350002e-02,\n",
              "        -2.13410005e-01, -8.23910013e-02, -3.76760006e-01,\n",
              "        -2.80010015e-01, -2.42379993e-01, -3.52490008e-01,\n",
              "        -2.41160005e-01,  2.97760010e-01,  3.70270014e-01,\n",
              "        -1.78220004e-01,  4.75369990e-01, -7.34840035e-02,\n",
              "        -2.97470003e-01, -3.63040008e-02, -8.49409997e-01,\n",
              "         4.51710001e-02,  2.87790000e-01, -1.75430000e-01,\n",
              "        -2.79249996e-01, -9.97890010e-02, -1.34930000e-01,\n",
              "        -7.81840011e-02, -3.55479985e-01,  2.16920003e-01,\n",
              "         2.58949995e-01,  2.60500014e-01, -4.31930006e-01,\n",
              "         1.20760001e-01,  2.84049988e-01,  1.56910002e-01,\n",
              "         2.13510007e-01,  5.73549986e-01, -4.75980014e-01,\n",
              "         4.57580015e-02,  6.59070015e-02, -2.41569996e-01,\n",
              "         1.57240003e-01, -3.96970004e-01, -8.72379988e-02,\n",
              "         1.11320000e-02,  4.63649988e-01, -4.30819988e-02,\n",
              "         5.63180029e-01,  5.24479985e-01,  3.87230009e-01,\n",
              "        -4.48929995e-01, -3.66170006e-03, -1.40070006e-01,\n",
              "         2.99629997e-02, -1.41680002e-01,  5.15469983e-02,\n",
              "        -7.62660027e-01, -8.07190016e-02, -1.08269997e-01,\n",
              "         2.03450006e-02, -1.45940006e-01,  1.37810007e-01,\n",
              "         3.52169991e-01, -1.94250003e-01,  4.73760009e-01,\n",
              "        -2.79500008e-01, -8.31589997e-02, -6.13860011e-01,\n",
              "        -3.43100011e-01, -9.98139977e-02, -2.40540002e-02,\n",
              "         2.05290005e-01, -2.22440008e-02,  5.91019988e-01,\n",
              "         1.70019999e-01,  5.25260009e-02, -1.91440001e-01,\n",
              "         1.21140003e-01, -5.06910026e-01, -5.19869983e-01,\n",
              "         5.47600016e-02,  1.50220007e-01,  9.26119983e-02,\n",
              "         3.45479995e-01,  3.56029987e-01,  2.34229997e-01,\n",
              "         1.34519994e-01,  1.54860001e-02,  1.72659993e-01,\n",
              "        -1.84540004e-01, -9.86820012e-02, -2.18030006e-01,\n",
              "        -1.57859996e-01,  7.04949975e-01,  3.67980003e-01,\n",
              "         2.67639995e-01, -1.43519998e-01, -5.43729998e-02,\n",
              "         4.33259994e-01, -1.63320005e-01,  2.16579996e-02,\n",
              "        -5.34080029e-01, -2.55479999e-02,  4.15340006e-01,\n",
              "        -1.62340000e-01, -4.02429998e-01,  2.00049996e+00,\n",
              "        -1.30840003e-01,  1.18239999e-01,  1.80549994e-01,\n",
              "         3.18109989e-01,  1.55080006e-01,  3.66859995e-02,\n",
              "         3.07469994e-01,  1.95199996e-01, -4.43090014e-02,\n",
              "        -6.58749998e-01,  1.86039999e-01, -1.62450001e-01,\n",
              "         4.02569994e-02, -5.39550006e-01, -1.21229999e-02,\n",
              "        -3.05789988e-03,  1.79450009e-02,  1.45030007e-01,\n",
              "        -3.56400013e-01,  4.38879997e-01, -1.14529997e-01,\n",
              "        -1.51610002e-01,  2.46639997e-01,  4.34320003e-01,\n",
              "         3.12830001e-01,  4.29190010e-01, -1.24930002e-01,\n",
              "        -1.17670000e-01, -2.20560003e-04, -3.58810008e-01,\n",
              "        -6.77779987e-02,  2.14440003e-01, -7.91710019e-01,\n",
              "        -1.10050000e-01,  3.09399992e-01, -3.01790005e-03,\n",
              "         1.33540004e-01, -2.04359993e-01, -1.63330004e-01,\n",
              "        -4.85769995e-02, -5.15130013e-02,  3.13180014e-02,\n",
              "         3.69540006e-01, -4.74480018e-02, -7.64160007e-02,\n",
              "        -7.89859987e-05, -7.25279972e-02, -8.48750025e-02,\n",
              "        -1.40129998e-01,  2.01470003e-01, -2.75160015e-01,\n",
              "        -4.89579998e-02,  3.11839998e-01,  7.18490005e-01,\n",
              "         3.05940002e-01,  4.70189989e-01, -2.83679992e-01,\n",
              "         1.00730002e-01, -4.18660015e-01,  1.76550001e-01,\n",
              "        -1.23930000e-01, -4.72470000e-02, -8.92210007e-02,\n",
              "         6.80690035e-02,  1.48059996e-02, -2.83569992e-01,\n",
              "        -2.53580004e-01,  1.32039994e-01,  6.98090017e-01,\n",
              "        -8.40200037e-02, -4.22230005e-01,  5.59610009e-01,\n",
              "         3.99539992e-02,  5.89680001e-02, -1.91019997e-01,\n",
              "        -2.20689988e+00,  8.15259963e-02,  2.52889991e-01,\n",
              "        -2.23670006e-01, -3.01420003e-01, -2.84669995e-01,\n",
              "        -8.77590030e-02, -3.96719992e-01, -2.43180007e-01,\n",
              "         1.41440004e-01, -1.23109996e-01,  6.39529992e-03,\n",
              "        -3.47609997e-01, -4.65310007e-01, -1.06150005e-03,\n",
              "        -3.92910004e-01, -1.77800000e-01, -1.21749997e-01,\n",
              "         2.43349999e-01, -7.78349996e-01,  3.95980000e-01,\n",
              "        -2.37780005e-01,  1.47660002e-01,  6.29019976e-01],\n",
              "       [ 3.84659991e-02, -3.97920012e-02,  8.27469975e-02,\n",
              "        -3.89230013e-01, -2.14310005e-01,  1.70200005e-01,\n",
              "        -2.56570000e-02,  9.57800001e-02,  2.38600001e-01,\n",
              "        -1.63419998e+00,  1.43319994e-01, -3.79579999e-02,\n",
              "        -1.95829999e-02,  3.84939998e-01,  9.73189995e-02,\n",
              "         2.96970010e-01, -3.45230013e-01,  1.17420003e-01,\n",
              "        -2.41889991e-02,  1.60129994e-01,  9.82400030e-02,\n",
              "         1.28110006e-01, -1.74820006e-01,  2.09759995e-01,\n",
              "        -2.23619998e-01, -2.06560001e-01,  2.44279996e-01,\n",
              "         6.68750033e-02, -1.25939995e-01, -1.57060008e-02,\n",
              "         6.49859980e-02,  4.75400001e-01, -5.54049984e-02,\n",
              "         5.42859972e-01, -7.51879990e-01, -8.32180008e-02,\n",
              "         1.78959996e-01,  7.30839968e-02, -3.03299993e-01,\n",
              "        -1.74160004e-01, -1.71470001e-01, -1.19199999e-01,\n",
              "         3.83079983e-02, -2.06599995e-01,  8.86790007e-02,\n",
              "        -5.59929982e-02,  3.61000001e-01,  3.86579990e-01,\n",
              "        -5.54339997e-02,  9.76990014e-02,  3.68600011e-01,\n",
              "        -3.26000005e-01,  1.30229995e-01, -2.98970014e-01,\n",
              "        -2.47089997e-01,  5.18690012e-02,  3.04220002e-02,\n",
              "         1.85859993e-01, -4.61170003e-02, -1.47650003e-01,\n",
              "         3.58949989e-01,  1.00939997e-01, -8.78219977e-02,\n",
              "        -1.75139993e-01, -2.54029989e-01, -3.58550012e-01,\n",
              "         1.58010006e-01, -2.70739999e-02,  1.25650004e-01,\n",
              "        -1.75090000e-01, -1.31259993e-01, -1.39160007e-01,\n",
              "         5.36280014e-02, -4.94289994e-02,  5.19380011e-02,\n",
              "        -4.86840010e-02,  7.17189983e-02,  8.09520036e-02,\n",
              "        -2.00179994e-01, -1.08709998e-01, -2.67069995e-01,\n",
              "        -3.57270002e-01,  3.71199995e-01,  1.67089999e-02,\n",
              "        -3.49589996e-02, -4.77109998e-02,  2.48269993e-03,\n",
              "         1.08470000e-01,  8.90529994e-03, -1.48739994e-01,\n",
              "         4.60139997e-02,  4.27020013e-01, -2.46840000e-01,\n",
              "         1.21930003e-01, -2.75790006e-01,  2.58439988e-01,\n",
              "        -2.09910005e-01, -8.66670012e-02,  1.47670001e-01,\n",
              "        -1.74410000e-01,  1.70540005e-01, -3.08679998e-01,\n",
              "        -8.79700035e-02, -1.71949998e-01, -1.17430001e-01,\n",
              "         1.21459998e-01,  6.92680031e-02,  1.33110002e-01,\n",
              "        -1.35649994e-01, -2.48549998e-01, -2.63929996e-03,\n",
              "        -7.11690009e-01, -3.25940013e-01, -3.63970011e-01,\n",
              "         5.33309989e-02,  3.57140005e-01, -3.00350010e-01,\n",
              "         4.15830016e-02, -1.19960003e-01, -2.36799996e-02,\n",
              "         1.67280007e-02,  1.58690006e-01, -1.64910004e-01,\n",
              "        -2.78200001e-01, -1.37879997e-01,  1.01779997e-01,\n",
              "        -2.41769999e-01,  9.63469967e-02,  2.36699998e-01,\n",
              "         2.08849996e-01, -2.88670003e-01,  1.07720003e-01,\n",
              "         1.55619994e-01, -1.22840004e-02, -2.21609995e-01,\n",
              "        -1.01700000e-01,  1.25699997e-01, -2.95789987e-01,\n",
              "        -8.96039978e-03,  3.50749999e-01,  2.00880002e-02,\n",
              "         2.03890000e-02,  3.88840004e-03,  3.18690002e-01,\n",
              "        -1.98479995e-01,  6.04580007e-02,  2.81480014e-01,\n",
              "        -2.34990001e-01, -1.70350000e-01, -2.23230004e-01,\n",
              "         5.79750001e-01,  2.64640003e-01, -1.01240002e-01,\n",
              "         8.10580030e-02,  1.40290007e-01,  6.64310008e-02,\n",
              "        -1.22120000e-01,  4.00339998e-02,  2.75480002e-02,\n",
              "        -1.47599995e-01,  3.14379990e-01, -2.30460003e-01,\n",
              "         2.64499992e-01, -1.09449998e-01, -3.90329987e-01,\n",
              "         1.26599997e-01, -3.09510008e-02,  6.73889965e-02,\n",
              "         1.68070003e-01,  2.23729998e-01,  1.35020003e-01,\n",
              "         3.82349998e-01, -5.28069973e-01,  5.40130019e-01,\n",
              "        -4.30620015e-02,  9.32110026e-02,  4.52109985e-02,\n",
              "        -2.42909998e-01, -4.97810006e-01,  2.64250010e-01,\n",
              "         2.63999999e-02,  1.43470004e-01,  1.17629997e-01,\n",
              "        -1.16140004e-02,  9.79320034e-02, -2.66319990e-01,\n",
              "        -2.21430004e-01,  2.51560003e-01,  8.12800005e-02,\n",
              "         1.09370001e-01, -1.21990003e-01,  1.92549992e-02,\n",
              "        -3.34630013e-01, -1.81810006e-01,  6.47239983e-02,\n",
              "         2.29210004e-01, -3.24250013e-02, -2.72949994e-01,\n",
              "         3.19830000e-01,  1.61339998e-01,  9.36919987e-01,\n",
              "        -1.21399999e-01, -1.26170004e-02,  2.52739996e-01,\n",
              "         2.46150002e-01,  1.32139996e-01,  1.60919994e-01,\n",
              "         2.05760002e-01, -5.15669994e-02, -3.78399998e-01,\n",
              "         1.97610006e-01,  1.69929996e-01, -8.71509984e-02,\n",
              "         2.69220006e-02,  3.80349994e-01,  8.33489969e-02,\n",
              "         2.47150004e-01, -1.09399997e-01,  1.54589996e-01,\n",
              "        -5.17410003e-02,  1.66040003e-01, -2.13349998e-01,\n",
              "        -3.07439994e-02, -1.45740002e-01, -5.04620016e-01,\n",
              "         3.48250002e-01, -1.23429999e-01,  1.77330002e-01,\n",
              "         2.85699993e-01, -3.04670006e-01, -1.50950000e-01,\n",
              "         3.03460002e-01, -1.56780005e-01,  6.48040026e-02,\n",
              "        -7.30080009e-02,  2.64990002e-01,  1.63120002e-01,\n",
              "         1.18890002e-01, -6.39379978e-01,  1.55980006e-01,\n",
              "        -2.36430004e-01,  5.96440017e-01,  3.87479991e-01,\n",
              "         3.35799992e-01, -5.86470008e-01,  1.25839993e-01,\n",
              "         3.61440003e-01, -3.36219996e-01,  3.81280005e-01,\n",
              "        -1.03479996e-01,  1.88250005e-01, -3.36860001e-01,\n",
              "         5.81779983e-03, -1.34499997e-01,  5.55109978e-01,\n",
              "        -5.64429983e-02,  1.50940001e-01, -2.84379989e-01,\n",
              "         2.54880004e-02,  2.03920007e-01,  5.27120009e-02,\n",
              "        -4.57190007e-01,  8.92670006e-02,  9.54689980e-02,\n",
              "        -1.90219998e-01, -1.71010002e-01, -3.75990003e-01,\n",
              "        -1.81999996e-01, -6.56049997e-02, -6.13880008e-02,\n",
              "        -1.94670007e-01, -7.03679994e-02, -2.39769995e-01,\n",
              "         3.92529994e-01, -2.12830007e-01,  1.72209993e-01,\n",
              "        -1.86699998e+00, -2.26089999e-01,  5.39759994e-01,\n",
              "        -3.35799992e-01, -4.85870004e-01, -5.02460003e-02,\n",
              "         3.16940010e-01, -1.55359998e-01,  1.22440003e-01,\n",
              "         3.83560002e-01, -1.38899997e-01,  4.18859988e-01,\n",
              "         2.36640006e-01, -3.11129987e-01,  4.51940000e-02,\n",
              "        -2.04050004e-01, -2.10969999e-01, -1.10250004e-01,\n",
              "         2.17659995e-02,  4.41289991e-01,  3.27969998e-01,\n",
              "        -3.34270000e-01,  1.18070003e-02,  5.97029999e-02]])"
            ]
          },
          "metadata": {},
          "execution_count": 53
        }
      ],
      "execution_count": 53
    },
    {
      "cell_type": "markdown",
      "source": [
        "#### Now our embedding matrix is created and now we will use this embedding matrix in our deep learning\n",
        "#### model to understand the context better and hence we should be good to classify the review\n",
        "#### and map them to relevant condition/label."
      ],
      "metadata": {
        "execution": {
          "iopub.status.busy": "2025-01-03T14:57:10.224286Z",
          "iopub.execute_input": "2025-01-03T14:57:10.224663Z",
          "iopub.status.idle": "2025-01-03T14:57:10.229052Z",
          "shell.execute_reply.started": "2025-01-03T14:57:10.224633Z",
          "shell.execute_reply": "2025-01-03T14:57:10.227852Z"
        },
        "id": "iALeTYqwZPdN"
      }
    },
    {
      "cell_type": "markdown",
      "source": [
        "## PyTorch Model - BiLSTM"
      ],
      "metadata": {
        "id": "cBHrnJ3WZPdN"
      }
    },
    {
      "cell_type": "markdown",
      "source": [
        "#### Helpful Links\n",
        "Understanding Number Of Parameters: https://youtu.be/B08baRr2LlY <br>\n",
        "requires_grad: https://pytorch.org/docs/stable/generated/torch.Tensor.requires_grad_.html <br>\n",
        "nn.LSTM: https://pytorch.org/docs/stable/generated/torch.nn.LSTM.html\n",
        "<br> Cross Entropy Loss Function: https://www.datacamp.com/tutorial/the-cross-entropy-loss-function-in-machine-learning <br>\n",
        "Cross Entropy Pytorch: https://pytorch.org/docs/stable/generated/torch.nn.CrossEntropyLoss.html <br>\n",
        "Optimizer.step() function : https://discuss.pytorch.org/t/how-are-optimizer-step-and-loss-backward-related/7350 <br>\n",
        "Tensor.detach() : https://www.geeksforgeeks.org/tensor-detach-method-in-python-pytorch/ <br>\n",
        "Softmax Activation function: https://www.analyticsvidhya.com/blog/2021/04/introduction-to-softmax-for-neural-network/"
      ],
      "metadata": {
        "id": "uKYl3oKLZPdN"
      }
    },
    {
      "cell_type": "code",
      "source": [
        "# Imports Required\n",
        "import torch as t\n",
        "import torch.nn as nn\n",
        "import torch.nn.functional as F\n",
        "\n",
        "embed_size = 300 # how big is each word vector\n",
        "max_features = 120000 # how many unique words to use (i.e num rows in embedding vector)\n",
        "\n",
        "class BiLSTM(nn.Module):\n",
        "\n",
        "    def __init__(self):\n",
        "        super(BiLSTM, self).__init__()\n",
        "        self.hidden_size = 64\n",
        "        dropout = 0.1\n",
        "        n_classes = len(le.classes_)\n",
        "        self.embedding = nn.Embedding(max_features, embed_size)\n",
        "        self.embedding.weight = nn.Parameter(torch.tensor(embedding_matrix, dtype=torch.float32))\n",
        "        self.embedding.weight.requires_grad = False\n",
        "        self.lstm = nn.LSTM(embed_size, self.hidden_size, bidirectional=True, batch_first=True)\n",
        "        # embed_size is the input size for each word (Sequence)\n",
        "        # hidden_size is the number of neurons in each hidden layer (features)\n",
        "        # batch_first=True-> input and output tensors are provided as (batch, seq, feature) instead of (seq, batch, feature)\n",
        "        self.linear = nn.Linear(self.hidden_size*4, 64)\n",
        "        self.relu = nn.ReLU()\n",
        "        self.dropout = nn.Dropout(dropout)\n",
        "        self.out = nn.Linear(64, n_classes)\n",
        "\n",
        "    def forward(self,x):\n",
        "        h_embedding  = self.embedding(x)\n",
        "        h_lstm, _ = self.lstm(h_embedding)\n",
        "        avg_pool = torch.mean(h_lstm, 1)\n",
        "        max_pool, _ = torch.max(h_lstm, 1)\n",
        "        conc = torch.cat((avg_pool, max_pool),1)\n",
        "        conc = self.relu(self.linear(conc))\n",
        "        conc = self.dropout(conc)\n",
        "        out = self.out(conc)\n",
        "        return out\n"
      ],
      "metadata": {
        "trusted": true,
        "execution": {
          "iopub.status.busy": "2025-01-17T19:44:31.490819Z",
          "iopub.execute_input": "2025-01-17T19:44:31.491219Z",
          "iopub.status.idle": "2025-01-17T19:44:31.498646Z",
          "shell.execute_reply.started": "2025-01-17T19:44:31.491185Z",
          "shell.execute_reply": "2025-01-17T19:44:31.497589Z"
        },
        "id": "jl7jQlYyZPdN"
      },
      "outputs": [],
      "execution_count": 54
    },
    {
      "cell_type": "markdown",
      "source": [
        "The `forward` function in PyTorch defines how the input data flows through the neural network layers. It does not overwrite a default function but implements the custom behavior of the model, specifying the sequence of operations for processing input data. In PyTorch, the `nn.Module` class provides a base implementation for neural network modules, and it requires the user to define a `forward` method for their specific model.\n",
        "\n",
        "### Why is the `forward` function written?\n",
        "1. **Customizing the Model's Forward Pass**:\n",
        "   - In the `BiLSTM` class, the `forward` function explicitly defines how input data `x` is processed through the model.\n",
        "   - It includes operations like embedding lookup, passing data through an LSTM layer, pooling (mean and max), concatenation, and applying activation functions, dropout, and fully connected layers.\n",
        "\n",
        "2. **Designing Model-Specific Computations**:\n",
        "   - While the `__init__` method defines the layers and their parameters, the `forward` method specifies how these layers are used to process data.\n",
        "   - The `forward` function allows you to design specific computational flows unique to your model's requirements.\n",
        "\n",
        "### Why doesn't it overwrite a default function?\n",
        "- The `forward` method does not replace any existing behavior because the base `nn.Module` class does not implement a specific `forward` method for you. Instead, it provides a framework where you must define it to make the module functional.\n",
        "- When you call the model object (e.g., `model(x)`), PyTorch internally calls the `forward` method of your class. This behavior is implemented in the `__call__` method of the `nn.Module` class.\n",
        "\n",
        "### Example Workflow\n",
        "When you pass data through the model:\n",
        "```python\n",
        "model = BiLSTM()\n",
        "output = model(input_data)\n",
        "```\n",
        "The `__call__` method of `nn.Module` is triggered, which then calls your custom `forward` method. This makes the flow seamless and modular, allowing you to focus on defining your model's logic.\n",
        "\n",
        "### Key Points About the `forward` Function\n",
        "- It encapsulates the sequence of operations applied to the input tensor.\n",
        "- It is flexible and can include any PyTorch operations, custom logic, or even non-linear execution flows like loops and conditionals.\n",
        "- While PyTorch does provide prebuilt layers and operations, the `forward` method ensures you can chain them together in a way that suits your specific problem.\n",
        "\n",
        "So, the `forward` method is not overwriting a default function but is instead a required implementation in PyTorch's design to define how data flows through your custom model."
      ],
      "metadata": {
        "id": "IuaNjUWiZPdN"
      }
    },
    {
      "cell_type": "markdown",
      "source": [
        "You typically **do not** call the `forward()` function explicitly in your code. Instead, you call the model object directly, and PyTorch internally invokes the `forward()` method for you.\n",
        "\n",
        "Here's how it works:\n",
        "\n",
        "### Example\n",
        "Suppose you have a `BiLSTM` model and some input data `x`:\n",
        "```python\n",
        "model = BiLSTM()  # Instantiate the model\n",
        "output = model(x)  # Call the model directly\n",
        "```\n",
        "\n",
        "When you call `model(x)`, PyTorch's `__call__()` method in `nn.Module` is triggered, which does the following:\n",
        "1. Performs pre-processing tasks (e.g., hooks or layer initializations, if any).\n",
        "2. Calls your `forward()` method.\n",
        "3. Handles post-processing tasks (if required).\n",
        "\n",
        "This design makes the code more elegant and ensures compatibility with PyTorch's ecosystem, such as:\n",
        "- **Training loops**: Works seamlessly with `loss.backward()` and `optimizer.step()`.\n",
        "- **Hooks**: Allows attaching hooks to monitor or modify input/output during the forward and backward passes.\n",
        "- **Model extensions**: Works well with advanced features like distributed training or quantization.\n",
        "\n",
        "### When Might You Explicitly Call `forward()`?\n",
        "While it’s rare, you **can** call `model.forward(x)` directly if you want to bypass the additional functionality provided by `__call__()`. However, this is discouraged because:\n",
        "- It skips any hooks or extra functionality PyTorch provides.\n",
        "- It can make your code less consistent with standard PyTorch practices.\n",
        "\n",
        "### Key Takeaway\n",
        "You **don’t need to use `forward()` explicitly** in typical scenarios. Just call the model object, and PyTorch will handle the rest. The `forward()` method is where you define the logic of your model, but you interact with it through the model's `__call__()` interface."
      ],
      "metadata": {
        "id": "CKMGDvC8ZPdN"
      }
    },
    {
      "cell_type": "markdown",
      "source": [
        "# Forward Function Description\n",
        "Let’s break down the `forward` function step by step to understand what it does:\n",
        "\n",
        "### Code Breakdown\n",
        "\n",
        "```python\n",
        "def forward(self, x):\n",
        "    h_embedding = self.embedding(x)\n",
        "```\n",
        "- **Purpose**: Converts input indices `x` into dense vector representations using the `embedding` layer.\n",
        "- **Input**: `x` is a tensor of token indices (e.g., word indices for text).\n",
        "- **Output**: `h_embedding`, a tensor of shape `(batch_size, sequence_length, embed_size)`, where each index in the sequence is mapped to an `embed_size` dimensional vector.\n",
        "\n",
        "---\n",
        "\n",
        "```python\n",
        "h_lstm = self.lstm(h_embedding)\n",
        "```\n",
        "- **Purpose**: Passes the embedding tensor through an LSTM layer.\n",
        "- **Input**: `h_embedding` from the previous step.\n",
        "- **Output**:\n",
        "  - `h_lstm`: Contains the hidden states for all time steps of the LSTM. Shape: `(batch_size, sequence_length, 2 * hidden_size)` because the LSTM is bidirectional (concatenating outputs from both directions).\n",
        "\n",
        "---\n",
        "\n",
        "```python\n",
        "avg_pool = torch.mean(h_lstm, 1)\n",
        "```\n",
        "- **Purpose**: Applies average pooling across the sequence dimension (`dim=1`), reducing it to a single vector.\n",
        "- **Output**: `avg_pool`, a tensor of shape `(batch_size, 2 * hidden_size)` that represents the average information across all time steps.\n",
        "\n",
        "---\n",
        "\n",
        "```python\n",
        "max_pool, _ = torch.max(h_lstm, 1)\n",
        "```\n",
        "- **Purpose**: Applies max pooling across the sequence dimension (`dim=1`), selecting the maximum value for each feature.\n",
        "- **Output**: `max_pool`, a tensor of shape `(batch_size, 2 * hidden_size)`.\n",
        "\n",
        "---\n",
        "\n",
        "```python\n",
        "conc = torch.cat((avg_pool, max_pool), 1)\n",
        "```\n",
        "- **Purpose**: Concatenates the results of average pooling and max pooling along the feature dimension (`dim=1`).\n",
        "- **Output**: `conc`, a tensor of shape `(batch_size, 4 * hidden_size)` because it combines two `(batch_size, 2 * hidden_size)` tensors.\n",
        "\n",
        "---\n",
        "\n",
        "```python\n",
        "conc = self.relu(self.linear(conc))\n",
        "```\n",
        "- **Purpose**:\n",
        "  - Passes the concatenated tensor through a fully connected (linear) layer to reduce the feature size from `4 * hidden_size` to `64`.\n",
        "  - Applies a ReLU activation to introduce non-linearity.\n",
        "- **Output**: `conc`, a tensor of shape `(batch_size, 64)`.\n",
        "\n",
        "---\n",
        "\n",
        "```python\n",
        "conc = self.dropout(conc)\n",
        "```\n",
        "- **Purpose**: Applies dropout to `conc` to reduce overfitting during training by randomly setting a fraction of the features to zero.\n",
        "- **Output**: `conc`, a tensor of shape `(batch_size, 64)` with some elements randomly zeroed out during training.\n",
        "\n",
        "---\n",
        "\n",
        "```python\n",
        "out = self.out(conc)\n",
        "```\n",
        "- **Purpose**: Passes the tensor through the final fully connected layer (`self.out`) to map it to the number of output classes.\n",
        "- **Output**: `out`, a tensor of shape `(batch_size, n_classes)`, where `n_classes` is the number of classes in the classification task.\n",
        "\n",
        "---\n",
        "\n",
        "```python\n",
        "return out\n",
        "```\n",
        "- **Purpose**: Returns the final output, which represents the predicted scores (logits) for each class.\n",
        "\n",
        "---\n",
        "\n",
        "### Summary of the Flow\n",
        "1. **Input**: A tensor of token indices `x`.\n",
        "2. **Embedding**: Convert indices to dense vectors using `nn.Embedding`.\n",
        "3. **LSTM**: Pass the embeddings through a bidirectional LSTM.\n",
        "4. **Pooling**: Compute average pooling and max pooling across the sequence dimension.\n",
        "5. **Concatenation**: Combine the pooled results into a single tensor.\n",
        "6. **Linear Transformation**: Reduce dimensionality and apply non-linearity using a fully connected layer and ReLU.\n",
        "7. **Dropout**: Apply dropout to reduce overfitting.\n",
        "8. **Output Layer**: Map the processed features to the number of classes.\n",
        "\n",
        "This function models a text classification pipeline, where the input text sequence is transformed into a final prediction for classification tasks."
      ],
      "metadata": {
        "id": "UWmVHXdkZPdO"
      }
    },
    {
      "cell_type": "code",
      "source": [
        "# embed_size = 300 # how big is each word vector\n",
        "# max_features = 120000 # how many unique words to use (i.e num rows in embedding vector)\n",
        "# maxlen = 750 # max number of words in a question to use\n",
        "# batch_size = 512 # how many samples to process at once\n",
        "# n_epochs = 5 # how many times to iterate over all samples\n",
        "# n_splits = 5 # Number of K-fold Splits\n",
        "# SEED = 10\n",
        "# debug = 0"
      ],
      "metadata": {
        "trusted": true,
        "execution": {
          "execution_failed": "2025-01-17T18:27:51.911Z"
        },
        "id": "WVgeHbohZPdO"
      },
      "outputs": [],
      "execution_count": 55
    },
    {
      "cell_type": "markdown",
      "source": [
        "In PyTorch, the optimizer.zero_grad() method is used to clear out the gradients of all parameters that the optimizer is tracking. When we train a neural network, we typically use a technique called backpropagation to compute the gradients of the loss with respect to the model parameters. These gradients are used to update the parameters via the optimizer’s update rule.\n",
        "\n",
        "Now, why do we need to zero out the gradients before computing the gradients of the current minibatch? When we call the backward() method on the loss tensor, the gradients computed by PyTorch accumulate (i.e., they are added to the existing gradients) for each parameter during each iteration. This is useful when we want to accumulate gradients across multiple batches, but it can lead to incorrect gradient computations when we only want to compute the gradients for a single batch. Therefore, before calling backward() for a new minibatch, we need to zero out the gradients from the previous minibatch. Otherwise, we would be using stale gradients from previous minibatches, which could lead to incorrect parameter updates.\n",
        "\n",
        "To summarize, if we didn’t call optimizer.zero_grad(), the gradients would accumulate across all minibatches, leading to incorrect gradient computations and ultimately poor model performance. It is essential to zero out the gradients before computing the gradients for each minibatch to ensure accurate and timely parameter updates."
      ],
      "metadata": {
        "id": "PvEq5FO4ZPdO"
      }
    },
    {
      "cell_type": "code",
      "source": [
        "# Train BiLSTM Model\n",
        "import torch\n",
        "n_epochs = 10 # how many times to iterate over all samples\n",
        "model = BiLSTM()\n",
        "loss_fn = nn.CrossEntropyLoss(reduction='sum')\n",
        "optimizer = torch.optim.Adam(filter(lambda p: p.requires_grad, model.parameters()), lr=0.001)\n",
        "model.cuda()\n",
        "\n",
        "# Load train and test in Cuda memory\n",
        "# X_train = torch.tensor(X_train, dtype=torch.long).cuda()\n",
        "# y_train = torch.tensor(y_train, dtype=torch.long).cuda()\n",
        "X_train = torch.as_tensor(X_train, dtype=torch.long).cuda()\n",
        "y_train = torch.as_tensor(y_train, dtype=torch.long).cuda()\n",
        "x_cv = torch.tensor(X_test, dtype=torch.long).cuda()\n",
        "y_cv = torch.tensor(y_test, dtype=torch.long).cuda()\n",
        "\n",
        "# Create torch datasets\n",
        "from torch.utils.data import Dataset, DataLoader, TensorDataset\n",
        "train = TensorDataset(X_train, y_train)\n",
        "valid = TensorDataset(x_cv, y_cv)\n",
        "\n",
        "# Create Dataloaders\n",
        "batch_size = 512 # how many samples to process at once\n",
        "train_loader = DataLoader(train, batch_size= batch_size, shuffle=True)\n",
        "valid_loader = DataLoader(valid, batch_size= batch_size, shuffle=False)\n",
        "\n",
        "train_loss = []\n",
        "valid_loss = []\n",
        "\n",
        "import time\n",
        "for epoch in range(n_epochs):\n",
        "    start_time = time.time()\n",
        "    # Set model to train configuration to train the model first\n",
        "    model.train()\n",
        "    avg_loss = 0\n",
        "    for i, (x_batch, y_batch) in enumerate(train_loader):\n",
        "        # Predict/Forward pass\n",
        "        y_pred = model(x_batch)\n",
        "        # Compute Loss\n",
        "        loss = loss_fn(y_pred, y_batch)\n",
        "        optimizer.zero_grad() #Explaination above\n",
        "        loss.backward()\n",
        "        optimizer.step()\n",
        "        avg_loss += loss.item() / len(train_loader)\n",
        "\n",
        "    # Set model for validation configuration and the model doesn't get trained here\n",
        "    model.eval()\n",
        "    avg_val_loss = 0.\n",
        "    val_preds = np.zeros((len(x_cv), len(le.classes_)))\n",
        "\n",
        "    for i, (x_batch, y_batch) in enumerate(valid_loader):\n",
        "        y_pred = model(x_batch).detach()\n",
        "        avg_val_loss += loss_fn(y_pred, y_batch).item() / len(valid_loader)\n",
        "        # Store predictions\n",
        "        val_preds[i*batch_size:(i+1) * batch_size] = F.softmax(y_pred, dim=-1).cpu().numpy()\n",
        "\n",
        "    # Check Accuracy\n",
        "    val_accuracy = sum(val_preds.argmax(axis=1) == y_test)/len(y_test)\n",
        "    train_loss.append(avg_loss)\n",
        "    valid_loss.append(avg_val_loss)\n",
        "    elapsed_time = time.time() - start_time\n",
        "    print('Epoch {}/{} \\t loss={:.4f} \\t val_loss={:.4f} \\t val_acc={:.4f} \\t time={:.2f}s'.format(\n",
        "        epoch+1, n_epochs, avg_loss, avg_val_loss, val_accuracy, elapsed_time))"
      ],
      "metadata": {
        "trusted": true,
        "execution": {
          "iopub.status.busy": "2025-01-17T19:44:48.387482Z",
          "iopub.execute_input": "2025-01-17T19:44:48.387791Z",
          "iopub.status.idle": "2025-01-17T19:50:15.98689Z",
          "shell.execute_reply.started": "2025-01-17T19:44:48.387768Z",
          "shell.execute_reply": "2025-01-17T19:50:15.985879Z"
        },
        "colab": {
          "base_uri": "https://localhost:8080/"
        },
        "id": "l8tkRUUoZPdO",
        "outputId": "a144370e-7582-4aff-83be-680718c10c3c"
      },
      "outputs": [
        {
          "output_type": "stream",
          "name": "stdout",
          "text": [
            "Epoch 1/10 \t loss=854.5567 \t val_loss=494.7071 \t val_acc=0.6584 \t time=27.52s\n",
            "Epoch 2/10 \t loss=384.1323 \t val_loss=293.9754 \t val_acc=0.8055 \t time=27.65s\n",
            "Epoch 3/10 \t loss=278.0388 \t val_loss=248.5353 \t val_acc=0.8291 \t time=28.79s\n",
            "Epoch 4/10 \t loss=241.9308 \t val_loss=230.7378 \t val_acc=0.8397 \t time=29.73s\n",
            "Epoch 5/10 \t loss=221.6345 \t val_loss=220.1697 \t val_acc=0.8467 \t time=31.19s\n",
            "Epoch 6/10 \t loss=205.0382 \t val_loss=214.4323 \t val_acc=0.8504 \t time=31.53s\n",
            "Epoch 7/10 \t loss=192.0708 \t val_loss=207.2067 \t val_acc=0.8552 \t time=31.62s\n",
            "Epoch 8/10 \t loss=179.5461 \t val_loss=203.0369 \t val_acc=0.8595 \t time=31.39s\n",
            "Epoch 9/10 \t loss=169.7704 \t val_loss=197.8415 \t val_acc=0.8603 \t time=31.39s\n",
            "Epoch 10/10 \t loss=159.0830 \t val_loss=193.7412 \t val_acc=0.8644 \t time=31.40s\n"
          ]
        }
      ],
      "execution_count": 56
    },
    {
      "cell_type": "code",
      "source": [
        "def plot_graph(epochs):\n",
        "    fig = plt.figure(figsize=(12,12))\n",
        "    plt.title(\"Train/Validation Loss\")\n",
        "    plt.plot(list(np.arange(epochs) + 1) , train_loss, label='train')\n",
        "    plt.plot(list(np.arange(epochs) + 1), valid_loss, label='validation')\n",
        "    plt.xlabel('num_epochs', fontsize=12)\n",
        "    plt.ylabel('loss', fontsize=12)\n",
        "    plt.legend(loc='best')"
      ],
      "metadata": {
        "trusted": true,
        "execution": {
          "iopub.status.busy": "2025-01-17T19:51:16.195049Z",
          "iopub.execute_input": "2025-01-17T19:51:16.195409Z",
          "iopub.status.idle": "2025-01-17T19:51:16.200915Z",
          "shell.execute_reply.started": "2025-01-17T19:51:16.195382Z",
          "shell.execute_reply": "2025-01-17T19:51:16.199803Z"
        },
        "id": "jLvniWmcZPdP"
      },
      "outputs": [],
      "execution_count": 57
    },
    {
      "cell_type": "code",
      "source": [
        "plot_graph(n_epochs)"
      ],
      "metadata": {
        "trusted": true,
        "execution": {
          "iopub.status.busy": "2025-01-17T19:51:19.783735Z",
          "iopub.execute_input": "2025-01-17T19:51:19.784125Z",
          "iopub.status.idle": "2025-01-17T19:51:20.145027Z",
          "shell.execute_reply.started": "2025-01-17T19:51:19.784093Z",
          "shell.execute_reply": "2025-01-17T19:51:20.144053Z"
        },
        "id": "9OQFhI7pZPdP",
        "colab": {
          "base_uri": "https://localhost:8080/",
          "height": 879
        },
        "outputId": "0102708f-adba-437f-8a5d-62514a2cbe33"
      },
      "outputs": [
        {
          "output_type": "display_data",
          "data": {
            "text/plain": [
              "<Figure size 1200x1200 with 1 Axes>"
            ],
            "image/png": "[encoded data removed]"
          },
          "metadata": {}
        }
      ],
      "execution_count": 58
    },
    {
      "cell_type": "code",
      "source": [
        "torch.save(model,'bilstm_model')"
      ],
      "metadata": {
        "trusted": true,
        "execution": {
          "iopub.status.busy": "2025-01-17T19:51:24.741395Z",
          "iopub.execute_input": "2025-01-17T19:51:24.74175Z",
          "iopub.status.idle": "2025-01-17T19:51:24.880338Z",
          "shell.execute_reply.started": "2025-01-17T19:51:24.741719Z",
          "shell.execute_reply": "2025-01-17T19:51:24.879574Z"
        },
        "id": "4-vExYq4ZPdP"
      },
      "outputs": [],
      "execution_count": 59
    },
    {
      "cell_type": "markdown",
      "source": [
        "## Deploy"
      ],
      "metadata": {
        "execution": {
          "iopub.status.busy": "2025-01-15T06:48:23.365616Z",
          "iopub.execute_input": "2025-01-15T06:48:23.365999Z",
          "iopub.status.idle": "2025-01-15T06:48:23.369865Z",
          "shell.execute_reply.started": "2025-01-15T06:48:23.365968Z",
          "shell.execute_reply": "2025-01-15T06:48:23.368866Z"
        },
        "id": "EjU6PAtGZPdP"
      }
    },
    {
      "cell_type": "code",
      "source": [
        "### Predict a single example\n",
        "def predict_single(x):\n",
        "    # lower the text\n",
        "    x = x.lower()\n",
        "    # Clean the text\n",
        "    x =  clean_text(x)\n",
        "    # Clean Contractions\n",
        "    x = fix_contractions(x)\n",
        "    # tokenize\n",
        "    x = tokenizer.texts_to_sequences([x])\n",
        "    # pad\n",
        "    x = pad_sequences(x, maxlen=maxlen)\n",
        "    # create dataset\n",
        "    x = torch.as_tensor(x, dtype=torch.long).cuda()\n",
        "\n",
        "    pred = model(x).detach()\n",
        "    pred = F.softmax(pred, dim=-1).cpu().numpy()\n",
        "\n",
        "    pred = pred.argmax(axis=1)\n",
        "\n",
        "    pred = le.classes_[pred]\n",
        "    return pred[0]\n",
        "\n",
        "\n",
        "\n"
      ],
      "metadata": {
        "trusted": true,
        "execution": {
          "iopub.status.busy": "2025-01-17T20:28:01.304248Z",
          "iopub.execute_input": "2025-01-17T20:28:01.30457Z",
          "iopub.status.idle": "2025-01-17T20:28:01.310039Z",
          "shell.execute_reply.started": "2025-01-17T20:28:01.304545Z",
          "shell.execute_reply": "2025-01-17T20:28:01.308928Z"
        },
        "id": "pS1xDP2YZPdP"
      },
      "outputs": [],
      "execution_count": 60
    },
    {
      "cell_type": "code",
      "source": [
        "import pandas as pd\n",
        "\n",
        "def recommend_drugs(predicted_condition, df, top_n=5):\n",
        "    \"\"\"\n",
        "    Recommend top drugs for a predicted condition based on positive reviews.\n",
        "\n",
        "    Args:\n",
        "        predicted_condition (str): The predicted condition.\n",
        "        df (pd.DataFrame): The dataset containing drug reviews.\n",
        "        top_n (int): Number of top drugs to recommend.\n",
        "\n",
        "    Returns:\n",
        "        pd.DataFrame: Top N drugs with the most positive reviews and highest ratings.\n",
        "    \"\"\"\n",
        "    # Filter the dataset for the predicted condition\n",
        "    condition_df = df[df['condition'] == predicted_condition]\n",
        "\n",
        "    # Filter for positive reviews (e.g., rating >= 8)\n",
        "    positive_reviews_df = condition_df[condition_df['rating'] >= 8]\n",
        "\n",
        "    # Group by drug and calculate the number of positive reviews and average rating\n",
        "    drug_stats = positive_reviews_df.groupby('drugName').agg(\n",
        "        num_reviews=('rating', 'size'),  # Count the number of reviews\n",
        "        avg_rating=('rating', 'mean')    # Calculate the average rating\n",
        "    ).reset_index()\n",
        "\n",
        "    # Sort by number of reviews and average rating\n",
        "    drug_stats = drug_stats.sort_values(by=['num_reviews', 'avg_rating'], ascending=False)\n",
        "\n",
        "    # Return the top N drugs\n",
        "    return drug_stats.head(top_n)\n",
        "\n",
        "# Example usage\n",
        "# Load the dataset\n",
        "df = pd.read_csv('/content/kuc-hackathon-winter-2018/versions/2/drugsComTrain_raw.csv')\n",
        "\n",
        "# Predict a condition (for example, \"Depression\")\n",
        "predicted_condition = \"Acne\"\n",
        "\n",
        "# Recommend top drugs for the predicted condition\n",
        "top_drugs = recommend_drugs(predicted_condition, df, top_n=5)\n",
        "print(f\"Top Recommended Drugs for {predicted_condition}:\")\n",
        "print(top_drugs)"
      ],
      "metadata": {
        "colab": {
          "base_uri": "https://localhost:8080/"
        },
        "id": "WRAW5JP9wjj5",
        "outputId": "dde2fd53-864c-4602-de3d-7cbd47b638dd"
      },
      "execution_count": 61,
      "outputs": [
        {
          "output_type": "stream",
          "name": "stdout",
          "text": [
            "Top Recommended Drugs for Acne:\n",
            "                        drugName  num_reviews  avg_rating\n",
            "57                  Isotretinoin          409    9.459658\n",
            "6   Adapalene / benzoyl peroxide          272    9.169118\n",
            "44                        Epiduo          259    9.173745\n",
            "2                       Accutane          253    9.561265\n",
            "39                   Doxycycline          231    9.095238\n"
          ]
        }
      ]
    },
    {
      "cell_type": "code",
      "source": [
        "x = data['review'].values[20]\n",
        "print(x)"
      ],
      "metadata": {
        "trusted": true,
        "execution": {
          "iopub.status.busy": "2025-01-17T20:28:04.496589Z",
          "iopub.execute_input": "2025-01-17T20:28:04.496894Z",
          "iopub.status.idle": "2025-01-17T20:28:04.502003Z",
          "shell.execute_reply.started": "2025-01-17T20:28:04.496868Z",
          "shell.execute_reply": "2025-01-17T20:28:04.500783Z"
        },
        "colab": {
          "base_uri": "https://localhost:8080/"
        },
        "id": "WLJfS9ciZPdP",
        "outputId": "b092e5bd-6d88-4b9d-b7f4-198e01c17bec"
      },
      "outputs": [
        {
          "output_type": "stream",
          "name": "stdout",
          "text": [
            "\"Spring of 2008 I was hospitalized with pnuemonia and diagnosed with Lyme diease and full blown AIDS with CD4 count of &quot;11&quot; viral load some number so high in the millions I could never remember. I was taking Combivir and Kaletra with Dapsone for the 1st year then it stopped working. I started Kaletra with the Dapsone my CD4 count is now 209 and rising. For a few weeks I was very aggressive and broke all my dishes in the house LOL. I take vitamin supplements and drink a boost pluz every day. LIfe is good now!\"\n"
          ]
        }
      ],
      "execution_count": 62
    },
    {
      "cell_type": "code",
      "source": [
        "\n",
        "predicted_condition = predict_single(x)\n",
        "\n",
        "# Recommend top drugs for the predicted condition\n",
        "top_drugs = recommend_drugs(predicted_condition, df, top_n=5)\n",
        "print(f\"Top Recommended Drugs for {predicted_condition}:\")\n",
        "print(top_drugs)"
      ],
      "metadata": {
        "trusted": true,
        "execution": {
          "iopub.status.busy": "2025-01-17T20:28:06.300855Z",
          "iopub.execute_input": "2025-01-17T20:28:06.301184Z",
          "iopub.status.idle": "2025-01-17T20:28:06.31119Z",
          "shell.execute_reply.started": "2025-01-17T20:28:06.301159Z",
          "shell.execute_reply": "2025-01-17T20:28:06.310167Z"
        },
        "colab": {
          "base_uri": "https://localhost:8080/"
        },
        "id": "UYMfqDRGZPdP",
        "outputId": "41e00051-9f57-466f-e307-60dd32138489"
      },
      "outputs": [
        {
          "output_type": "stream",
          "name": "stdout",
          "text": [
            "Top Recommended Drugs for Vaginal Yeast Infection:\n",
            "       drugName  num_reviews  avg_rating\n",
            "19  Tioconazole          211    9.303318\n",
            "8    Miconazole          139    9.050360\n",
            "4   Fluconazole          106    9.396226\n",
            "3      Diflucan           31    9.516129\n",
            "18  Terconazole           22    9.363636\n"
          ]
        }
      ],
      "execution_count": 63
    },
    {
      "cell_type": "code",
      "source": [
        "data.condition.values[20]"
      ],
      "metadata": {
        "trusted": true,
        "execution": {
          "iopub.status.busy": "2025-01-17T20:28:08.430504Z",
          "iopub.execute_input": "2025-01-17T20:28:08.430793Z",
          "iopub.status.idle": "2025-01-17T20:28:08.436199Z",
          "shell.execute_reply.started": "2025-01-17T20:28:08.430772Z",
          "shell.execute_reply": "2025-01-17T20:28:08.435279Z"
        },
        "id": "tkgfrTA4ZPdQ",
        "colab": {
          "base_uri": "https://localhost:8080/",
          "height": 36
        },
        "outputId": "eefdb0f8-6023-429c-94a7-61d6e73298a3"
      },
      "outputs": [
        {
          "output_type": "execute_result",
          "data": {
            "text/plain": [
              "'HIV Infection'"
            ],
            "application/vnd.google.colaboratory.intrinsic+json": {
              "type": "string"
            }
          },
          "metadata": {},
          "execution_count": 64
        }
      ],
      "execution_count": 64
    },
    {
      "cell_type": "code",
      "source": [
        "x = data['review'].values[1]\n",
        "print(x)"
      ],
      "metadata": {
        "trusted": true,
        "execution": {
          "iopub.status.busy": "2025-01-17T20:28:09.801691Z",
          "iopub.execute_input": "2025-01-17T20:28:09.802099Z",
          "iopub.status.idle": "2025-01-17T20:28:09.80676Z",
          "shell.execute_reply.started": "2025-01-17T20:28:09.802067Z",
          "shell.execute_reply": "2025-01-17T20:28:09.805628Z"
        },
        "colab": {
          "base_uri": "https://localhost:8080/"
        },
        "id": "D4H1mEJEZPdQ",
        "outputId": "1f4d4947-0d29-479f-967c-f567e7d65612"
      },
      "outputs": [
        {
          "output_type": "stream",
          "name": "stdout",
          "text": [
            "\"My son is halfway through his fourth week of Intuniv. We became concerned when he began this last week, when he started taking the highest dose he will be on. For two days, he could hardly get out of bed, was very cranky, and slept for nearly 8 hours on a drive home from school vacation (very unusual for him.) I called his doctor on Monday morning and she said to stick it out a few days. See how he did at school, and with getting up in the morning. The last two days have been problem free. He is MUCH more agreeable than ever. He is less emotional (a good thing), less cranky. He is remembering all the things he should. Overall his behavior is better. \r\n",
            "We have tried many different medications and so far this is the most effective.\"\n"
          ]
        }
      ],
      "execution_count": 65
    },
    {
      "cell_type": "code",
      "source": [
        "\n",
        "predicted_condition = predict_single(x)\n",
        "\n",
        "# Recommend top drugs for the predicted condition\n",
        "top_drugs = recommend_drugs(predicted_condition, df, top_n=5)\n",
        "print(f\"Top Recommended Drugs for {predicted_condition}:\")\n",
        "print(top_drugs)"
      ],
      "metadata": {
        "trusted": true,
        "execution": {
          "iopub.status.busy": "2025-01-17T20:28:11.5455Z",
          "iopub.execute_input": "2025-01-17T20:28:11.545845Z",
          "iopub.status.idle": "2025-01-17T20:28:11.555847Z",
          "shell.execute_reply.started": "2025-01-17T20:28:11.545818Z",
          "shell.execute_reply": "2025-01-17T20:28:11.55506Z"
        },
        "id": "EQkYpYSnZPdQ",
        "colab": {
          "base_uri": "https://localhost:8080/"
        },
        "outputId": "e4d51b15-c6b6-4f63-a77a-fa736a4bb3b1"
      },
      "outputs": [
        {
          "output_type": "stream",
          "name": "stdout",
          "text": [
            "Top Recommended Drugs for ADHD:\n",
            "                           drugName  num_reviews  avg_rating\n",
            "27                 Lisdexamfetamine          280    9.150000\n",
            "46                          Vyvanse          271    9.210332\n",
            "5   Amphetamine / dextroamphetamine          265    9.192453\n",
            "32                  Methylphenidate          242    9.165289\n",
            "0                          Adderall          127    9.338583\n"
          ]
        }
      ],
      "execution_count": 66
    },
    {
      "cell_type": "code",
      "source": [
        "data.condition.values[1]"
      ],
      "metadata": {
        "trusted": true,
        "execution": {
          "iopub.status.busy": "2025-01-17T20:28:12.378226Z",
          "iopub.execute_input": "2025-01-17T20:28:12.378515Z",
          "iopub.status.idle": "2025-01-17T20:28:12.383886Z",
          "shell.execute_reply.started": "2025-01-17T20:28:12.378492Z",
          "shell.execute_reply": "2025-01-17T20:28:12.383057Z"
        },
        "id": "RsrmTaltZPdQ",
        "colab": {
          "base_uri": "https://localhost:8080/",
          "height": 36
        },
        "outputId": "be738127-418a-4fb8-d979-24f351769de6"
      },
      "outputs": [
        {
          "output_type": "execute_result",
          "data": {
            "text/plain": [
              "'ADHD'"
            ],
            "application/vnd.google.colaboratory.intrinsic+json": {
              "type": "string"
            }
          },
          "metadata": {},
          "execution_count": 67
        }
      ],
      "execution_count": 67
    },
    {
      "cell_type": "code",
      "source": [
        "x = data['review'].values[7]\n",
        "print(x)"
      ],
      "metadata": {
        "trusted": true,
        "execution": {
          "iopub.status.busy": "2025-01-17T20:28:14.61748Z",
          "iopub.execute_input": "2025-01-17T20:28:14.617772Z",
          "iopub.status.idle": "2025-01-17T20:28:14.622712Z",
          "shell.execute_reply.started": "2025-01-17T20:28:14.61775Z",
          "shell.execute_reply": "2025-01-17T20:28:14.62169Z"
        },
        "colab": {
          "base_uri": "https://localhost:8080/"
        },
        "id": "14i5020tZPdQ",
        "outputId": "05a7f724-400e-4d34-adca-42c933c4455b"
      },
      "outputs": [
        {
          "output_type": "stream",
          "name": "stdout",
          "text": [
            "\"Abilify changed my life. There is hope. I was on Zoloft and Clonidine when I first started Abilify at the age of 15.. Zoloft for depression and Clondine to manage my complete rage. My moods were out of control. I was depressed and hopeless one second and then mean, irrational, and full of rage the next. My Dr. prescribed me 2mg of Abilify and from that point on I feel like I have been cured though I know I&#039;m not.. Bi-polar disorder is a constant battle. I know Abilify works for me because I have tried to get off it and lost complete control over my emotions. Went back on it and I was golden again.  I am on 5mg 2x daily. I am now 21 and better than I have ever been in the past. Only side effect is I like to eat a lot.\"\n"
          ]
        }
      ],
      "execution_count": 68
    },
    {
      "cell_type": "code",
      "source": [
        "\n",
        "predicted_condition = predict_single(x)\n",
        "\n",
        "# Recommend top drugs for the predicted condition\n",
        "top_drugs = recommend_drugs(predicted_condition, df, top_n=5)\n",
        "print(f\"Top Recommended Drugs for {predicted_condition}:\")\n",
        "print(top_drugs)"
      ],
      "metadata": {
        "trusted": true,
        "execution": {
          "iopub.status.busy": "2025-01-17T20:28:16.844841Z",
          "iopub.execute_input": "2025-01-17T20:28:16.845211Z",
          "iopub.status.idle": "2025-01-17T20:28:16.855791Z",
          "shell.execute_reply.started": "2025-01-17T20:28:16.845182Z",
          "shell.execute_reply": "2025-01-17T20:28:16.854757Z"
        },
        "id": "aPYmOFr9ZPdQ",
        "colab": {
          "base_uri": "https://localhost:8080/"
        },
        "outputId": "39f9e367-ad76-4902-bd90-8562b26b025d"
      },
      "outputs": [
        {
          "output_type": "stream",
          "name": "stdout",
          "text": [
            "Top Recommended Drugs for Bipolar Disorde:\n",
            "       drugName  num_reviews  avg_rating\n",
            "36  Lamotrigine          325    9.393846\n",
            "34     Lamictal          239    9.430962\n",
            "50   Quetiapine          184    9.152174\n",
            "42   Lurasidone          162    9.265432\n",
            "37       Latuda          156    9.237179\n"
          ]
        }
      ],
      "execution_count": 69
    },
    {
      "cell_type": "code",
      "source": [
        "data.condition.values[7]"
      ],
      "metadata": {
        "trusted": true,
        "execution": {
          "iopub.status.busy": "2025-01-17T20:28:18.433016Z",
          "iopub.execute_input": "2025-01-17T20:28:18.433363Z",
          "iopub.status.idle": "2025-01-17T20:28:18.439537Z",
          "shell.execute_reply.started": "2025-01-17T20:28:18.433334Z",
          "shell.execute_reply": "2025-01-17T20:28:18.438563Z"
        },
        "colab": {
          "base_uri": "https://localhost:8080/",
          "height": 36
        },
        "id": "U06dY_iIZPdQ",
        "outputId": "3888def7-aaf5-43bb-b7c6-19c2e36a6272"
      },
      "outputs": [
        {
          "output_type": "execute_result",
          "data": {
            "text/plain": [
              "'Bipolar Disorde'"
            ],
            "application/vnd.google.colaboratory.intrinsic+json": {
              "type": "string"
            }
          },
          "metadata": {},
          "execution_count": 70
        }
      ],
      "execution_count": 70
    },
    {
      "cell_type": "markdown",
      "source": [
        "# Our model is providing 85% validation accuracy on correctly able to identify the condition classes."
      ],
      "metadata": {
        "id": "mkUal-XhZPdQ"
      }
    },
    {
      "cell_type": "code",
      "source": [
        "# The End"
      ],
      "metadata": {
        "trusted": true,
        "execution": {
          "execution_failed": "2025-01-17T18:27:51.913Z"
        },
        "id": "yaj3UEv9ZPdQ"
      },
      "outputs": [],
      "execution_count": 71
    },
    {
      "cell_type": "code",
      "source": [
        "# Example inputs for the specified conditions\n",
        "texts = [\n",
        "    # Birth Control\n",
        "    \"I have been taking birth control pills for a few months now, and they are working well for me.\",\n",
        "    # Depression\n",
        "    \"I feel extremely sad and hopeless, and I don't enjoy things I used to love.\",\n",
        "    # Pain\n",
        "    \"I have been experiencing severe back pain for the past week, and it's not getting better.\",\n",
        "    # Anxiety\n",
        "    \"I feel constantly worried and nervous, and it's affecting my daily life.\",\n",
        "    # Acne\n",
        "    \"I have been struggling with acne for years, and nothing seems to work.\",\n",
        "    # Bipolar Disorde\n",
        "    \"I have extreme mood swings, from feeling very happy to very depressed.\",\n",
        "    # Insomnia\n",
        "    \"I have trouble falling asleep and staying asleep at night.\",\n",
        "    # Weight Loss\n",
        "    \"I have been trying to lose weight, but I'm not seeing any results.\",\n",
        "    # Obesity\n",
        "    \"I have been struggling with obesity for a long time, and it's affecting my health.\",\n",
        "    # ADHD\n",
        "    \"I have trouble focusing on tasks and often feel restless.\",\n",
        "    # Diabetes, Type 2\n",
        "    \"I have been diagnosed with type 2 diabetes, and I'm struggling to manage my blood sugar levels.\",\n",
        "    # Emergency Contraception\n",
        "    \"I took emergency contraception after unprotected sex, and I'm worried about the side effects.\",\n",
        "    # High Blood Pressure\n",
        "    \"I have been diagnosed with high blood pressure, and I'm trying to manage it with medication.\",\n",
        "    # Vaginal Yeast Infection\n",
        "    \"I have been experiencing itching and discomfort in my vaginal area, and I think it might be a yeast infection.\"\n",
        "]\n",
        "\n",
        "# Expected outputs\n",
        "for text in texts:\n",
        "    print(f\"Input: {text}\")\n",
        "    print(f\"Predicted Condition: {predict_single(text)}\")\n",
        "    print()"
      ],
      "metadata": {
        "trusted": true,
        "execution": {
          "iopub.status.busy": "2025-01-17T20:45:34.719847Z",
          "iopub.execute_input": "2025-01-17T20:45:34.72033Z",
          "iopub.status.idle": "2025-01-17T20:45:34.74025Z",
          "shell.execute_reply.started": "2025-01-17T20:45:34.720294Z",
          "shell.execute_reply": "2025-01-17T20:45:34.739258Z"
        },
        "id": "Wt0bEfFNZPdQ",
        "colab": {
          "base_uri": "https://localhost:8080/"
        },
        "outputId": "1b0acf5c-771f-4198-9829-003e894bdf03"
      },
      "outputs": [
        {
          "output_type": "stream",
          "name": "stdout",
          "text": [
            "Input: I have been taking birth control pills for a few months now, and they are working well for me.\n",
            "Predicted Condition: Birth Control\n",
            "\n",
            "Input: I feel extremely sad and hopeless, and I don't enjoy things I used to love.\n",
            "Predicted Condition: Depression\n",
            "\n",
            "Input: I have been experiencing severe back pain for the past week, and it's not getting better.\n",
            "Predicted Condition: Pain\n",
            "\n",
            "Input: I feel constantly worried and nervous, and it's affecting my daily life.\n",
            "Predicted Condition: Depression\n",
            "\n",
            "Input: I have been struggling with acne for years, and nothing seems to work.\n",
            "Predicted Condition: Acne\n",
            "\n",
            "Input: I have extreme mood swings, from feeling very happy to very depressed.\n",
            "Predicted Condition: Birth Control\n",
            "\n",
            "Input: I have trouble falling asleep and staying asleep at night.\n",
            "Predicted Condition: Insomnia\n",
            "\n",
            "Input: I have been trying to lose weight, but I'm not seeing any results.\n",
            "Predicted Condition: Obesity\n",
            "\n",
            "Input: I have been struggling with obesity for a long time, and it's affecting my health.\n",
            "Predicted Condition: Obesity\n",
            "\n",
            "Input: I have trouble focusing on tasks and often feel restless.\n",
            "Predicted Condition: ADHD\n",
            "\n",
            "Input: I have been diagnosed with type 2 diabetes, and I'm struggling to manage my blood sugar levels.\n",
            "Predicted Condition: Diabetes, Type 2\n",
            "\n",
            "Input: I took emergency contraception after unprotected sex, and I'm worried about the side effects.\n",
            "Predicted Condition: Emergency Contraception\n",
            "\n",
            "Input: I have been diagnosed with high blood pressure, and I'm trying to manage it with medication.\n",
            "Predicted Condition: High Blood Pressure\n",
            "\n",
            "Input: I have been experiencing itching and discomfort in my vaginal area, and I think it might be a yeast infection.\n",
            "Predicted Condition: Vaginal Yeast Infection\n",
            "\n"
          ]
        }
      ],
      "execution_count": 72
    },
    {
      "cell_type": "code",
      "source": [
        "import torch\n",
        "import numpy as np\n",
        "from sklearn.metrics import accuracy_score, classification_report\n",
        "from torch.utils.data import DataLoader, TensorDataset\n",
        "\n",
        "# Ensure the model is in evaluation mode\n",
        "model.eval()\n",
        "\n",
        "# Convert test data to PyTorch tensors\n",
        "X_test_tensor = torch.tensor(X_test, dtype=torch.long)\n",
        "y_test_tensor = torch.tensor(y_test, dtype=torch.long)\n",
        "\n",
        "# Move model and data to GPU if available\n",
        "device = torch.device('cuda' if torch.cuda.is_available() else 'cpu')\n",
        "model.to(device)\n",
        "\n",
        "# Create a DataLoader for the test data\n",
        "test_dataset = TensorDataset(X_test_tensor, y_test_tensor)\n",
        "test_loader = DataLoader(test_dataset, batch_size=32, shuffle=False, pin_memory=True)\n",
        "\n",
        "# Make predictions in batches with mixed precision\n",
        "y_pred_classes = []\n",
        "with torch.no_grad():\n",
        "    for inputs, _ in test_loader:\n",
        "        inputs = inputs.to(device)\n",
        "        with torch.amp.autocast(device_type='cuda', dtype=torch.float16):  # Enable mixed precision\n",
        "            outputs = model(inputs)\n",
        "        _, preds = torch.max(outputs, dim=1)\n",
        "        y_pred_classes.extend(preds.cpu().numpy())\n",
        "\n",
        "y_pred_classes = np.array(y_pred_classes)\n",
        "\n",
        "# Calculate accuracy\n",
        "accuracy = accuracy_score(y_test, y_pred_classes)\n",
        "print(f\"Model Accuracy: {accuracy * 100:.2f}%\")\n",
        "\n",
        "# Generate classification report\n",
        "print(\"\\nClassification Report:\")\n",
        "print(classification_report(y_test, y_pred_classes, target_names=le.classes_))"
      ],
      "metadata": {
        "trusted": true,
        "execution": {
          "iopub.status.busy": "2025-01-17T21:04:02.90655Z",
          "iopub.execute_input": "2025-01-17T21:04:02.906877Z",
          "iopub.status.idle": "2025-01-17T21:04:08.06153Z",
          "shell.execute_reply.started": "2025-01-17T21:04:02.906852Z",
          "shell.execute_reply": "2025-01-17T21:04:08.06023Z"
        },
        "id": "Wk0Jh__SZPdR",
        "colab": {
          "base_uri": "https://localhost:8080/"
        },
        "outputId": "f5905108-407f-47f0-8de0-19d9fc2850fb"
      },
      "outputs": [
        {
          "output_type": "stream",
          "name": "stdout",
          "text": [
            "Model Accuracy: 86.43%\n",
            "\n",
            "Classification Report:\n",
            "                         precision    recall  f1-score   support\n",
            "\n",
            "                   ADHD       0.90      0.85      0.87      1353\n",
            "                   Acne       0.93      0.90      0.91      2231\n",
            "                Anxiety       0.77      0.74      0.75      2344\n",
            "        Bipolar Disorde       0.81      0.70      0.76      1681\n",
            "          Birth Control       0.97      0.98      0.98     11531\n",
            "             Depression       0.73      0.80      0.76      3649\n",
            "       Diabetes, Type 2       0.88      0.84      0.86      1009\n",
            "Emergency Contraception       0.98      0.96      0.97       987\n",
            "    High Blood Pressure       0.75      0.87      0.81       931\n",
            "               Insomnia       0.84      0.86      0.85      1471\n",
            "                Obesity       0.55      0.65      0.60      1427\n",
            "                   Pain       0.90      0.94      0.92      2474\n",
            "Vaginal Yeast Infection       0.95      0.94      0.95       925\n",
            "            Weight Loss       0.65      0.45      0.53      1457\n",
            "\n",
            "               accuracy                           0.86     33470\n",
            "              macro avg       0.83      0.82      0.82     33470\n",
            "           weighted avg       0.87      0.86      0.86     33470\n",
            "\n"
          ]
        }
      ],
      "execution_count": 73
    },
    {
      "cell_type": "code",
      "source": [
        "from sklearn.metrics import confusion_matrix\n",
        "import seaborn as sns\n",
        "import matplotlib.pyplot as plt\n",
        "\n",
        "cm = confusion_matrix(y_test, y_pred_classes)\n",
        "plt.figure(figsize=(12, 10))\n",
        "sns.heatmap(cm, annot=True, fmt='d', cmap='Blues', xticklabels=le.classes_, yticklabels=le.classes_)\n",
        "plt.xlabel('Predicted')\n",
        "plt.ylabel('Actual')\n",
        "plt.title('Confusion Matrix')\n",
        "plt.show()"
      ],
      "metadata": {
        "trusted": true,
        "execution": {
          "iopub.status.busy": "2025-01-17T21:07:31.833687Z",
          "iopub.execute_input": "2025-01-17T21:07:31.834067Z",
          "iopub.status.idle": "2025-01-17T21:07:32.513113Z",
          "shell.execute_reply.started": "2025-01-17T21:07:31.834036Z",
          "shell.execute_reply": "2025-01-17T21:07:32.512105Z"
        },
        "id": "hehnEvYpZPdR",
        "colab": {
          "base_uri": "https://localhost:8080/",
          "height": 805
        },
        "outputId": "39bc0041-4e17-4466-b62f-e41ce649e84d"
      },
      "outputs": [
        {
          "output_type": "display_data",
          "data": {
            "text/plain": [
              "<Figure size 1200x1000 with 2 Axes>"
            ],
            "image/png": "[encoded data removed]"
          },
          "metadata": {}
        }
      ],
      "execution_count": 74
    }
  ]
}